{
  "nbformat": 4,
  "nbformat_minor": 0,
  "metadata": {
    "colab": {
      "provenance": [],
      "gpuType": "T4"
    },
    "kernelspec": {
      "name": "python3",
      "display_name": "Python 3"
    },
    "language_info": {
      "name": "python"
    },
    "accelerator": "GPU"
  },
  "cells": [
    {
      "cell_type": "markdown",
      "source": [
        "# VGG16 Network"
      ],
      "metadata": {
        "id": "ny5sRGwcwWJz"
      }
    },
    {
      "cell_type": "code",
      "execution_count": 1,
      "metadata": {
        "id": "e7qkcYJbvQEb"
      },
      "outputs": [],
      "source": [
        "import torch\n",
        "import torch.nn as nn\n",
        "\n",
        "class VGG16Scratch(nn.Module):\n",
        "    def __init__(self, num_classes=1000):  # must match for loading weights\n",
        "        super(VGG16Scratch, self).__init__()\n",
        "\n",
        "        self.features = nn.Sequential(\n",
        "            # Block 1\n",
        "            nn.Conv2d(3, 64, kernel_size=3, padding=1), nn.ReLU(inplace=True),\n",
        "            nn.Conv2d(64, 64, kernel_size=3, padding=1), nn.ReLU(inplace=True),\n",
        "            nn.MaxPool2d(kernel_size=2, stride=2),\n",
        "\n",
        "            # Block 2\n",
        "            nn.Conv2d(64, 128, kernel_size=3, padding=1), nn.ReLU(inplace=True),\n",
        "            nn.Conv2d(128, 128, kernel_size=3, padding=1), nn.ReLU(inplace=True),\n",
        "            nn.MaxPool2d(kernel_size=2, stride=2),\n",
        "\n",
        "            # Block 3\n",
        "            nn.Conv2d(128, 256, kernel_size=3, padding=1), nn.ReLU(inplace=True),\n",
        "            nn.Conv2d(256, 256, kernel_size=3, padding=1), nn.ReLU(inplace=True),\n",
        "            nn.Conv2d(256, 256, kernel_size=3, padding=1), nn.ReLU(inplace=True),\n",
        "            nn.MaxPool2d(kernel_size=2, stride=2),\n",
        "\n",
        "            # Block 4\n",
        "            nn.Conv2d(256, 512, kernel_size=3, padding=1), nn.ReLU(inplace=True),\n",
        "            nn.Conv2d(512, 512, kernel_size=3, padding=1), nn.ReLU(inplace=True),\n",
        "            nn.Conv2d(512, 512, kernel_size=3, padding=1), nn.ReLU(inplace=True),\n",
        "            nn.MaxPool2d(kernel_size=2, stride=2),\n",
        "\n",
        "            # Block 5\n",
        "            nn.Conv2d(512, 512, kernel_size=3, padding=1), nn.ReLU(inplace=True),\n",
        "            nn.Conv2d(512, 512, kernel_size=3, padding=1), nn.ReLU(inplace=True),\n",
        "            nn.Conv2d(512, 512, kernel_size=3, padding=1), nn.ReLU(inplace=True),\n",
        "            nn.MaxPool2d(kernel_size=2, stride=2),\n",
        "        )\n",
        "\n",
        "        self.classifier = nn.Sequential(\n",
        "            nn.Linear(512 * 7 * 7, 4096),\n",
        "            nn.ReLU(True),\n",
        "            nn.Dropout(0.5),\n",
        "            nn.Linear(4096, 4096),\n",
        "            nn.ReLU(True),\n",
        "            nn.Dropout(0.5),\n",
        "            nn.Linear(4096, num_classes),  # must be 1000 to match pretrained\n",
        "        )\n",
        "\n",
        "    def forward(self, x):\n",
        "        x = self.features(x)\n",
        "        x = x.view(x.size(0), -1)\n",
        "        x = self.classifier(x)\n",
        "        return x\n"
      ]
    },
    {
      "cell_type": "markdown",
      "source": [
        "# Print Parameters Per Layer"
      ],
      "metadata": {
        "id": "KNYnb5VBwaSX"
      }
    },
    {
      "cell_type": "code",
      "source": [
        "model = VGG16Scratch(num_classes=20)\n",
        "print(\"Trainable parameters:\")\n",
        "for name, param in model.named_parameters():\n",
        "    if param.requires_grad:\n",
        "        print(f\"{name}: {param.numel()} parameters\")"
      ],
      "metadata": {
        "colab": {
          "base_uri": "https://localhost:8080/"
        },
        "id": "HPvJhUltwT53",
        "outputId": "19bc6b29-8a9a-44d2-9d22-1b25f9e92ff9"
      },
      "execution_count": 2,
      "outputs": [
        {
          "output_type": "stream",
          "name": "stdout",
          "text": [
            "Trainable parameters:\n",
            "features.0.weight: 1728 parameters\n",
            "features.0.bias: 64 parameters\n",
            "features.2.weight: 36864 parameters\n",
            "features.2.bias: 64 parameters\n",
            "features.5.weight: 73728 parameters\n",
            "features.5.bias: 128 parameters\n",
            "features.7.weight: 147456 parameters\n",
            "features.7.bias: 128 parameters\n",
            "features.10.weight: 294912 parameters\n",
            "features.10.bias: 256 parameters\n",
            "features.12.weight: 589824 parameters\n",
            "features.12.bias: 256 parameters\n",
            "features.14.weight: 589824 parameters\n",
            "features.14.bias: 256 parameters\n",
            "features.17.weight: 1179648 parameters\n",
            "features.17.bias: 512 parameters\n",
            "features.19.weight: 2359296 parameters\n",
            "features.19.bias: 512 parameters\n",
            "features.21.weight: 2359296 parameters\n",
            "features.21.bias: 512 parameters\n",
            "features.24.weight: 2359296 parameters\n",
            "features.24.bias: 512 parameters\n",
            "features.26.weight: 2359296 parameters\n",
            "features.26.bias: 512 parameters\n",
            "features.28.weight: 2359296 parameters\n",
            "features.28.bias: 512 parameters\n",
            "classifier.0.weight: 102760448 parameters\n",
            "classifier.0.bias: 4096 parameters\n",
            "classifier.3.weight: 16777216 parameters\n",
            "classifier.3.bias: 4096 parameters\n",
            "classifier.6.weight: 81920 parameters\n",
            "classifier.6.bias: 20 parameters\n"
          ]
        }
      ]
    },
    {
      "cell_type": "markdown",
      "source": [
        "# Visual Summary"
      ],
      "metadata": {
        "id": "cuNmOpli0W6Y"
      }
    },
    {
      "cell_type": "code",
      "source": [
        "pip install torchsummary"
      ],
      "metadata": {
        "colab": {
          "base_uri": "https://localhost:8080/"
        },
        "id": "HUegd8fk0bxp",
        "outputId": "a75f0f25-738c-4570-f144-51f4c391be62"
      },
      "execution_count": 3,
      "outputs": [
        {
          "output_type": "stream",
          "name": "stdout",
          "text": [
            "Requirement already satisfied: torchsummary in /usr/local/lib/python3.11/dist-packages (1.5.1)\n"
          ]
        }
      ]
    },
    {
      "cell_type": "code",
      "source": [
        "from torchsummary import summary\n",
        "\n",
        "device = torch.device(\"cuda\" if torch.cuda.is_available() else \"cpu\")\n",
        "model = model.to(device)  # make sure model is on GPU\n",
        "\n",
        "summary(model, input_size=(3, 224, 224), device=\"cuda\")  # tell summary to use cuda too\n"
      ],
      "metadata": {
        "colab": {
          "base_uri": "https://localhost:8080/"
        },
        "id": "eDCYqW8b0dTf",
        "outputId": "fa3edfb6-bebc-49eb-d1ec-50947f5d472e"
      },
      "execution_count": 4,
      "outputs": [
        {
          "output_type": "stream",
          "name": "stdout",
          "text": [
            "----------------------------------------------------------------\n",
            "        Layer (type)               Output Shape         Param #\n",
            "================================================================\n",
            "            Conv2d-1         [-1, 64, 224, 224]           1,792\n",
            "              ReLU-2         [-1, 64, 224, 224]               0\n",
            "            Conv2d-3         [-1, 64, 224, 224]          36,928\n",
            "              ReLU-4         [-1, 64, 224, 224]               0\n",
            "         MaxPool2d-5         [-1, 64, 112, 112]               0\n",
            "            Conv2d-6        [-1, 128, 112, 112]          73,856\n",
            "              ReLU-7        [-1, 128, 112, 112]               0\n",
            "            Conv2d-8        [-1, 128, 112, 112]         147,584\n",
            "              ReLU-9        [-1, 128, 112, 112]               0\n",
            "        MaxPool2d-10          [-1, 128, 56, 56]               0\n",
            "           Conv2d-11          [-1, 256, 56, 56]         295,168\n",
            "             ReLU-12          [-1, 256, 56, 56]               0\n",
            "           Conv2d-13          [-1, 256, 56, 56]         590,080\n",
            "             ReLU-14          [-1, 256, 56, 56]               0\n",
            "           Conv2d-15          [-1, 256, 56, 56]         590,080\n",
            "             ReLU-16          [-1, 256, 56, 56]               0\n",
            "        MaxPool2d-17          [-1, 256, 28, 28]               0\n",
            "           Conv2d-18          [-1, 512, 28, 28]       1,180,160\n",
            "             ReLU-19          [-1, 512, 28, 28]               0\n",
            "           Conv2d-20          [-1, 512, 28, 28]       2,359,808\n",
            "             ReLU-21          [-1, 512, 28, 28]               0\n",
            "           Conv2d-22          [-1, 512, 28, 28]       2,359,808\n",
            "             ReLU-23          [-1, 512, 28, 28]               0\n",
            "        MaxPool2d-24          [-1, 512, 14, 14]               0\n",
            "           Conv2d-25          [-1, 512, 14, 14]       2,359,808\n",
            "             ReLU-26          [-1, 512, 14, 14]               0\n",
            "           Conv2d-27          [-1, 512, 14, 14]       2,359,808\n",
            "             ReLU-28          [-1, 512, 14, 14]               0\n",
            "           Conv2d-29          [-1, 512, 14, 14]       2,359,808\n",
            "             ReLU-30          [-1, 512, 14, 14]               0\n",
            "        MaxPool2d-31            [-1, 512, 7, 7]               0\n",
            "           Linear-32                 [-1, 4096]     102,764,544\n",
            "             ReLU-33                 [-1, 4096]               0\n",
            "          Dropout-34                 [-1, 4096]               0\n",
            "           Linear-35                 [-1, 4096]      16,781,312\n",
            "             ReLU-36                 [-1, 4096]               0\n",
            "          Dropout-37                 [-1, 4096]               0\n",
            "           Linear-38                   [-1, 20]          81,940\n",
            "================================================================\n",
            "Total params: 134,342,484\n",
            "Trainable params: 134,342,484\n",
            "Non-trainable params: 0\n",
            "----------------------------------------------------------------\n",
            "Input size (MB): 0.57\n",
            "Forward/backward pass size (MB): 218.58\n",
            "Params size (MB): 512.48\n",
            "Estimated Total Size (MB): 731.63\n",
            "----------------------------------------------------------------\n"
          ]
        }
      ]
    },
    {
      "cell_type": "markdown",
      "source": [
        "# Load Pretrained Weights"
      ],
      "metadata": {
        "id": "CzLvF2dC13vz"
      }
    },
    {
      "cell_type": "code",
      "source": [
        "import torchvision.models as models\n",
        "\n",
        "model = VGG16Scratch(num_classes=1000)\n",
        "pretrained = models.vgg16(pretrained=True)\n",
        "model.load_state_dict(pretrained.state_dict(), strict=True)"
      ],
      "metadata": {
        "colab": {
          "base_uri": "https://localhost:8080/"
        },
        "id": "sdNuM_bl14zl",
        "outputId": "b9c63e57-d012-4ac6-e694-d0a79c0e8dfa"
      },
      "execution_count": 5,
      "outputs": [
        {
          "output_type": "stream",
          "name": "stderr",
          "text": [
            "/usr/local/lib/python3.11/dist-packages/torchvision/models/_utils.py:208: UserWarning: The parameter 'pretrained' is deprecated since 0.13 and may be removed in the future, please use 'weights' instead.\n",
            "  warnings.warn(\n",
            "/usr/local/lib/python3.11/dist-packages/torchvision/models/_utils.py:223: UserWarning: Arguments other than a weight enum or `None` for 'weights' are deprecated since 0.13 and may be removed in the future. The current behavior is equivalent to passing `weights=VGG16_Weights.IMAGENET1K_V1`. You can also use `weights=VGG16_Weights.DEFAULT` to get the most up-to-date weights.\n",
            "  warnings.warn(msg)\n",
            "Downloading: \"https://download.pytorch.org/models/vgg16-397923af.pth\" to /root/.cache/torch/hub/checkpoints/vgg16-397923af.pth\n",
            "100%|██████████| 528M/528M [00:02<00:00, 185MB/s]\n"
          ]
        },
        {
          "output_type": "execute_result",
          "data": {
            "text/plain": [
              "<All keys matched successfully>"
            ]
          },
          "metadata": {},
          "execution_count": 5
        }
      ]
    },
    {
      "cell_type": "code",
      "source": [
        "#Replace Output Layer for 20 Classes\n",
        "model.classifier[-1] = nn.Linear(4096, 20)"
      ],
      "metadata": {
        "id": "sdLBhilOArxQ"
      },
      "execution_count": 6,
      "outputs": []
    },
    {
      "cell_type": "markdown",
      "source": [
        "# Script to structure training data"
      ],
      "metadata": {
        "id": "gaSjYmZXatCr"
      }
    },
    {
      "cell_type": "code",
      "source": [
        "from google.colab import drive\n",
        "drive.mount('/content/drive')"
      ],
      "metadata": {
        "colab": {
          "base_uri": "https://localhost:8080/"
        },
        "id": "MbS0Fpbof6t3",
        "outputId": "05227d7d-c0c8-4a38-bc8b-296e30000f0c"
      },
      "execution_count": 7,
      "outputs": [
        {
          "output_type": "stream",
          "name": "stdout",
          "text": [
            "Mounted at /content/drive\n"
          ]
        }
      ]
    },
    {
      "cell_type": "code",
      "source": [
        "#unzip the files\n",
        "\n",
        "import zipfile\n",
        "import os\n",
        "\n",
        "# Unzip train\n",
        "train_zip = \"/content/drive/MyDrive/DATA255_Assignmnet3/imagenet_train.zip\"\n",
        "val_zip = \"/content/drive/MyDrive/DATA255_Assignmnet3/imagenet_val.zip\"\n",
        "\n",
        "with zipfile.ZipFile(train_zip, 'r') as zip_ref:\n",
        "    zip_ref.extractall(\"/content/train\")\n",
        "\n",
        "with zipfile.ZipFile(val_zip, 'r') as zip_ref:\n",
        "    zip_ref.extractall(\"/content/val\")\n"
      ],
      "metadata": {
        "id": "ieqet2PXf-W9"
      },
      "execution_count": 8,
      "outputs": []
    },
    {
      "cell_type": "code",
      "source": [
        "import os\n",
        "import shutil\n",
        "\n",
        "val_txt = \"/content/drive/MyDrive/DATA255_Assignmnet3/imagenet_val.txt\"  # your val mapping file\n",
        "val_input_folder = \"/content/val/imagenet_val20\"  # where flat JPEGs are\n",
        "val_output_folder = \"/content/val/imagenet_val20_structured\"  # target structured folder\n",
        "\n",
        "os.makedirs(val_output_folder, exist_ok=True)\n",
        "\n",
        "with open(val_txt, 'r') as f:\n",
        "    for line in f:\n",
        "        parts = line.strip().split()\n",
        "        if len(parts) < 2:\n",
        "            continue\n",
        "        filename, class_id = parts[0], parts[1]\n",
        "\n",
        "        class_folder = os.path.join(val_output_folder, class_id)\n",
        "        os.makedirs(class_folder, exist_ok=True)\n",
        "\n",
        "        src = os.path.join(val_input_folder, filename)\n",
        "        dst = os.path.join(class_folder, filename)\n",
        "\n",
        "        if os.path.exists(src):\n",
        "            shutil.move(src, dst)\n",
        "        else:\n",
        "            print(f\"⚠️ Missing: {filename}\")\n"
      ],
      "metadata": {
        "id": "7D1B4Ig7lAVO"
      },
      "execution_count": 9,
      "outputs": []
    },
    {
      "cell_type": "markdown",
      "source": [
        "# Data Augmentation and Normalization"
      ],
      "metadata": {
        "id": "nflLIivZ2CMD"
      }
    },
    {
      "cell_type": "code",
      "source": [
        "import os\n",
        "\n",
        "val_root = \"/content/val/imagenet_val20_structured/\"  # Path where val folders 0–19 exist\n",
        "\n",
        "# Your training class names in the correct order\n",
        "train_classes = ['n01737021', 'n02006656', 'n02011460', 'n02013706', 'n02033041',\n",
        "                 'n02093991', 'n02117135', 'n02279972', 'n02415577', 'n02423022',\n",
        "                 'n02676566', 'n02808440', 'n03016953', 'n03476684', 'n03721384',\n",
        "                 'n03804744', 'n03935335', 'n03938244', 'n04252225', 'n04346328']\n",
        "\n",
        "# Rename folders from '0' → 'n01737021', '1' → 'n02006656', ...\n",
        "for i in range(20):\n",
        "    old_name = os.path.join(val_root, str(i))\n",
        "    new_name = os.path.join(val_root, train_classes[i])\n",
        "    if os.path.exists(old_name):\n",
        "        os.rename(old_name, new_name)\n",
        "        print(f\"✅ Renamed {old_name} → {new_name}\")\n",
        "    else:\n",
        "        print(f\"⚠️ Folder not found: {old_name}\")"
      ],
      "metadata": {
        "colab": {
          "base_uri": "https://localhost:8080/"
        },
        "id": "6dmqwpZDomHM",
        "outputId": "95a2b62f-eb0a-4c61-9a9e-71efa67e4020"
      },
      "execution_count": 10,
      "outputs": [
        {
          "output_type": "stream",
          "name": "stdout",
          "text": [
            "✅ Renamed /content/val/imagenet_val20_structured/0 → /content/val/imagenet_val20_structured/n01737021\n",
            "✅ Renamed /content/val/imagenet_val20_structured/1 → /content/val/imagenet_val20_structured/n02006656\n",
            "✅ Renamed /content/val/imagenet_val20_structured/2 → /content/val/imagenet_val20_structured/n02011460\n",
            "✅ Renamed /content/val/imagenet_val20_structured/3 → /content/val/imagenet_val20_structured/n02013706\n",
            "✅ Renamed /content/val/imagenet_val20_structured/4 → /content/val/imagenet_val20_structured/n02033041\n",
            "✅ Renamed /content/val/imagenet_val20_structured/5 → /content/val/imagenet_val20_structured/n02093991\n",
            "✅ Renamed /content/val/imagenet_val20_structured/6 → /content/val/imagenet_val20_structured/n02117135\n",
            "✅ Renamed /content/val/imagenet_val20_structured/7 → /content/val/imagenet_val20_structured/n02279972\n",
            "✅ Renamed /content/val/imagenet_val20_structured/8 → /content/val/imagenet_val20_structured/n02415577\n",
            "✅ Renamed /content/val/imagenet_val20_structured/9 → /content/val/imagenet_val20_structured/n02423022\n",
            "✅ Renamed /content/val/imagenet_val20_structured/10 → /content/val/imagenet_val20_structured/n02676566\n",
            "✅ Renamed /content/val/imagenet_val20_structured/11 → /content/val/imagenet_val20_structured/n02808440\n",
            "✅ Renamed /content/val/imagenet_val20_structured/12 → /content/val/imagenet_val20_structured/n03016953\n",
            "✅ Renamed /content/val/imagenet_val20_structured/13 → /content/val/imagenet_val20_structured/n03476684\n",
            "✅ Renamed /content/val/imagenet_val20_structured/14 → /content/val/imagenet_val20_structured/n03721384\n",
            "✅ Renamed /content/val/imagenet_val20_structured/15 → /content/val/imagenet_val20_structured/n03804744\n",
            "✅ Renamed /content/val/imagenet_val20_structured/16 → /content/val/imagenet_val20_structured/n03935335\n",
            "✅ Renamed /content/val/imagenet_val20_structured/17 → /content/val/imagenet_val20_structured/n03938244\n",
            "✅ Renamed /content/val/imagenet_val20_structured/18 → /content/val/imagenet_val20_structured/n04252225\n",
            "✅ Renamed /content/val/imagenet_val20_structured/19 → /content/val/imagenet_val20_structured/n04346328\n"
          ]
        }
      ]
    },
    {
      "cell_type": "code",
      "source": [
        "from torchvision import datasets, transforms\n",
        "from torch.utils.data import DataLoader\n",
        "\n",
        "transform_train = transforms.Compose([\n",
        "    transforms.RandomResizedCrop(224, scale=(0.8, 1.0)),\n",
        "    transforms.RandomHorizontalFlip(),\n",
        "    transforms.ColorJitter(brightness=0.2, contrast=0.2, saturation=0.2, hue=0.1),\n",
        "    transforms.RandomRotation(15),\n",
        "    transforms.ToTensor(),\n",
        "    transforms.Normalize([0.485, 0.456, 0.406],\n",
        "                         [0.229, 0.224, 0.225])\n",
        "])\n",
        "\n",
        "transform_val = transforms.Compose([\n",
        "    transforms.Resize((224, 224)),\n",
        "    transforms.ToTensor(),\n",
        "    transforms.Normalize([0.485, 0.456, 0.406],\n",
        "                         [0.229, 0.224, 0.225])\n",
        "])\n",
        "\n",
        "train_dataset = datasets.ImageFolder(\"/content/train/imagenet_train20a\", transform=transform_train)\n",
        "val_dataset = datasets.ImageFolder(\"/content/val/imagenet_val20_structured\", transform=transform_val)\n",
        "\n",
        "train_loader = DataLoader(train_dataset, batch_size=32, shuffle=True)\n",
        "val_loader = DataLoader(val_dataset, batch_size=32, shuffle=False)\n"
      ],
      "metadata": {
        "id": "IIIWPx2F17_e"
      },
      "execution_count": 11,
      "outputs": []
    },
    {
      "cell_type": "code",
      "source": [
        "print(\"Number of training images:\", len(train_dataset))\n",
        "print(\"Number of validation images:\", len(val_dataset))"
      ],
      "metadata": {
        "colab": {
          "base_uri": "https://localhost:8080/"
        },
        "id": "MA7gfNEyio40",
        "outputId": "4246db13-96fc-4398-a856-37e2e009d2aa"
      },
      "execution_count": 12,
      "outputs": [
        {
          "output_type": "stream",
          "name": "stdout",
          "text": [
            "Number of training images: 6000\n",
            "Number of validation images: 1000\n"
          ]
        }
      ]
    },
    {
      "cell_type": "code",
      "source": [
        "print(\"Train Classes:\", train_dataset.classes)\n",
        "print(\"Val Classes:  \", val_dataset.classes)\n",
        "print(\"Match?        \", train_dataset.classes == val_dataset.classes)"
      ],
      "metadata": {
        "colab": {
          "base_uri": "https://localhost:8080/"
        },
        "id": "ZrkrhGawn8uh",
        "outputId": "9bd00f17-3605-4454-ab0c-b246efdee430"
      },
      "execution_count": 13,
      "outputs": [
        {
          "output_type": "stream",
          "name": "stdout",
          "text": [
            "Train Classes: ['n01737021', 'n02006656', 'n02011460', 'n02013706', 'n02033041', 'n02093991', 'n02117135', 'n02279972', 'n02415577', 'n02423022', 'n02676566', 'n02808440', 'n03016953', 'n03476684', 'n03721384', 'n03804744', 'n03935335', 'n03938244', 'n04252225', 'n04346328']\n",
            "Val Classes:   ['n01737021', 'n02006656', 'n02011460', 'n02013706', 'n02033041', 'n02093991', 'n02117135', 'n02279972', 'n02415577', 'n02423022', 'n02676566', 'n02808440', 'n03016953', 'n03476684', 'n03721384', 'n03804744', 'n03935335', 'n03938244', 'n04252225', 'n04346328']\n",
            "Match?         True\n"
          ]
        }
      ]
    },
    {
      "cell_type": "markdown",
      "source": [
        "# Training the Model"
      ],
      "metadata": {
        "id": "dfjwH1Ak2Ggw"
      }
    },
    {
      "cell_type": "code",
      "source": [
        "# Move model to GPU\n",
        "device = torch.device(\"cuda\" if torch.cuda.is_available() else \"cpu\")\n",
        "model = model.to(device)"
      ],
      "metadata": {
        "id": "0lOz66C2OB-Q"
      },
      "execution_count": 14,
      "outputs": []
    },
    {
      "cell_type": "code",
      "source": [
        "import torch.optim as optim\n",
        "\n",
        "criterion = nn.CrossEntropyLoss()\n",
        "optimizer = optim.Adam(filter(lambda p: p.requires_grad, model.parameters()), lr=1e-4)\n",
        "scheduler = optim.lr_scheduler.StepLR(optimizer, step_size=2, gamma=0.5)\n",
        "\n",
        "def evaluate(loader):\n",
        "    model.eval()\n",
        "    correct, total = 0, 0\n",
        "    with torch.no_grad():\n",
        "        for images, labels in loader:\n",
        "            images, labels = images.to(device), labels.to(device)\n",
        "            outputs = model(images)\n",
        "            _, preds = torch.max(outputs, 1)\n",
        "            correct += (preds == labels).sum().item()\n",
        "            total += labels.size(0)\n",
        "    return 100 * correct / total\n"
      ],
      "metadata": {
        "id": "iIKisw7O2Si5"
      },
      "execution_count": 16,
      "outputs": []
    },
    {
      "cell_type": "markdown",
      "source": [
        "# Run for 5 Epochs"
      ],
      "metadata": {
        "id": "VOXKhvdb2WX0"
      }
    },
    {
      "cell_type": "code",
      "source": [
        "num_epochs = 5\n",
        "train_acc_list = []\n",
        "val_acc_list = []\n",
        "best_val_acc = 0.0\n",
        "\n",
        "for epoch in range(num_epochs):\n",
        "    model.train()\n",
        "    running_loss = 0.0\n",
        "    for images, labels in train_loader:\n",
        "        images, labels = images.to(device), labels.to(device)\n",
        "        optimizer.zero_grad()\n",
        "        outputs = model(images)\n",
        "        loss = criterion(outputs, labels)\n",
        "        loss.backward()\n",
        "        optimizer.step()\n",
        "        running_loss += loss.item()\n",
        "\n",
        "    scheduler.step()\n",
        "\n",
        "    train_acc = evaluate(train_loader)\n",
        "    val_acc = evaluate(val_loader)\n",
        "\n",
        "    train_acc_list.append(train_acc)\n",
        "    val_acc_list.append(val_acc)\n",
        "\n",
        "    if val_acc > best_val_acc:\n",
        "        best_val_acc = val_acc\n",
        "        torch.save(model.state_dict(), \"best_vgg16_model.pth\")\n",
        "\n",
        "    print(f\"Epoch {epoch+1}: Loss={running_loss:.4f}, Train Acc={train_acc:.2f}%, Val Acc={val_acc:.2f}%\")"
      ],
      "metadata": {
        "colab": {
          "base_uri": "https://localhost:8080/"
        },
        "id": "8C5PpenR2Uk2",
        "outputId": "6d0b86ff-2b35-4e27-da06-5e396dab0a72"
      },
      "execution_count": 17,
      "outputs": [
        {
          "output_type": "stream",
          "name": "stdout",
          "text": [
            "Epoch 1: Loss=119.1468, Train Acc=93.78%, Val Acc=89.30%\n",
            "Epoch 2: Loss=56.7911, Train Acc=95.32%, Val Acc=89.00%\n",
            "Epoch 3: Loss=23.1895, Train Acc=98.30%, Val Acc=92.40%\n",
            "Epoch 4: Loss=16.1399, Train Acc=97.67%, Val Acc=91.20%\n",
            "Epoch 5: Loss=7.9856, Train Acc=99.47%, Val Acc=93.30%\n"
          ]
        }
      ]
    },
    {
      "cell_type": "code",
      "source": [
        "import matplotlib.pyplot as plt\n",
        "\n",
        "# Plot accuracy\n",
        "plt.figure(figsize=(8, 5))\n",
        "plt.plot(train_acc_list, label=\"Train Accuracy\")\n",
        "plt.plot(val_acc_list, label=\"Validation Accuracy\")\n",
        "plt.xlabel(\"Epoch\")\n",
        "plt.ylabel(\"Accuracy (%)\")\n",
        "plt.title(\"Training vs Validation Accuracy\")\n",
        "plt.grid(True)\n",
        "plt.legend()\n",
        "plt.tight_layout()\n",
        "plt.show()"
      ],
      "metadata": {
        "colab": {
          "base_uri": "https://localhost:8080/",
          "height": 507
        },
        "id": "U8NdpYiJt_vi",
        "outputId": "a7af8372-e243-4bc1-9983-734f39ea8f28"
      },
      "execution_count": 19,
      "outputs": [
        {
          "output_type": "display_data",
          "data": {
            "text/plain": [
              "<Figure size 800x500 with 1 Axes>"
            ],
            "image/png": "[encoded data removed]"
          },
          "metadata": {}
        }
      ]
    },
    {
      "cell_type": "markdown",
      "source": [
        "# GPU Memory Calculation"
      ],
      "metadata": {
        "id": "SExnEdh3x8s-"
      }
    },
    {
      "cell_type": "code",
      "source": [
        "import torch\n",
        "\n",
        "# Reset memory stats and empty cache before measurement\n",
        "torch.cuda.empty_cache()\n",
        "torch.cuda.reset_peak_memory_stats(device)"
      ],
      "metadata": {
        "id": "uC1Dfba5sy8J"
      },
      "execution_count": 20,
      "outputs": []
    },
    {
      "cell_type": "markdown",
      "source": [
        "# Forward Pass Only"
      ],
      "metadata": {
        "id": "0V_HHLZlyGkh"
      }
    },
    {
      "cell_type": "code",
      "source": [
        "# Get one batch\n",
        "images, labels = next(iter(train_loader))\n",
        "images, labels = images.to(device), labels.to(device)\n",
        "\n",
        "# Forward pass (no gradients)\n",
        "torch.cuda.empty_cache()\n",
        "torch.cuda.reset_peak_memory_stats(device)\n",
        "\n",
        "with torch.no_grad():\n",
        "    outputs = model(images)\n",
        "\n",
        "forward_memory = torch.cuda.max_memory_allocated(device) / 1024**2  # in MB\n",
        "print(f\" Peak GPU memory (Forward Pass): {forward_memory:.2f} MB\")"
      ],
      "metadata": {
        "colab": {
          "base_uri": "https://localhost:8080/"
        },
        "id": "rxjRjX8zyEN7",
        "outputId": "cc0b46f4-e839-41cd-a9f7-9d46f31291eb"
      },
      "execution_count": 21,
      "outputs": [
        {
          "output_type": "stream",
          "name": "stdout",
          "text": [
            " Peak GPU memory (Forward Pass): 4645.54 MB\n"
          ]
        }
      ]
    },
    {
      "cell_type": "markdown",
      "source": [
        "# Forward + Backward Pass"
      ],
      "metadata": {
        "id": "izV6bQdqyLt9"
      }
    },
    {
      "cell_type": "code",
      "source": [
        "# With gradients this time\n",
        "torch.cuda.empty_cache()\n",
        "torch.cuda.reset_peak_memory_stats(device)\n",
        "\n",
        "outputs = model(images)\n",
        "loss = criterion(outputs, labels)\n",
        "loss.backward()\n",
        "\n",
        "backward_memory = torch.cuda.max_memory_allocated(device) / 1024**2  # in MB\n",
        "print(f\"Peak GPU memory (Forward + Backward Pass): {backward_memory:.2f} MB\")\n"
      ],
      "metadata": {
        "colab": {
          "base_uri": "https://localhost:8080/"
        },
        "id": "tog85f78yJGO",
        "outputId": "24c5da25-ab01-4f0e-b5c8-839e3a59b3de"
      },
      "execution_count": 22,
      "outputs": [
        {
          "output_type": "stream",
          "name": "stdout",
          "text": [
            "Peak GPU memory (Forward + Backward Pass): 5443.29 MB\n"
          ]
        }
      ]
    },
    {
      "cell_type": "code",
      "source": [],
      "metadata": {
        "id": "xOVDmKkNy7oK"
      },
      "execution_count": null,
      "outputs": []
    }
  ]
}