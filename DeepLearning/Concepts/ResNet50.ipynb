{
  "nbformat": 4,
  "nbformat_minor": 0,
  "metadata": {
    "colab": {
      "provenance": [],
      "gpuType": "A100",
      "machine_shape": "hm"
    },
    "kernelspec": {
      "name": "python3",
      "display_name": "Python 3"
    },
    "language_info": {
      "name": "python"
    },
    "accelerator": "GPU"
  },
  "cells": [
    {
      "cell_type": "markdown",
      "source": [
        "# ResNet50"
      ],
      "metadata": {
        "id": "ny5sRGwcwWJz"
      }
    },
    {
      "cell_type": "markdown",
      "source": [
        "Defines a custom ResNet-50 model class in PyTorch for 20-class classification.\n",
        "It builds the full ResNet-50 architecture using Bottleneck blocks, applies custom weight initialization, and defines the forward pass to process input images through convolutional, residual, pooling, and fully connected layers."
      ],
      "metadata": {
        "id": "lOA9AjVhyeKj"
      }
    },
    {
      "cell_type": "code",
      "execution_count": 1,
      "metadata": {
        "id": "e7qkcYJbvQEb"
      },
      "outputs": [],
      "source": [
        "import torch\n",
        "import torch.nn as nn\n",
        "from torchvision.models.resnet import Bottleneck\n",
        "\n",
        "class ResNet50(nn.Module):\n",
        "    def __init__(self, num_classes=20):  # use 20 for your case\n",
        "        super(ResNet50, self).__init__()\n",
        "        self.inplanes = 64\n",
        "        self.has_printed_input_shape = False\n",
        "        self.conv1 = nn.Conv2d(3, 64, kernel_size=7, stride=2, padding=3, bias=False)\n",
        "        self.bn1 = nn.BatchNorm2d(64)\n",
        "        self.relu = nn.ReLU(inplace=True)\n",
        "        self.maxpool = nn.MaxPool2d(kernel_size=3, stride=2, padding=1)\n",
        "\n",
        "        self.layer1 = self._make_layer(Bottleneck, 64, 3)\n",
        "        self.layer2 = self._make_layer(Bottleneck, 128, 4, stride=2)\n",
        "        self.layer3 = self._make_layer(Bottleneck, 256, 6, stride=2)\n",
        "        self.layer4 = self._make_layer(Bottleneck, 512, 3, stride=2)\n",
        "\n",
        "        self.avgpool = nn.AdaptiveAvgPool2d((1, 1))\n",
        "        # FC layer output set to 1000 to match pretrained weights\n",
        "        self.fc = nn.Linear(512 * Bottleneck.expansion, num_classes)\n",
        "\n",
        "        for m in self.modules():\n",
        "            if isinstance(m, nn.Conv2d):\n",
        "                nn.init.kaiming_normal_(m.weight, mode='fan_out', nonlinearity='relu')\n",
        "            elif isinstance(m, nn.BatchNorm2d):\n",
        "                nn.init.constant_(m.weight, 1)\n",
        "                nn.init.constant_(m.bias, 0)\n",
        "\n",
        "    def _make_layer(self, block, planes, blocks, stride=1):\n",
        "        downsample = None\n",
        "        if stride != 1 or self.inplanes != planes * block.expansion:\n",
        "            downsample = nn.Sequential(\n",
        "                nn.Conv2d(self.inplanes, planes * block.expansion,\n",
        "                          kernel_size=1, stride=stride, bias=False),\n",
        "                nn.BatchNorm2d(planes * block.expansion),\n",
        "            )\n",
        "\n",
        "        layers = [block(self.inplanes, planes, stride, downsample)]\n",
        "        self.inplanes = planes * block.expansion\n",
        "        for _ in range(1, blocks):\n",
        "            layers.append(block(self.inplanes, planes))\n",
        "\n",
        "        return nn.Sequential(*layers)\n",
        "\n",
        "    def forward(self, x):\n",
        "        if not hasattr(self, 'has_printed_input_shape'):\n",
        "          print(f\"Input to model: {x.shape}\")\n",
        "          self.has_printed_input_shape = True\n",
        "        x = self.conv1(x)\n",
        "        x = self.bn1(x)\n",
        "        x = self.relu(x)\n",
        "        x = self.maxpool(x)\n",
        "\n",
        "        x = self.layer1(x)\n",
        "        x = self.layer2(x)\n",
        "        x = self.layer3(x)\n",
        "        x = self.layer4(x)\n",
        "\n",
        "        x = self.avgpool(x)\n",
        "        x = torch.flatten(x, 1)\n",
        "        x = self.fc(x)\n",
        "        return x\n"
      ]
    },
    {
      "cell_type": "markdown",
      "source": [
        "# Print Parameters Per Layer"
      ],
      "metadata": {
        "id": "KNYnb5VBwaSX"
      }
    },
    {
      "cell_type": "code",
      "source": [
        "model = ResNet50(num_classes=20)\n",
        "print(\"Trainable parameters:\")\n",
        "for name, param in model.named_parameters():\n",
        "    if param.requires_grad:\n",
        "        print(f\"{name}: {param.numel()} parameters\")"
      ],
      "metadata": {
        "colab": {
          "base_uri": "https://localhost:8080/"
        },
        "id": "HPvJhUltwT53",
        "outputId": "07638439-da6b-45f5-99c5-8e10636d5d0f"
      },
      "execution_count": 2,
      "outputs": [
        {
          "output_type": "stream",
          "name": "stdout",
          "text": [
            "Trainable parameters:\n",
            "conv1.weight: 9408 parameters\n",
            "bn1.weight: 64 parameters\n",
            "bn1.bias: 64 parameters\n",
            "layer1.0.conv1.weight: 4096 parameters\n",
            "layer1.0.bn1.weight: 64 parameters\n",
            "layer1.0.bn1.bias: 64 parameters\n",
            "layer1.0.conv2.weight: 36864 parameters\n",
            "layer1.0.bn2.weight: 64 parameters\n",
            "layer1.0.bn2.bias: 64 parameters\n",
            "layer1.0.conv3.weight: 16384 parameters\n",
            "layer1.0.bn3.weight: 256 parameters\n",
            "layer1.0.bn3.bias: 256 parameters\n",
            "layer1.0.downsample.0.weight: 16384 parameters\n",
            "layer1.0.downsample.1.weight: 256 parameters\n",
            "layer1.0.downsample.1.bias: 256 parameters\n",
            "layer1.1.conv1.weight: 16384 parameters\n",
            "layer1.1.bn1.weight: 64 parameters\n",
            "layer1.1.bn1.bias: 64 parameters\n",
            "layer1.1.conv2.weight: 36864 parameters\n",
            "layer1.1.bn2.weight: 64 parameters\n",
            "layer1.1.bn2.bias: 64 parameters\n",
            "layer1.1.conv3.weight: 16384 parameters\n",
            "layer1.1.bn3.weight: 256 parameters\n",
            "layer1.1.bn3.bias: 256 parameters\n",
            "layer1.2.conv1.weight: 16384 parameters\n",
            "layer1.2.bn1.weight: 64 parameters\n",
            "layer1.2.bn1.bias: 64 parameters\n",
            "layer1.2.conv2.weight: 36864 parameters\n",
            "layer1.2.bn2.weight: 64 parameters\n",
            "layer1.2.bn2.bias: 64 parameters\n",
            "layer1.2.conv3.weight: 16384 parameters\n",
            "layer1.2.bn3.weight: 256 parameters\n",
            "layer1.2.bn3.bias: 256 parameters\n",
            "layer2.0.conv1.weight: 32768 parameters\n",
            "layer2.0.bn1.weight: 128 parameters\n",
            "layer2.0.bn1.bias: 128 parameters\n",
            "layer2.0.conv2.weight: 147456 parameters\n",
            "layer2.0.bn2.weight: 128 parameters\n",
            "layer2.0.bn2.bias: 128 parameters\n",
            "layer2.0.conv3.weight: 65536 parameters\n",
            "layer2.0.bn3.weight: 512 parameters\n",
            "layer2.0.bn3.bias: 512 parameters\n",
            "layer2.0.downsample.0.weight: 131072 parameters\n",
            "layer2.0.downsample.1.weight: 512 parameters\n",
            "layer2.0.downsample.1.bias: 512 parameters\n",
            "layer2.1.conv1.weight: 65536 parameters\n",
            "layer2.1.bn1.weight: 128 parameters\n",
            "layer2.1.bn1.bias: 128 parameters\n",
            "layer2.1.conv2.weight: 147456 parameters\n",
            "layer2.1.bn2.weight: 128 parameters\n",
            "layer2.1.bn2.bias: 128 parameters\n",
            "layer2.1.conv3.weight: 65536 parameters\n",
            "layer2.1.bn3.weight: 512 parameters\n",
            "layer2.1.bn3.bias: 512 parameters\n",
            "layer2.2.conv1.weight: 65536 parameters\n",
            "layer2.2.bn1.weight: 128 parameters\n",
            "layer2.2.bn1.bias: 128 parameters\n",
            "layer2.2.conv2.weight: 147456 parameters\n",
            "layer2.2.bn2.weight: 128 parameters\n",
            "layer2.2.bn2.bias: 128 parameters\n",
            "layer2.2.conv3.weight: 65536 parameters\n",
            "layer2.2.bn3.weight: 512 parameters\n",
            "layer2.2.bn3.bias: 512 parameters\n",
            "layer2.3.conv1.weight: 65536 parameters\n",
            "layer2.3.bn1.weight: 128 parameters\n",
            "layer2.3.bn1.bias: 128 parameters\n",
            "layer2.3.conv2.weight: 147456 parameters\n",
            "layer2.3.bn2.weight: 128 parameters\n",
            "layer2.3.bn2.bias: 128 parameters\n",
            "layer2.3.conv3.weight: 65536 parameters\n",
            "layer2.3.bn3.weight: 512 parameters\n",
            "layer2.3.bn3.bias: 512 parameters\n",
            "layer3.0.conv1.weight: 131072 parameters\n",
            "layer3.0.bn1.weight: 256 parameters\n",
            "layer3.0.bn1.bias: 256 parameters\n",
            "layer3.0.conv2.weight: 589824 parameters\n",
            "layer3.0.bn2.weight: 256 parameters\n",
            "layer3.0.bn2.bias: 256 parameters\n",
            "layer3.0.conv3.weight: 262144 parameters\n",
            "layer3.0.bn3.weight: 1024 parameters\n",
            "layer3.0.bn3.bias: 1024 parameters\n",
            "layer3.0.downsample.0.weight: 524288 parameters\n",
            "layer3.0.downsample.1.weight: 1024 parameters\n",
            "layer3.0.downsample.1.bias: 1024 parameters\n",
            "layer3.1.conv1.weight: 262144 parameters\n",
            "layer3.1.bn1.weight: 256 parameters\n",
            "layer3.1.bn1.bias: 256 parameters\n",
            "layer3.1.conv2.weight: 589824 parameters\n",
            "layer3.1.bn2.weight: 256 parameters\n",
            "layer3.1.bn2.bias: 256 parameters\n",
            "layer3.1.conv3.weight: 262144 parameters\n",
            "layer3.1.bn3.weight: 1024 parameters\n",
            "layer3.1.bn3.bias: 1024 parameters\n",
            "layer3.2.conv1.weight: 262144 parameters\n",
            "layer3.2.bn1.weight: 256 parameters\n",
            "layer3.2.bn1.bias: 256 parameters\n",
            "layer3.2.conv2.weight: 589824 parameters\n",
            "layer3.2.bn2.weight: 256 parameters\n",
            "layer3.2.bn2.bias: 256 parameters\n",
            "layer3.2.conv3.weight: 262144 parameters\n",
            "layer3.2.bn3.weight: 1024 parameters\n",
            "layer3.2.bn3.bias: 1024 parameters\n",
            "layer3.3.conv1.weight: 262144 parameters\n",
            "layer3.3.bn1.weight: 256 parameters\n",
            "layer3.3.bn1.bias: 256 parameters\n",
            "layer3.3.conv2.weight: 589824 parameters\n",
            "layer3.3.bn2.weight: 256 parameters\n",
            "layer3.3.bn2.bias: 256 parameters\n",
            "layer3.3.conv3.weight: 262144 parameters\n",
            "layer3.3.bn3.weight: 1024 parameters\n",
            "layer3.3.bn3.bias: 1024 parameters\n",
            "layer3.4.conv1.weight: 262144 parameters\n",
            "layer3.4.bn1.weight: 256 parameters\n",
            "layer3.4.bn1.bias: 256 parameters\n",
            "layer3.4.conv2.weight: 589824 parameters\n",
            "layer3.4.bn2.weight: 256 parameters\n",
            "layer3.4.bn2.bias: 256 parameters\n",
            "layer3.4.conv3.weight: 262144 parameters\n",
            "layer3.4.bn3.weight: 1024 parameters\n",
            "layer3.4.bn3.bias: 1024 parameters\n",
            "layer3.5.conv1.weight: 262144 parameters\n",
            "layer3.5.bn1.weight: 256 parameters\n",
            "layer3.5.bn1.bias: 256 parameters\n",
            "layer3.5.conv2.weight: 589824 parameters\n",
            "layer3.5.bn2.weight: 256 parameters\n",
            "layer3.5.bn2.bias: 256 parameters\n",
            "layer3.5.conv3.weight: 262144 parameters\n",
            "layer3.5.bn3.weight: 1024 parameters\n",
            "layer3.5.bn3.bias: 1024 parameters\n",
            "layer4.0.conv1.weight: 524288 parameters\n",
            "layer4.0.bn1.weight: 512 parameters\n",
            "layer4.0.bn1.bias: 512 parameters\n",
            "layer4.0.conv2.weight: 2359296 parameters\n",
            "layer4.0.bn2.weight: 512 parameters\n",
            "layer4.0.bn2.bias: 512 parameters\n",
            "layer4.0.conv3.weight: 1048576 parameters\n",
            "layer4.0.bn3.weight: 2048 parameters\n",
            "layer4.0.bn3.bias: 2048 parameters\n",
            "layer4.0.downsample.0.weight: 2097152 parameters\n",
            "layer4.0.downsample.1.weight: 2048 parameters\n",
            "layer4.0.downsample.1.bias: 2048 parameters\n",
            "layer4.1.conv1.weight: 1048576 parameters\n",
            "layer4.1.bn1.weight: 512 parameters\n",
            "layer4.1.bn1.bias: 512 parameters\n",
            "layer4.1.conv2.weight: 2359296 parameters\n",
            "layer4.1.bn2.weight: 512 parameters\n",
            "layer4.1.bn2.bias: 512 parameters\n",
            "layer4.1.conv3.weight: 1048576 parameters\n",
            "layer4.1.bn3.weight: 2048 parameters\n",
            "layer4.1.bn3.bias: 2048 parameters\n",
            "layer4.2.conv1.weight: 1048576 parameters\n",
            "layer4.2.bn1.weight: 512 parameters\n",
            "layer4.2.bn1.bias: 512 parameters\n",
            "layer4.2.conv2.weight: 2359296 parameters\n",
            "layer4.2.bn2.weight: 512 parameters\n",
            "layer4.2.bn2.bias: 512 parameters\n",
            "layer4.2.conv3.weight: 1048576 parameters\n",
            "layer4.2.bn3.weight: 2048 parameters\n",
            "layer4.2.bn3.bias: 2048 parameters\n",
            "fc.weight: 40960 parameters\n",
            "fc.bias: 20 parameters\n"
          ]
        }
      ]
    },
    {
      "cell_type": "markdown",
      "source": [
        "# Visual Summary"
      ],
      "metadata": {
        "id": "cuNmOpli0W6Y"
      }
    },
    {
      "cell_type": "code",
      "source": [
        "pip install torchsummary"
      ],
      "metadata": {
        "colab": {
          "base_uri": "https://localhost:8080/"
        },
        "id": "HUegd8fk0bxp",
        "outputId": "b2f2cdeb-d786-4c7d-ba31-0b692686f5f8"
      },
      "execution_count": 3,
      "outputs": [
        {
          "output_type": "stream",
          "name": "stdout",
          "text": [
            "Requirement already satisfied: torchsummary in /usr/local/lib/python3.11/dist-packages (1.5.1)\n"
          ]
        }
      ]
    },
    {
      "cell_type": "code",
      "source": [
        "from torchsummary import summary\n",
        "\n",
        "device = torch.device(\"cuda\" if torch.cuda.is_available() else \"cpu\")\n",
        "model = model.to(device)  # make sure model is on GPU\n",
        "\n",
        "summary(model, input_size=(3, 256, 256), device=\"cuda\")  # tell summary to use cuda too\n"
      ],
      "metadata": {
        "colab": {
          "base_uri": "https://localhost:8080/"
        },
        "id": "eDCYqW8b0dTf",
        "outputId": "a33a43d4-04a0-427d-823f-330cde7c6e4f"
      },
      "execution_count": 4,
      "outputs": [
        {
          "output_type": "stream",
          "name": "stdout",
          "text": [
            "----------------------------------------------------------------\n",
            "        Layer (type)               Output Shape         Param #\n",
            "================================================================\n",
            "            Conv2d-1         [-1, 64, 128, 128]           9,408\n",
            "       BatchNorm2d-2         [-1, 64, 128, 128]             128\n",
            "              ReLU-3         [-1, 64, 128, 128]               0\n",
            "         MaxPool2d-4           [-1, 64, 64, 64]               0\n",
            "            Conv2d-5           [-1, 64, 64, 64]           4,096\n",
            "       BatchNorm2d-6           [-1, 64, 64, 64]             128\n",
            "              ReLU-7           [-1, 64, 64, 64]               0\n",
            "            Conv2d-8           [-1, 64, 64, 64]          36,864\n",
            "       BatchNorm2d-9           [-1, 64, 64, 64]             128\n",
            "             ReLU-10           [-1, 64, 64, 64]               0\n",
            "           Conv2d-11          [-1, 256, 64, 64]          16,384\n",
            "      BatchNorm2d-12          [-1, 256, 64, 64]             512\n",
            "           Conv2d-13          [-1, 256, 64, 64]          16,384\n",
            "      BatchNorm2d-14          [-1, 256, 64, 64]             512\n",
            "             ReLU-15          [-1, 256, 64, 64]               0\n",
            "       Bottleneck-16          [-1, 256, 64, 64]               0\n",
            "           Conv2d-17           [-1, 64, 64, 64]          16,384\n",
            "      BatchNorm2d-18           [-1, 64, 64, 64]             128\n",
            "             ReLU-19           [-1, 64, 64, 64]               0\n",
            "           Conv2d-20           [-1, 64, 64, 64]          36,864\n",
            "      BatchNorm2d-21           [-1, 64, 64, 64]             128\n",
            "             ReLU-22           [-1, 64, 64, 64]               0\n",
            "           Conv2d-23          [-1, 256, 64, 64]          16,384\n",
            "      BatchNorm2d-24          [-1, 256, 64, 64]             512\n",
            "             ReLU-25          [-1, 256, 64, 64]               0\n",
            "       Bottleneck-26          [-1, 256, 64, 64]               0\n",
            "           Conv2d-27           [-1, 64, 64, 64]          16,384\n",
            "      BatchNorm2d-28           [-1, 64, 64, 64]             128\n",
            "             ReLU-29           [-1, 64, 64, 64]               0\n",
            "           Conv2d-30           [-1, 64, 64, 64]          36,864\n",
            "      BatchNorm2d-31           [-1, 64, 64, 64]             128\n",
            "             ReLU-32           [-1, 64, 64, 64]               0\n",
            "           Conv2d-33          [-1, 256, 64, 64]          16,384\n",
            "      BatchNorm2d-34          [-1, 256, 64, 64]             512\n",
            "             ReLU-35          [-1, 256, 64, 64]               0\n",
            "       Bottleneck-36          [-1, 256, 64, 64]               0\n",
            "           Conv2d-37          [-1, 128, 64, 64]          32,768\n",
            "      BatchNorm2d-38          [-1, 128, 64, 64]             256\n",
            "             ReLU-39          [-1, 128, 64, 64]               0\n",
            "           Conv2d-40          [-1, 128, 32, 32]         147,456\n",
            "      BatchNorm2d-41          [-1, 128, 32, 32]             256\n",
            "             ReLU-42          [-1, 128, 32, 32]               0\n",
            "           Conv2d-43          [-1, 512, 32, 32]          65,536\n",
            "      BatchNorm2d-44          [-1, 512, 32, 32]           1,024\n",
            "           Conv2d-45          [-1, 512, 32, 32]         131,072\n",
            "      BatchNorm2d-46          [-1, 512, 32, 32]           1,024\n",
            "             ReLU-47          [-1, 512, 32, 32]               0\n",
            "       Bottleneck-48          [-1, 512, 32, 32]               0\n",
            "           Conv2d-49          [-1, 128, 32, 32]          65,536\n",
            "      BatchNorm2d-50          [-1, 128, 32, 32]             256\n",
            "             ReLU-51          [-1, 128, 32, 32]               0\n",
            "           Conv2d-52          [-1, 128, 32, 32]         147,456\n",
            "      BatchNorm2d-53          [-1, 128, 32, 32]             256\n",
            "             ReLU-54          [-1, 128, 32, 32]               0\n",
            "           Conv2d-55          [-1, 512, 32, 32]          65,536\n",
            "      BatchNorm2d-56          [-1, 512, 32, 32]           1,024\n",
            "             ReLU-57          [-1, 512, 32, 32]               0\n",
            "       Bottleneck-58          [-1, 512, 32, 32]               0\n",
            "           Conv2d-59          [-1, 128, 32, 32]          65,536\n",
            "      BatchNorm2d-60          [-1, 128, 32, 32]             256\n",
            "             ReLU-61          [-1, 128, 32, 32]               0\n",
            "           Conv2d-62          [-1, 128, 32, 32]         147,456\n",
            "      BatchNorm2d-63          [-1, 128, 32, 32]             256\n",
            "             ReLU-64          [-1, 128, 32, 32]               0\n",
            "           Conv2d-65          [-1, 512, 32, 32]          65,536\n",
            "      BatchNorm2d-66          [-1, 512, 32, 32]           1,024\n",
            "             ReLU-67          [-1, 512, 32, 32]               0\n",
            "       Bottleneck-68          [-1, 512, 32, 32]               0\n",
            "           Conv2d-69          [-1, 128, 32, 32]          65,536\n",
            "      BatchNorm2d-70          [-1, 128, 32, 32]             256\n",
            "             ReLU-71          [-1, 128, 32, 32]               0\n",
            "           Conv2d-72          [-1, 128, 32, 32]         147,456\n",
            "      BatchNorm2d-73          [-1, 128, 32, 32]             256\n",
            "             ReLU-74          [-1, 128, 32, 32]               0\n",
            "           Conv2d-75          [-1, 512, 32, 32]          65,536\n",
            "      BatchNorm2d-76          [-1, 512, 32, 32]           1,024\n",
            "             ReLU-77          [-1, 512, 32, 32]               0\n",
            "       Bottleneck-78          [-1, 512, 32, 32]               0\n",
            "           Conv2d-79          [-1, 256, 32, 32]         131,072\n",
            "      BatchNorm2d-80          [-1, 256, 32, 32]             512\n",
            "             ReLU-81          [-1, 256, 32, 32]               0\n",
            "           Conv2d-82          [-1, 256, 16, 16]         589,824\n",
            "      BatchNorm2d-83          [-1, 256, 16, 16]             512\n",
            "             ReLU-84          [-1, 256, 16, 16]               0\n",
            "           Conv2d-85         [-1, 1024, 16, 16]         262,144\n",
            "      BatchNorm2d-86         [-1, 1024, 16, 16]           2,048\n",
            "           Conv2d-87         [-1, 1024, 16, 16]         524,288\n",
            "      BatchNorm2d-88         [-1, 1024, 16, 16]           2,048\n",
            "             ReLU-89         [-1, 1024, 16, 16]               0\n",
            "       Bottleneck-90         [-1, 1024, 16, 16]               0\n",
            "           Conv2d-91          [-1, 256, 16, 16]         262,144\n",
            "      BatchNorm2d-92          [-1, 256, 16, 16]             512\n",
            "             ReLU-93          [-1, 256, 16, 16]               0\n",
            "           Conv2d-94          [-1, 256, 16, 16]         589,824\n",
            "      BatchNorm2d-95          [-1, 256, 16, 16]             512\n",
            "             ReLU-96          [-1, 256, 16, 16]               0\n",
            "           Conv2d-97         [-1, 1024, 16, 16]         262,144\n",
            "      BatchNorm2d-98         [-1, 1024, 16, 16]           2,048\n",
            "             ReLU-99         [-1, 1024, 16, 16]               0\n",
            "      Bottleneck-100         [-1, 1024, 16, 16]               0\n",
            "          Conv2d-101          [-1, 256, 16, 16]         262,144\n",
            "     BatchNorm2d-102          [-1, 256, 16, 16]             512\n",
            "            ReLU-103          [-1, 256, 16, 16]               0\n",
            "          Conv2d-104          [-1, 256, 16, 16]         589,824\n",
            "     BatchNorm2d-105          [-1, 256, 16, 16]             512\n",
            "            ReLU-106          [-1, 256, 16, 16]               0\n",
            "          Conv2d-107         [-1, 1024, 16, 16]         262,144\n",
            "     BatchNorm2d-108         [-1, 1024, 16, 16]           2,048\n",
            "            ReLU-109         [-1, 1024, 16, 16]               0\n",
            "      Bottleneck-110         [-1, 1024, 16, 16]               0\n",
            "          Conv2d-111          [-1, 256, 16, 16]         262,144\n",
            "     BatchNorm2d-112          [-1, 256, 16, 16]             512\n",
            "            ReLU-113          [-1, 256, 16, 16]               0\n",
            "          Conv2d-114          [-1, 256, 16, 16]         589,824\n",
            "     BatchNorm2d-115          [-1, 256, 16, 16]             512\n",
            "            ReLU-116          [-1, 256, 16, 16]               0\n",
            "          Conv2d-117         [-1, 1024, 16, 16]         262,144\n",
            "     BatchNorm2d-118         [-1, 1024, 16, 16]           2,048\n",
            "            ReLU-119         [-1, 1024, 16, 16]               0\n",
            "      Bottleneck-120         [-1, 1024, 16, 16]               0\n",
            "          Conv2d-121          [-1, 256, 16, 16]         262,144\n",
            "     BatchNorm2d-122          [-1, 256, 16, 16]             512\n",
            "            ReLU-123          [-1, 256, 16, 16]               0\n",
            "          Conv2d-124          [-1, 256, 16, 16]         589,824\n",
            "     BatchNorm2d-125          [-1, 256, 16, 16]             512\n",
            "            ReLU-126          [-1, 256, 16, 16]               0\n",
            "          Conv2d-127         [-1, 1024, 16, 16]         262,144\n",
            "     BatchNorm2d-128         [-1, 1024, 16, 16]           2,048\n",
            "            ReLU-129         [-1, 1024, 16, 16]               0\n",
            "      Bottleneck-130         [-1, 1024, 16, 16]               0\n",
            "          Conv2d-131          [-1, 256, 16, 16]         262,144\n",
            "     BatchNorm2d-132          [-1, 256, 16, 16]             512\n",
            "            ReLU-133          [-1, 256, 16, 16]               0\n",
            "          Conv2d-134          [-1, 256, 16, 16]         589,824\n",
            "     BatchNorm2d-135          [-1, 256, 16, 16]             512\n",
            "            ReLU-136          [-1, 256, 16, 16]               0\n",
            "          Conv2d-137         [-1, 1024, 16, 16]         262,144\n",
            "     BatchNorm2d-138         [-1, 1024, 16, 16]           2,048\n",
            "            ReLU-139         [-1, 1024, 16, 16]               0\n",
            "      Bottleneck-140         [-1, 1024, 16, 16]               0\n",
            "          Conv2d-141          [-1, 512, 16, 16]         524,288\n",
            "     BatchNorm2d-142          [-1, 512, 16, 16]           1,024\n",
            "            ReLU-143          [-1, 512, 16, 16]               0\n",
            "          Conv2d-144            [-1, 512, 8, 8]       2,359,296\n",
            "     BatchNorm2d-145            [-1, 512, 8, 8]           1,024\n",
            "            ReLU-146            [-1, 512, 8, 8]               0\n",
            "          Conv2d-147           [-1, 2048, 8, 8]       1,048,576\n",
            "     BatchNorm2d-148           [-1, 2048, 8, 8]           4,096\n",
            "          Conv2d-149           [-1, 2048, 8, 8]       2,097,152\n",
            "     BatchNorm2d-150           [-1, 2048, 8, 8]           4,096\n",
            "            ReLU-151           [-1, 2048, 8, 8]               0\n",
            "      Bottleneck-152           [-1, 2048, 8, 8]               0\n",
            "          Conv2d-153            [-1, 512, 8, 8]       1,048,576\n",
            "     BatchNorm2d-154            [-1, 512, 8, 8]           1,024\n",
            "            ReLU-155            [-1, 512, 8, 8]               0\n",
            "          Conv2d-156            [-1, 512, 8, 8]       2,359,296\n",
            "     BatchNorm2d-157            [-1, 512, 8, 8]           1,024\n",
            "            ReLU-158            [-1, 512, 8, 8]               0\n",
            "          Conv2d-159           [-1, 2048, 8, 8]       1,048,576\n",
            "     BatchNorm2d-160           [-1, 2048, 8, 8]           4,096\n",
            "            ReLU-161           [-1, 2048, 8, 8]               0\n",
            "      Bottleneck-162           [-1, 2048, 8, 8]               0\n",
            "          Conv2d-163            [-1, 512, 8, 8]       1,048,576\n",
            "     BatchNorm2d-164            [-1, 512, 8, 8]           1,024\n",
            "            ReLU-165            [-1, 512, 8, 8]               0\n",
            "          Conv2d-166            [-1, 512, 8, 8]       2,359,296\n",
            "     BatchNorm2d-167            [-1, 512, 8, 8]           1,024\n",
            "            ReLU-168            [-1, 512, 8, 8]               0\n",
            "          Conv2d-169           [-1, 2048, 8, 8]       1,048,576\n",
            "     BatchNorm2d-170           [-1, 2048, 8, 8]           4,096\n",
            "            ReLU-171           [-1, 2048, 8, 8]               0\n",
            "      Bottleneck-172           [-1, 2048, 8, 8]               0\n",
            "AdaptiveAvgPool2d-173           [-1, 2048, 1, 1]               0\n",
            "          Linear-174                   [-1, 20]          40,980\n",
            "================================================================\n",
            "Total params: 23,549,012\n",
            "Trainable params: 23,549,012\n",
            "Non-trainable params: 0\n",
            "----------------------------------------------------------------\n",
            "Input size (MB): 0.75\n",
            "Forward/backward pass size (MB): 374.27\n",
            "Params size (MB): 89.83\n",
            "Estimated Total Size (MB): 464.85\n",
            "----------------------------------------------------------------\n"
          ]
        }
      ]
    },
    {
      "cell_type": "markdown",
      "source": [
        "# Load Pretrained Weights"
      ],
      "metadata": {
        "id": "CzLvF2dC13vz"
      }
    },
    {
      "cell_type": "markdown",
      "source": [
        "Loads pretrained ResNet-50 weights from ImageNet into a custom ResNet50 model designed for 20 classes.\n",
        "It excludes the final fully connected (fc) layer during loading to avoid size mismatch, so that only the feature extractor layers are initialized with pretrained weights."
      ],
      "metadata": {
        "id": "AWxGXUJ_ysiO"
      }
    },
    {
      "cell_type": "code",
      "source": [
        "import torch\n",
        "from torchvision import models\n",
        "from torchvision.models import ResNet50_Weights\n",
        "\n",
        "# 1. Create your ResNet50 model with num_classes=20\n",
        "model = ResNet50(num_classes=20)\n",
        "\n",
        "# 2. Load official pretrained model\n",
        "pretrained = models.resnet50(weights=ResNet50_Weights.DEFAULT)\n",
        "\n",
        "# 3. Get pretrained state_dict\n",
        "pretrained_dict = pretrained.state_dict()\n",
        "model_dict = model.state_dict()\n",
        "\n",
        "# 4. Filter out fc layer (do not load fc.weight and fc.bias)\n",
        "pretrained_dict = {k: v for k, v in pretrained_dict.items() if k in model_dict and not k.startswith('fc.')}\n",
        "\n",
        "# 5. Update current model state_dict\n",
        "model_dict.update(pretrained_dict)\n",
        "model.load_state_dict(model_dict)\n",
        "\n",
        "print(\"Loaded pretrained weights except for fc layer!\")"
      ],
      "metadata": {
        "colab": {
          "base_uri": "https://localhost:8080/"
        },
        "id": "sdNuM_bl14zl",
        "outputId": "288006e5-c592-4662-9baa-6730ebe25779"
      },
      "execution_count": 5,
      "outputs": [
        {
          "output_type": "stream",
          "name": "stderr",
          "text": [
            "Downloading: \"https://download.pytorch.org/models/resnet50-11ad3fa6.pth\" to /root/.cache/torch/hub/checkpoints/resnet50-11ad3fa6.pth\n",
            "100%|██████████| 97.8M/97.8M [00:00<00:00, 178MB/s]\n"
          ]
        },
        {
          "output_type": "stream",
          "name": "stdout",
          "text": [
            "Loaded pretrained weights except for fc layer!\n"
          ]
        }
      ]
    },
    {
      "cell_type": "markdown",
      "source": [
        "# Script to structure training data"
      ],
      "metadata": {
        "id": "gaSjYmZXatCr"
      }
    },
    {
      "cell_type": "code",
      "source": [
        "from google.colab import drive\n",
        "drive.mount('/content/drive')"
      ],
      "metadata": {
        "colab": {
          "base_uri": "https://localhost:8080/"
        },
        "id": "MbS0Fpbof6t3",
        "outputId": "c887b021-1109-46d2-af69-951a3903f174"
      },
      "execution_count": 6,
      "outputs": [
        {
          "output_type": "stream",
          "name": "stdout",
          "text": [
            "Mounted at /content/drive\n"
          ]
        }
      ]
    },
    {
      "cell_type": "markdown",
      "source": [
        "Unzip the dataset"
      ],
      "metadata": {
        "id": "KDhqZ6zyyxGw"
      }
    },
    {
      "cell_type": "code",
      "source": [
        "#unzip the files\n",
        "\n",
        "import zipfile\n",
        "import os\n",
        "\n",
        "# Unzip train\n",
        "train_zip = \"/content/drive/MyDrive/DATA255_Assignment3/imagenet_train.zip\"\n",
        "val_zip = \"/content/drive/MyDrive/DATA255_Assignment3/imagenet_val.zip\"\n",
        "\n",
        "with zipfile.ZipFile(train_zip, 'r') as zip_ref:\n",
        "    zip_ref.extractall(\"/content/train\")\n",
        "\n",
        "with zipfile.ZipFile(val_zip, 'r') as zip_ref:\n",
        "    zip_ref.extractall(\"/content/val\")\n"
      ],
      "metadata": {
        "id": "ieqet2PXf-W9"
      },
      "execution_count": 7,
      "outputs": []
    },
    {
      "cell_type": "markdown",
      "source": [
        "Reorganizes validation images into class-specific folders based on a mapping file (imagenet_val.txt).\n",
        "It reads filenames and class IDs, creates folders for each class, and moves each image from a flat directory into its corresponding class folder.\n",
        "\n",
        "It prepares the validation dataset into a structured format required for ImageFolder loading in PyTorch.\n",
        "\n"
      ],
      "metadata": {
        "id": "xKvj_5FXy04Y"
      }
    },
    {
      "cell_type": "code",
      "source": [
        "import os\n",
        "import shutil\n",
        "\n",
        "val_txt = \"/content/drive/MyDrive/DATA255_Assignment3/imagenet_val.txt\"  # your val mapping file\n",
        "val_input_folder = \"/content/val/imagenet_val20\"  # where flat JPEGs are\n",
        "val_output_folder = \"/content/val/imagenet_val20_structured\"  # target structured folder\n",
        "\n",
        "os.makedirs(val_output_folder, exist_ok=True)\n",
        "\n",
        "with open(val_txt, 'r') as f:\n",
        "    for line in f:\n",
        "        parts = line.strip().split()\n",
        "        if len(parts) < 2:\n",
        "            continue\n",
        "        filename, class_id = parts[0], parts[1]\n",
        "\n",
        "        class_folder = os.path.join(val_output_folder, class_id)\n",
        "        os.makedirs(class_folder, exist_ok=True)\n",
        "\n",
        "        src = os.path.join(val_input_folder, filename)\n",
        "        dst = os.path.join(class_folder, filename)\n",
        "\n",
        "        if os.path.exists(src):\n",
        "            shutil.move(src, dst)\n",
        "        else:\n",
        "            print(f\" Missing: {filename}\")\n"
      ],
      "metadata": {
        "id": "7D1B4Ig7lAVO"
      },
      "execution_count": 8,
      "outputs": []
    },
    {
      "cell_type": "markdown",
      "source": [
        "# Data Augmentation and Normalization"
      ],
      "metadata": {
        "id": "nflLIivZ2CMD"
      }
    },
    {
      "cell_type": "markdown",
      "source": [
        "Reads class names from the training file and renames validation folders to match the actual ImageNet class IDs.\n",
        "It maps folders originally named 0, 1, 2, etc., into meaningful names like 'n01737021', ensuring consistency between training and validation data for loading with ImageFolder.\n",
        "\n",
        "It organizes the validation data to align correctly with ImageNet class labels."
      ],
      "metadata": {
        "id": "c1seP-Q8zIPf"
      }
    },
    {
      "cell_type": "code",
      "source": [
        "import pandas as pd\n",
        "import os\n",
        "\n",
        "val_root = \"/content/val/imagenet_val20_structured/\"  # Path where val folders 0–19 exist\n",
        "\n",
        "# Path to your train.txt file\n",
        "train_txt = \"/content/drive/MyDrive/DATA255_Assignment3/imagenet_train.txt\"\n",
        "\n",
        "# Read the file\n",
        "df = pd.read_csv(train_txt, sep='\\s+', header=None, names=['filename', 'label'])\n",
        "\n",
        "# Extract the class names from filenames\n",
        "train_classes = df['filename'].apply(lambda x: x.split('_')[0]).unique().tolist()\n",
        "\n",
        "print(\"Extracted class names:\", train_classes)\n",
        "print(f\"Total unique classes found: {len(train_classes)}\")\n",
        "\n",
        "#train_classes = ['n01737021', 'n02006656', 'n02011460', 'n02013706', 'n02033041',\n",
        "                 #'n02093991', 'n02117135', 'n02279972', 'n02415577', 'n02423022',\n",
        "                 #'n02676566', 'n02808440', 'n03016953', 'n03476684', 'n03721384',\n",
        "                 #'n03804744', 'n03935335', 'n03938244', 'n04252225', 'n04346328']\n",
        "\n",
        "# Rename folders from '0' → 'n01737021', '1' → 'n02006656', ...\n",
        "for i in range(len(train_classes)):\n",
        "    old_name = os.path.join(val_root, str(i))\n",
        "    new_name = os.path.join(val_root, train_classes[i])\n",
        "    if os.path.exists(old_name):\n",
        "        os.rename(old_name, new_name)\n",
        "        print(f\"Renamed {old_name} → {new_name}\")\n",
        "    else:\n",
        "        print(f\"Folder not found: {old_name}\")\n"
      ],
      "metadata": {
        "colab": {
          "base_uri": "https://localhost:8080/"
        },
        "id": "6dmqwpZDomHM",
        "outputId": "0b7f14e9-fb86-497a-b29f-267025422896"
      },
      "execution_count": 9,
      "outputs": [
        {
          "output_type": "stream",
          "name": "stdout",
          "text": [
            "Extracted class names: ['n01737021', 'n02006656', 'n02011460', 'n02013706', 'n02033041', 'n02093991', 'n02117135', 'n02279972', 'n02415577', 'n02423022', 'n02676566', 'n02808440', 'n03016953', 'n03476684', 'n03721384', 'n03804744', 'n03935335', 'n03938244', 'n04252225', 'n04346328']\n",
            "Total unique classes found: 20\n",
            "Renamed /content/val/imagenet_val20_structured/0 → /content/val/imagenet_val20_structured/n01737021\n",
            "Renamed /content/val/imagenet_val20_structured/1 → /content/val/imagenet_val20_structured/n02006656\n",
            "Renamed /content/val/imagenet_val20_structured/2 → /content/val/imagenet_val20_structured/n02011460\n",
            "Renamed /content/val/imagenet_val20_structured/3 → /content/val/imagenet_val20_structured/n02013706\n",
            "Renamed /content/val/imagenet_val20_structured/4 → /content/val/imagenet_val20_structured/n02033041\n",
            "Renamed /content/val/imagenet_val20_structured/5 → /content/val/imagenet_val20_structured/n02093991\n",
            "Renamed /content/val/imagenet_val20_structured/6 → /content/val/imagenet_val20_structured/n02117135\n",
            "Renamed /content/val/imagenet_val20_structured/7 → /content/val/imagenet_val20_structured/n02279972\n",
            "Renamed /content/val/imagenet_val20_structured/8 → /content/val/imagenet_val20_structured/n02415577\n",
            "Renamed /content/val/imagenet_val20_structured/9 → /content/val/imagenet_val20_structured/n02423022\n",
            "Renamed /content/val/imagenet_val20_structured/10 → /content/val/imagenet_val20_structured/n02676566\n",
            "Renamed /content/val/imagenet_val20_structured/11 → /content/val/imagenet_val20_structured/n02808440\n",
            "Renamed /content/val/imagenet_val20_structured/12 → /content/val/imagenet_val20_structured/n03016953\n",
            "Renamed /content/val/imagenet_val20_structured/13 → /content/val/imagenet_val20_structured/n03476684\n",
            "Renamed /content/val/imagenet_val20_structured/14 → /content/val/imagenet_val20_structured/n03721384\n",
            "Renamed /content/val/imagenet_val20_structured/15 → /content/val/imagenet_val20_structured/n03804744\n",
            "Renamed /content/val/imagenet_val20_structured/16 → /content/val/imagenet_val20_structured/n03935335\n",
            "Renamed /content/val/imagenet_val20_structured/17 → /content/val/imagenet_val20_structured/n03938244\n",
            "Renamed /content/val/imagenet_val20_structured/18 → /content/val/imagenet_val20_structured/n04252225\n",
            "Renamed /content/val/imagenet_val20_structured/19 → /content/val/imagenet_val20_structured/n04346328\n"
          ]
        }
      ]
    },
    {
      "cell_type": "markdown",
      "source": [
        "# Fine tune the Model"
      ],
      "metadata": {
        "id": "dfjwH1Ak2Ggw"
      }
    },
    {
      "cell_type": "code",
      "source": [
        "# Move model to GPU\n",
        "device = torch.device(\"cuda\" if torch.cuda.is_available() else \"cpu\")\n",
        "model = model.to(device)"
      ],
      "metadata": {
        "id": "0lOz66C2OB-Q"
      },
      "execution_count": 27,
      "outputs": []
    },
    {
      "cell_type": "markdown",
      "source": [
        "This cell sets up and trains a ResNet-50 model on a custom 20-class dataset with Adam optimizer, label smoothing, strong data augmentations, and a CosineAnnealing learning rate scheduler.\n",
        "It tracks loss, accuracy, and GPU memory usage after each epoch, printing a clean summary for monitoring training and validation performance.\n",
        "\n",
        "The model loads ImageNet pretrained weights, but fully fine-tunes all layers on the new dataset.\n",
        "\n"
      ],
      "metadata": {
        "id": "2sX0c8DwzWUY"
      }
    },
    {
      "cell_type": "code",
      "source": [
        "import torch\n",
        "import torch.nn as nn\n",
        "import torch.optim as optim\n",
        "import torchvision.models as models\n",
        "import torchvision.datasets as datasets\n",
        "import torchvision.transforms as transforms\n",
        "import matplotlib.pyplot as plt\n",
        "from torch.utils.data import DataLoader\n",
        "\n",
        "# ==== SETTINGS ====\n",
        "device = torch.device('cuda' if torch.cuda.is_available() else 'cpu')\n",
        "num_epochs = 5  # More epochs\n",
        "batch_size = 32\n",
        "learning_rate = 0.0002\n",
        "weight_decay = 1e-4\n",
        "\n",
        "# ==== Memory after model loaded ====\n",
        "def get_memory_info(device):\n",
        "    allocated = torch.cuda.memory_allocated(device) / (1024 ** 2)\n",
        "    reserved = torch.cuda.memory_reserved(device) / (1024 ** 2)\n",
        "    return allocated, reserved\n",
        "\n",
        "alloc_model, reserv_model = get_memory_info(device)\n",
        "print(f\"[Model Load] Allocated: {alloc_model:.2f} MB | Reserved: {reserv_model:.2f} MB\\n\")\n",
        "\n",
        "# ==== Optimizer, Loss, Scheduler ====\n",
        "optimizer = optim.Adam(model.parameters(), lr=learning_rate, weight_decay=weight_decay)\n",
        "criterion = nn.CrossEntropyLoss(label_smoothing=0.1)\n",
        "scheduler = torch.optim.lr_scheduler.CosineAnnealingLR(optimizer, T_max=num_epochs)\n",
        "\n",
        "alloc_opt, reserv_opt = get_memory_info(device)\n",
        "print(f\"[Optimizer Created] Allocated: {alloc_opt:.2f} MB | Reserved: {reserv_opt:.2f} MB\\n\")\n",
        "\n",
        "# ==== Dataset + DataLoader ====\n",
        "transform_train = transforms.Compose([\n",
        "    transforms.RandomResizedCrop(256, scale=(0.8, 1.0)),\n",
        "    transforms.RandomHorizontalFlip(p=0.5),\n",
        "    transforms.RandomAffine(degrees=10, translate=(0.1, 0.1)),\n",
        "    transforms.ColorJitter(brightness=0.2, contrast=0.2, saturation=0.2, hue=0.1),\n",
        "    transforms.RandomRotation(15),\n",
        "    transforms.ToTensor(),\n",
        "    transforms.Normalize([0.485, 0.456, 0.406],\n",
        "                         [0.229, 0.224, 0.225]),\n",
        "    transforms.RandomErasing(p=0.3),\n",
        "])\n",
        "\n",
        "transform_val = transforms.Compose([\n",
        "    transforms.Resize((256, 256)),\n",
        "    transforms.ToTensor(),\n",
        "    transforms.Normalize([0.485, 0.456, 0.406],\n",
        "                         [0.229, 0.224, 0.225])\n",
        "])\n",
        "\n",
        "train_dataset = datasets.ImageFolder(\"/content/train/imagenet_train20a\", transform=transform_train)\n",
        "val_dataset = datasets.ImageFolder(\"/content/val/imagenet_val20_structured\", transform=transform_val)\n",
        "\n",
        "train_loader = DataLoader(train_dataset, batch_size=batch_size, shuffle=True)\n",
        "val_loader = DataLoader(val_dataset, batch_size=batch_size, shuffle=False)\n",
        "\n",
        "# ==== Evaluate helper ====\n",
        "def evaluate(model, loader, device):\n",
        "    model.eval()\n",
        "    correct = 0\n",
        "    total = 0\n",
        "    with torch.no_grad():\n",
        "        for images, labels in loader:\n",
        "            images, labels = images.to(device), labels.to(device)\n",
        "            outputs = model(images)\n",
        "            _, preds = torch.max(outputs, 1)\n",
        "            correct += (preds == labels).sum().item()\n",
        "            total += labels.size(0)\n",
        "    return 100 * correct / total\n",
        "\n",
        "# ==== RECORDERS ====\n",
        "epoch_allocated_memory = []\n",
        "epoch_reserved_memory = []\n",
        "epoch_train_acc = []\n",
        "epoch_val_acc = []\n",
        "epoch_avg_loss = []\n",
        "\n",
        "# ==== TRAINING LOOP ====\n",
        "for epoch in range(num_epochs):\n",
        "    model.train()\n",
        "    running_loss = 0.0\n",
        "\n",
        "    print(f\"=== [Epoch {epoch+1}] Starting ===\")\n",
        "\n",
        "    for images, labels in train_loader:\n",
        "        images, labels = images.to(device), labels.to(device)\n",
        "\n",
        "        optimizer.zero_grad()\n",
        "        outputs = model(images)\n",
        "        loss = criterion(outputs, labels)\n",
        "        loss.backward()\n",
        "        optimizer.step()\n",
        "\n",
        "        running_loss += loss.item()\n",
        "\n",
        "    scheduler.step()\n",
        "\n",
        "    # End of epoch\n",
        "    alloc, reserv = get_memory_info(device)\n",
        "    train_acc = evaluate(model, train_loader, device)\n",
        "    val_acc = evaluate(model, val_loader, device)\n",
        "    avg_loss = running_loss / len(train_loader)\n",
        "\n",
        "    epoch_allocated_memory.append(alloc)\n",
        "    epoch_reserved_memory.append(reserv)\n",
        "    epoch_train_acc.append(train_acc)\n",
        "    epoch_val_acc.append(val_acc)\n",
        "    epoch_avg_loss.append(avg_loss)\n",
        "\n",
        "    print(f\"\\n=== [Epoch {epoch+1} Summary] ===\")\n",
        "    print(f\"Average Loss: {avg_loss:.4f}\")\n",
        "    print(f\"Train Accuracy: {train_acc:.2f}%\")\n",
        "    print(f\"Validation Accuracy: {val_acc:.2f}%\")\n",
        "    print(f\"Allocated Memory: {alloc:.2f} MB | Reserved Memory: {reserv:.2f} MB\")\n",
        "    print(\"=\"*60 + \"\\n\")"
      ],
      "metadata": {
        "colab": {
          "base_uri": "https://localhost:8080/"
        },
        "id": "8C5PpenR2Uk2",
        "outputId": "55da6b79-3980-4529-acf1-f1e16d53c278"
      },
      "execution_count": 30,
      "outputs": [
        {
          "output_type": "stream",
          "name": "stdout",
          "text": [
            "[Model Load] Allocated: 709.31 MB | Reserved: 4676.00 MB\n",
            "\n",
            "[Optimizer Created] Allocated: 709.31 MB | Reserved: 4676.00 MB\n",
            "\n",
            "=== [Epoch 1] Starting ===\n",
            "\n",
            "=== [Epoch 1 Summary] ===\n",
            "Average Loss: 1.0937\n",
            "Train Accuracy: 96.48%\n",
            "Validation Accuracy: 93.90%\n",
            "Allocated Memory: 630.62 MB | Reserved Memory: 4676.00 MB\n",
            "============================================================\n",
            "\n",
            "=== [Epoch 2] Starting ===\n",
            "\n",
            "=== [Epoch 2 Summary] ===\n",
            "Average Loss: 0.7485\n",
            "Train Accuracy: 97.92%\n",
            "Validation Accuracy: 93.80%\n",
            "Allocated Memory: 629.62 MB | Reserved Memory: 4676.00 MB\n",
            "============================================================\n",
            "\n",
            "=== [Epoch 3] Starting ===\n",
            "\n",
            "=== [Epoch 3 Summary] ===\n",
            "Average Loss: 0.6876\n",
            "Train Accuracy: 98.87%\n",
            "Validation Accuracy: 95.60%\n",
            "Allocated Memory: 629.62 MB | Reserved Memory: 4676.00 MB\n",
            "============================================================\n",
            "\n",
            "=== [Epoch 4] Starting ===\n",
            "\n",
            "=== [Epoch 4 Summary] ===\n",
            "Average Loss: 0.6579\n",
            "Train Accuracy: 99.47%\n",
            "Validation Accuracy: 96.10%\n",
            "Allocated Memory: 629.62 MB | Reserved Memory: 4676.00 MB\n",
            "============================================================\n",
            "\n",
            "=== [Epoch 5] Starting ===\n",
            "\n",
            "=== [Epoch 5 Summary] ===\n",
            "Average Loss: 0.6456\n",
            "Train Accuracy: 99.43%\n",
            "Validation Accuracy: 96.30%\n",
            "Allocated Memory: 630.62 MB | Reserved Memory: 4676.00 MB\n",
            "============================================================\n",
            "\n"
          ]
        }
      ]
    },
    {
      "cell_type": "code",
      "source": [
        "# Plot Accuracy\n",
        "plt.figure(figsize=(10,5))\n",
        "plt.plot(range(1, num_epochs+1), epoch_train_acc, label=\"Train Accuracy\", marker='o')\n",
        "plt.plot(range(1, num_epochs+1), epoch_val_acc, label=\"Validation Accuracy\", marker='x')\n",
        "plt.title(\"Accuracy per Epoch\")\n",
        "plt.xlabel(\"Epoch\")\n",
        "plt.ylabel(\"Accuracy (%)\")\n",
        "plt.legend()\n",
        "plt.grid(True)\n",
        "plt.show()"
      ],
      "metadata": {
        "colab": {
          "base_uri": "https://localhost:8080/",
          "height": 391
        },
        "id": "U8NdpYiJt_vi",
        "outputId": "7a647093-cc63-4dc5-f375-c6f734a5fb2d"
      },
      "execution_count": 31,
      "outputs": [
        {
          "output_type": "display_data",
          "data": {
            "text/plain": [
              "<Figure size 1000x500 with 1 Axes>"
            ],
            "image/png": "[encoded data removed]"
          },
          "metadata": {}
        }
      ]
    },
    {
      "cell_type": "code",
      "source": [
        "# Plot Loss\n",
        "plt.figure(figsize=(10,5))\n",
        "plt.plot(range(1, num_epochs+1), epoch_avg_loss, label=\"Average Loss\", marker='o', color='orange')\n",
        "plt.title(\"Average Loss per Epoch\")\n",
        "plt.xlabel(\"Epoch\")\n",
        "plt.ylabel(\"Loss\")\n",
        "plt.legend()\n",
        "plt.grid(True)\n",
        "plt.show()"
      ],
      "metadata": {
        "colab": {
          "base_uri": "https://localhost:8080/",
          "height": 389
        },
        "id": "cpXRMQxfTszG",
        "outputId": "be75ed2b-269b-4857-b84a-5ef8e021df97"
      },
      "execution_count": 32,
      "outputs": [
        {
          "output_type": "display_data",
          "data": {
            "text/plain": [
              "<Figure size 1000x500 with 1 Axes>"
            ],
            "image/png": "[encoded data removed]"
          },
          "metadata": {}
        }
      ]
    },
    {
      "cell_type": "markdown",
      "source": [
        "# GPU Memory Calculation"
      ],
      "metadata": {
        "id": "SExnEdh3x8s-"
      }
    },
    {
      "cell_type": "markdown",
      "source": [
        "This function measures the GPU memory usage separately during the forward pass and the backward pass for a model on a single batch of data.\n",
        "It clears the CUDA cache, resets memory stats, and prints out how much GPU memory was actually used in each stage, helping diagnose memory bottlenecks during training.\n",
        "\n",
        "Very useful for debugging and optimizing large models!\n",
        "\n"
      ],
      "metadata": {
        "id": "n1Wh5X6NzjgJ"
      }
    },
    {
      "cell_type": "code",
      "source": [
        "import torch\n",
        "import torch.nn as nn\n",
        "import torch.optim as optim\n",
        "\n",
        "def measure_gpu_memory(model, data_loader, device):\n",
        "    print(\"\\nMeasuring actual GPU memory usage...\")\n",
        "\n",
        "    # Clear CUDA memory\n",
        "    torch.cuda.empty_cache()\n",
        "    torch.cuda.reset_peak_memory_stats(device)\n",
        "\n",
        "    # === Forward Pass Memory ===\n",
        "    model.eval()\n",
        "    initial_memory = torch.cuda.memory_allocated(device) / 1e6  # MB\n",
        "\n",
        "    with torch.no_grad():\n",
        "        for inputs, labels in data_loader:\n",
        "            inputs, labels = inputs.to(device), labels.to(device)\n",
        "            outputs = model(inputs)\n",
        "            break  # only one batch\n",
        "\n",
        "    forward_peak = torch.cuda.max_memory_allocated(device) / 1e6  # MB\n",
        "    print(f\"Forward Pass Memory Used: {forward_peak - initial_memory:.2f} MB\")\n",
        "\n",
        "    # === Backward Pass Memory ===\n",
        "    model.train()\n",
        "    torch.cuda.reset_peak_memory_stats(device)  # reset again\n",
        "\n",
        "    criterion = nn.CrossEntropyLoss()\n",
        "    optimizer = optim.Adam(filter(lambda p: p.requires_grad, model.parameters()), lr=1e-4)\n",
        "\n",
        "    initial_memory = torch.cuda.memory_allocated(device) / 1e6  # MB\n",
        "\n",
        "    for inputs, labels in data_loader:\n",
        "        inputs, labels = inputs.to(device), labels.to(device)\n",
        "        optimizer.zero_grad()\n",
        "        outputs = model(inputs)\n",
        "        loss = criterion(outputs, labels)\n",
        "        loss.backward()\n",
        "        break  # only one batch\n",
        "\n",
        "    backward_peak = torch.cuda.max_memory_allocated(device) / 1e6  # MB\n",
        "    print(f\"Backward Pass Memory Used: {backward_peak - initial_memory:.2f} MB\")\n"
      ],
      "metadata": {
        "id": "xOVDmKkNy7oK"
      },
      "execution_count": 33,
      "outputs": []
    },
    {
      "cell_type": "code",
      "source": [
        "measure_gpu_memory(model, train_loader, device)"
      ],
      "metadata": {
        "colab": {
          "base_uri": "https://localhost:8080/"
        },
        "id": "kM1SKbxAU2xZ",
        "outputId": "e4f05752-88b4-4c67-ba20-0807f8973851"
      },
      "execution_count": 34,
      "outputs": [
        {
          "output_type": "stream",
          "name": "stdout",
          "text": [
            "\n",
            "Measuring actual GPU memory usage...\n",
            "Forward Pass Memory Used: 461.37 MB\n",
            "Backward Pass Memory Used: 3504.24 MB\n"
          ]
        }
      ]
    },
    {
      "cell_type": "markdown",
      "source": [
        "I implemented a custom ResNet-50 architecture based on the official PyTorch torchvision.models.resnet50 structure and applied transfer learning for a 20-class image classification task on 256×256 images.\n",
        "\n",
        "Key Steps:\n",
        "1. Custom Architecture Definition:\n",
        "\n",
        "Recreated the ResNet-50 network using Bottleneck blocks and the _make_layer method.\n",
        "\n",
        "Preserved the standard configuration of 3-4-6-3 bottleneck blocks across 4 stages.\n",
        "\n",
        "Adapted the architecture to output 20 classes directly using nn.Linear(2048, 20).\n",
        "\n",
        "2. Pretrained Weights Loading (excluding final layer):\n",
        "\n",
        "Initialized the model with num_classes=20.\n",
        "\n",
        "Loaded pretrained weights from torchvision.models.resnet50(weights=ResNet50_Weights.DEFAULT).\n",
        "\n",
        "Manually updated the model's state_dict to load all layers except fc, allowing a clean transfer of pretrained features without size mismatch.\n",
        "\n",
        "3. Input Size Adaptation:\n",
        "\n",
        "Designed the model to correctly process 256×256 input images, utilizing ResNet’s global average pooling for flexibility in input size.\n",
        "\n",
        "4. Transfer Learning and Fine-tuning Strategy:\n",
        "\n",
        "Performed full fine-tuning (trained all layers) using the Adam optimizer with weight decay and label smoothing.\n",
        "\n",
        "Applied strong data augmentations (RandomResizedCrop, ColorJitter, RandomAffine, RandomErasing) during training to boost generalization.\n",
        "\n",
        "5. Results Achieved:\n",
        "\n",
        "Training Accuracy reached 99.43% by epoch 5.\n",
        "\n",
        "Validation Accuracy achieved 96.30% by epoch 5.\n",
        "\n",
        "Training Loss reduced steadily from 1.0937 to 0.6456.\n",
        "\n",
        "GPU Memory Usage:\n",
        "\n",
        "Forward Pass Memory Used: ~461 MB\n",
        "\n",
        "Backward Pass Memory Used: ~3504 MB\n",
        "\n",
        "Peak Reserved Memory during training: 4676 MB."
      ],
      "metadata": {
        "id": "FeiUxV_jUZsr"
      }
    },
    {
      "cell_type": "markdown",
      "source": [
        "# I have attached the architecture diagram in the word document and created the architecture using torchviz, please refer ResNet50_Architecture_AparnaSuresh.docx and resnet50_architecture.png as I was not able to paste the image here."
      ],
      "metadata": {
        "id": "1Lh4R2oQUy5G"
      }
    },
    {
      "cell_type": "code",
      "source": [],
      "metadata": {
        "id": "vvvEwRvvdWIc"
      },
      "execution_count": null,
      "outputs": []
    }
  ]
}