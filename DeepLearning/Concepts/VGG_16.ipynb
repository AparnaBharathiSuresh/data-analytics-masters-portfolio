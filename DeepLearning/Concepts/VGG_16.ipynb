{
  "nbformat": 4,
  "nbformat_minor": 0,
  "metadata": {
    "colab": {
      "provenance": [],
      "gpuType": "A100",
      "machine_shape": "hm"
    },
    "kernelspec": {
      "name": "python3",
      "display_name": "Python 3"
    },
    "language_info": {
      "name": "python"
    },
    "accelerator": "GPU"
  },
  "cells": [
    {
      "cell_type": "markdown",
      "source": [
        "# VGG16 Network"
      ],
      "metadata": {
        "id": "ny5sRGwcwWJz"
      }
    },
    {
      "cell_type": "code",
      "execution_count": 2,
      "metadata": {
        "id": "e7qkcYJbvQEb"
      },
      "outputs": [],
      "source": [
        "import torch\n",
        "import torch.nn as nn\n",
        "\n",
        "class VGG16Scratch(nn.Module):\n",
        "    def __init__(self, num_classes=1000):  # must match for loading weights\n",
        "        super(VGG16Scratch, self).__init__()\n",
        "\n",
        "        self.features = nn.Sequential(\n",
        "            # Block 1\n",
        "            nn.Conv2d(3, 64, kernel_size=3, padding=1), nn.ReLU(inplace=True),\n",
        "            nn.Conv2d(64, 64, kernel_size=3, padding=1), nn.ReLU(inplace=True),\n",
        "            nn.MaxPool2d(kernel_size=2, stride=2),\n",
        "\n",
        "            # Block 2\n",
        "            nn.Conv2d(64, 128, kernel_size=3, padding=1), nn.ReLU(inplace=True),\n",
        "            nn.Conv2d(128, 128, kernel_size=3, padding=1), nn.ReLU(inplace=True),\n",
        "            nn.MaxPool2d(kernel_size=2, stride=2),\n",
        "\n",
        "            # Block 3\n",
        "            nn.Conv2d(128, 256, kernel_size=3, padding=1), nn.ReLU(inplace=True),\n",
        "            nn.Conv2d(256, 256, kernel_size=3, padding=1), nn.ReLU(inplace=True),\n",
        "            nn.Conv2d(256, 256, kernel_size=3, padding=1), nn.ReLU(inplace=True),\n",
        "            nn.MaxPool2d(kernel_size=2, stride=2),\n",
        "\n",
        "            # Block 4\n",
        "            nn.Conv2d(256, 512, kernel_size=3, padding=1), nn.ReLU(inplace=True),\n",
        "            nn.Conv2d(512, 512, kernel_size=3, padding=1), nn.ReLU(inplace=True),\n",
        "            nn.Conv2d(512, 512, kernel_size=3, padding=1), nn.ReLU(inplace=True),\n",
        "            nn.MaxPool2d(kernel_size=2, stride=2),\n",
        "\n",
        "            # Block 5\n",
        "            nn.Conv2d(512, 512, kernel_size=3, padding=1), nn.ReLU(inplace=True),\n",
        "            nn.Conv2d(512, 512, kernel_size=3, padding=1), nn.ReLU(inplace=True),\n",
        "            nn.Conv2d(512, 512, kernel_size=3, padding=1), nn.ReLU(inplace=True),\n",
        "            nn.MaxPool2d(kernel_size=2, stride=2),\n",
        "        )\n",
        "\n",
        "        self.classifier = nn.Sequential(\n",
        "            nn.Linear(512 * 8 * 8, 4096),  # changed from 7*7 to 8*8\n",
        "            nn.ReLU(True),\n",
        "            nn.Dropout(0.5),\n",
        "            nn.Linear(4096, 4096),\n",
        "            nn.ReLU(True),\n",
        "            nn.Dropout(0.5),\n",
        "            nn.Linear(4096, num_classes),\n",
        "      )\n",
        "\n",
        "\n",
        "    def forward(self, x):\n",
        "        x = self.features(x)\n",
        "        x = x.view(x.size(0), -1)\n",
        "        x = self.classifier(x)\n",
        "        return x\n"
      ]
    },
    {
      "cell_type": "markdown",
      "source": [
        "# Print Parameters Per Layer"
      ],
      "metadata": {
        "id": "KNYnb5VBwaSX"
      }
    },
    {
      "cell_type": "code",
      "source": [
        "model = VGG16Scratch(num_classes=20)\n",
        "print(\"Trainable parameters:\")\n",
        "for name, param in model.named_parameters():\n",
        "    if param.requires_grad:\n",
        "        print(f\"{name}: {param.numel()} parameters\")"
      ],
      "metadata": {
        "colab": {
          "base_uri": "https://localhost:8080/"
        },
        "id": "HPvJhUltwT53",
        "outputId": "598b8ca3-7a7f-47c4-b022-75d58c6d92f5"
      },
      "execution_count": 3,
      "outputs": [
        {
          "output_type": "stream",
          "name": "stdout",
          "text": [
            "Trainable parameters:\n",
            "features.0.weight: 1728 parameters\n",
            "features.0.bias: 64 parameters\n",
            "features.2.weight: 36864 parameters\n",
            "features.2.bias: 64 parameters\n",
            "features.5.weight: 73728 parameters\n",
            "features.5.bias: 128 parameters\n",
            "features.7.weight: 147456 parameters\n",
            "features.7.bias: 128 parameters\n",
            "features.10.weight: 294912 parameters\n",
            "features.10.bias: 256 parameters\n",
            "features.12.weight: 589824 parameters\n",
            "features.12.bias: 256 parameters\n",
            "features.14.weight: 589824 parameters\n",
            "features.14.bias: 256 parameters\n",
            "features.17.weight: 1179648 parameters\n",
            "features.17.bias: 512 parameters\n",
            "features.19.weight: 2359296 parameters\n",
            "features.19.bias: 512 parameters\n",
            "features.21.weight: 2359296 parameters\n",
            "features.21.bias: 512 parameters\n",
            "features.24.weight: 2359296 parameters\n",
            "features.24.bias: 512 parameters\n",
            "features.26.weight: 2359296 parameters\n",
            "features.26.bias: 512 parameters\n",
            "features.28.weight: 2359296 parameters\n",
            "features.28.bias: 512 parameters\n",
            "classifier.0.weight: 134217728 parameters\n",
            "classifier.0.bias: 4096 parameters\n",
            "classifier.3.weight: 16777216 parameters\n",
            "classifier.3.bias: 4096 parameters\n",
            "classifier.6.weight: 81920 parameters\n",
            "classifier.6.bias: 20 parameters\n"
          ]
        }
      ]
    },
    {
      "cell_type": "code",
      "source": [
        "pip install torchviz\n"
      ],
      "metadata": {
        "colab": {
          "base_uri": "https://localhost:8080/"
        },
        "id": "olZT-cDd3Luv",
        "outputId": "6f3d62da-cc50-403d-e531-d337b20cadc9"
      },
      "execution_count": 4,
      "outputs": [
        {
          "output_type": "stream",
          "name": "stdout",
          "text": [
            "Requirement already satisfied: torchviz in /usr/local/lib/python3.11/dist-packages (0.0.3)\n",
            "Requirement already satisfied: torch in /usr/local/lib/python3.11/dist-packages (from torchviz) (2.6.0+cu124)\n",
            "Requirement already satisfied: graphviz in /usr/local/lib/python3.11/dist-packages (from torchviz) (0.20.3)\n",
            "Requirement already satisfied: filelock in /usr/local/lib/python3.11/dist-packages (from torch->torchviz) (3.18.0)\n",
            "Requirement already satisfied: typing-extensions>=4.10.0 in /usr/local/lib/python3.11/dist-packages (from torch->torchviz) (4.13.2)\n",
            "Requirement already satisfied: networkx in /usr/local/lib/python3.11/dist-packages (from torch->torchviz) (3.4.2)\n",
            "Requirement already satisfied: jinja2 in /usr/local/lib/python3.11/dist-packages (from torch->torchviz) (3.1.6)\n",
            "Requirement already satisfied: fsspec in /usr/local/lib/python3.11/dist-packages (from torch->torchviz) (2025.3.2)\n",
            "Requirement already satisfied: nvidia-cuda-nvrtc-cu12==12.4.127 in /usr/local/lib/python3.11/dist-packages (from torch->torchviz) (12.4.127)\n",
            "Requirement already satisfied: nvidia-cuda-runtime-cu12==12.4.127 in /usr/local/lib/python3.11/dist-packages (from torch->torchviz) (12.4.127)\n",
            "Requirement already satisfied: nvidia-cuda-cupti-cu12==12.4.127 in /usr/local/lib/python3.11/dist-packages (from torch->torchviz) (12.4.127)\n",
            "Requirement already satisfied: nvidia-cudnn-cu12==9.1.0.70 in /usr/local/lib/python3.11/dist-packages (from torch->torchviz) (9.1.0.70)\n",
            "Requirement already satisfied: nvidia-cublas-cu12==12.4.5.8 in /usr/local/lib/python3.11/dist-packages (from torch->torchviz) (12.4.5.8)\n",
            "Requirement already satisfied: nvidia-cufft-cu12==11.2.1.3 in /usr/local/lib/python3.11/dist-packages (from torch->torchviz) (11.2.1.3)\n",
            "Requirement already satisfied: nvidia-curand-cu12==10.3.5.147 in /usr/local/lib/python3.11/dist-packages (from torch->torchviz) (10.3.5.147)\n",
            "Requirement already satisfied: nvidia-cusolver-cu12==11.6.1.9 in /usr/local/lib/python3.11/dist-packages (from torch->torchviz) (11.6.1.9)\n",
            "Requirement already satisfied: nvidia-cusparse-cu12==12.3.1.170 in /usr/local/lib/python3.11/dist-packages (from torch->torchviz) (12.3.1.170)\n",
            "Requirement already satisfied: nvidia-cusparselt-cu12==0.6.2 in /usr/local/lib/python3.11/dist-packages (from torch->torchviz) (0.6.2)\n",
            "Requirement already satisfied: nvidia-nccl-cu12==2.21.5 in /usr/local/lib/python3.11/dist-packages (from torch->torchviz) (2.21.5)\n",
            "Requirement already satisfied: nvidia-nvtx-cu12==12.4.127 in /usr/local/lib/python3.11/dist-packages (from torch->torchviz) (12.4.127)\n",
            "Requirement already satisfied: nvidia-nvjitlink-cu12==12.4.127 in /usr/local/lib/python3.11/dist-packages (from torch->torchviz) (12.4.127)\n",
            "Requirement already satisfied: triton==3.2.0 in /usr/local/lib/python3.11/dist-packages (from torch->torchviz) (3.2.0)\n",
            "Requirement already satisfied: sympy==1.13.1 in /usr/local/lib/python3.11/dist-packages (from torch->torchviz) (1.13.1)\n",
            "Requirement already satisfied: mpmath<1.4,>=1.1.0 in /usr/local/lib/python3.11/dist-packages (from sympy==1.13.1->torch->torchviz) (1.3.0)\n",
            "Requirement already satisfied: MarkupSafe>=2.0 in /usr/local/lib/python3.11/dist-packages (from jinja2->torch->torchviz) (3.0.2)\n"
          ]
        }
      ]
    },
    {
      "cell_type": "code",
      "source": [
        "from torchviz import make_dot\n"
      ],
      "metadata": {
        "id": "Ty5sVEPn3Ot9"
      },
      "execution_count": 5,
      "outputs": []
    },
    {
      "cell_type": "code",
      "source": [
        "device = torch.device(\"cuda\" if torch.cuda.is_available() else \"cpu\")"
      ],
      "metadata": {
        "id": "NlFBsacS3jvY"
      },
      "execution_count": 6,
      "outputs": []
    },
    {
      "cell_type": "code",
      "source": [
        "model = VGG16Scratch(num_classes=20).to(device)\n",
        "dummy_input = torch.randn(1, 3, 256, 256).to(device)  # Batch size = 1\n",
        "\n",
        "# Forward pass\n",
        "output = model(dummy_input)\n",
        "\n",
        "# Create the visualization\n",
        "dot = make_dot(output, params=dict(model.named_parameters()))\n",
        "\n",
        "# Save or display\n",
        "dot.render(\"vgg_16\", format=\"png\")\n"
      ],
      "metadata": {
        "colab": {
          "base_uri": "https://localhost:8080/",
          "height": 36
        },
        "id": "N0VeN3a53USo",
        "outputId": "1ce12410-afd2-4564-9baa-5e2004ef4160"
      },
      "execution_count": 7,
      "outputs": [
        {
          "output_type": "execute_result",
          "data": {
            "text/plain": [
              "'vgg_16.png'"
            ],
            "application/vnd.google.colaboratory.intrinsic+json": {
              "type": "string"
            }
          },
          "metadata": {},
          "execution_count": 7
        }
      ]
    },
    {
      "cell_type": "markdown",
      "source": [
        "# Visual Summary"
      ],
      "metadata": {
        "id": "cuNmOpli0W6Y"
      }
    },
    {
      "cell_type": "code",
      "source": [
        "pip install torchsummary"
      ],
      "metadata": {
        "colab": {
          "base_uri": "https://localhost:8080/"
        },
        "id": "HUegd8fk0bxp",
        "outputId": "7541929e-c957-42b3-fbba-25e6c9c5c048"
      },
      "execution_count": null,
      "outputs": [
        {
          "output_type": "stream",
          "name": "stdout",
          "text": [
            "Requirement already satisfied: torchsummary in /usr/local/lib/python3.11/dist-packages (1.5.1)\n"
          ]
        }
      ]
    },
    {
      "cell_type": "code",
      "source": [
        "from torchsummary import summary\n",
        "\n",
        "device = torch.device(\"cuda\" if torch.cuda.is_available() else \"cpu\")\n",
        "model = model.to(device)  # make sure model is on GPU\n",
        "\n",
        "summary(model, input_size=(3, 256, 256), device=\"cuda\")  # tell summary to use cuda too\n"
      ],
      "metadata": {
        "colab": {
          "base_uri": "https://localhost:8080/"
        },
        "id": "eDCYqW8b0dTf",
        "outputId": "c82278a3-1bea-4730-ee8c-a7c3ee68da62"
      },
      "execution_count": null,
      "outputs": [
        {
          "output_type": "stream",
          "name": "stdout",
          "text": [
            "----------------------------------------------------------------\n",
            "        Layer (type)               Output Shape         Param #\n",
            "================================================================\n",
            "            Conv2d-1         [-1, 64, 256, 256]           1,792\n",
            "              ReLU-2         [-1, 64, 256, 256]               0\n",
            "            Conv2d-3         [-1, 64, 256, 256]          36,928\n",
            "              ReLU-4         [-1, 64, 256, 256]               0\n",
            "         MaxPool2d-5         [-1, 64, 128, 128]               0\n",
            "            Conv2d-6        [-1, 128, 128, 128]          73,856\n",
            "              ReLU-7        [-1, 128, 128, 128]               0\n",
            "            Conv2d-8        [-1, 128, 128, 128]         147,584\n",
            "              ReLU-9        [-1, 128, 128, 128]               0\n",
            "        MaxPool2d-10          [-1, 128, 64, 64]               0\n",
            "           Conv2d-11          [-1, 256, 64, 64]         295,168\n",
            "             ReLU-12          [-1, 256, 64, 64]               0\n",
            "           Conv2d-13          [-1, 256, 64, 64]         590,080\n",
            "             ReLU-14          [-1, 256, 64, 64]               0\n",
            "           Conv2d-15          [-1, 256, 64, 64]         590,080\n",
            "             ReLU-16          [-1, 256, 64, 64]               0\n",
            "        MaxPool2d-17          [-1, 256, 32, 32]               0\n",
            "           Conv2d-18          [-1, 512, 32, 32]       1,180,160\n",
            "             ReLU-19          [-1, 512, 32, 32]               0\n",
            "           Conv2d-20          [-1, 512, 32, 32]       2,359,808\n",
            "             ReLU-21          [-1, 512, 32, 32]               0\n",
            "           Conv2d-22          [-1, 512, 32, 32]       2,359,808\n",
            "             ReLU-23          [-1, 512, 32, 32]               0\n",
            "        MaxPool2d-24          [-1, 512, 16, 16]               0\n",
            "           Conv2d-25          [-1, 512, 16, 16]       2,359,808\n",
            "             ReLU-26          [-1, 512, 16, 16]               0\n",
            "           Conv2d-27          [-1, 512, 16, 16]       2,359,808\n",
            "             ReLU-28          [-1, 512, 16, 16]               0\n",
            "           Conv2d-29          [-1, 512, 16, 16]       2,359,808\n",
            "             ReLU-30          [-1, 512, 16, 16]               0\n",
            "        MaxPool2d-31            [-1, 512, 8, 8]               0\n",
            "           Linear-32                 [-1, 4096]     134,221,824\n",
            "             ReLU-33                 [-1, 4096]               0\n",
            "          Dropout-34                 [-1, 4096]               0\n",
            "           Linear-35                 [-1, 4096]      16,781,312\n",
            "             ReLU-36                 [-1, 4096]               0\n",
            "          Dropout-37                 [-1, 4096]               0\n",
            "           Linear-38                   [-1, 20]          81,940\n",
            "================================================================\n",
            "Total params: 165,799,764\n",
            "Trainable params: 165,799,764\n",
            "Non-trainable params: 0\n",
            "----------------------------------------------------------------\n",
            "Input size (MB): 0.75\n",
            "Forward/backward pass size (MB): 285.44\n",
            "Params size (MB): 632.48\n",
            "Estimated Total Size (MB): 918.66\n",
            "----------------------------------------------------------------\n"
          ]
        }
      ]
    },
    {
      "cell_type": "markdown",
      "source": [
        "# Load Pretrained Weights"
      ],
      "metadata": {
        "id": "CzLvF2dC13vz"
      }
    },
    {
      "cell_type": "code",
      "source": [
        "from torchvision import models\n",
        "\n",
        "# 1. Load official pretrained VGG16 model (224x224 setup)\n",
        "vgg_pretrained = models.vgg16(pretrained=True)\n",
        "\n",
        "# 2. Your custom 256x256-compatible model\n",
        "model = VGG16Scratch(num_classes=20)  # classifier has Linear(512*8*8, 4096)"
      ],
      "metadata": {
        "colab": {
          "base_uri": "https://localhost:8080/"
        },
        "id": "sdNuM_bl14zl",
        "outputId": "efd430d3-852a-4374-e8c7-9752b8ddf36b"
      },
      "execution_count": null,
      "outputs": [
        {
          "output_type": "stream",
          "name": "stderr",
          "text": [
            "/usr/local/lib/python3.11/dist-packages/torchvision/models/_utils.py:208: UserWarning: The parameter 'pretrained' is deprecated since 0.13 and may be removed in the future, please use 'weights' instead.\n",
            "  warnings.warn(\n",
            "/usr/local/lib/python3.11/dist-packages/torchvision/models/_utils.py:223: UserWarning: Arguments other than a weight enum or `None` for 'weights' are deprecated since 0.13 and may be removed in the future. The current behavior is equivalent to passing `weights=VGG16_Weights.IMAGENET1K_V1`. You can also use `weights=VGG16_Weights.DEFAULT` to get the most up-to-date weights.\n",
            "  warnings.warn(msg)\n",
            "Downloading: \"https://download.pytorch.org/models/vgg16-397923af.pth\" to /root/.cache/torch/hub/checkpoints/vgg16-397923af.pth\n",
            "100%|██████████| 528M/528M [00:05<00:00, 92.9MB/s]\n"
          ]
        }
      ]
    },
    {
      "cell_type": "code",
      "source": [
        "model.features.load_state_dict(vgg_pretrained.features.state_dict())"
      ],
      "metadata": {
        "colab": {
          "base_uri": "https://localhost:8080/"
        },
        "id": "WJ2zdexJODyg",
        "outputId": "e6e8c198-56b3-4ff8-c571-9027061fe2b1"
      },
      "execution_count": null,
      "outputs": [
        {
          "output_type": "execute_result",
          "data": {
            "text/plain": [
              "<All keys matched successfully>"
            ]
          },
          "metadata": {},
          "execution_count": 6
        }
      ]
    },
    {
      "cell_type": "code",
      "source": [
        "#Replace Output Layer for 20 Classes\n",
        "vgg_pretrained.classifier[-1] = nn.Linear(4096, 20)"
      ],
      "metadata": {
        "id": "sdLBhilOArxQ"
      },
      "execution_count": null,
      "outputs": []
    },
    {
      "cell_type": "code",
      "source": [
        "pretrained_dict = vgg_pretrained.state_dict()\n",
        "model_dict = model.state_dict()\n",
        "\n",
        "# Filter only those keys that match in shape\n",
        "filtered_dict = {k: v for k, v in pretrained_dict.items() if k in model_dict and v.shape == model_dict[k].shape}\n",
        "\n",
        "# Load them\n",
        "model.load_state_dict(filtered_dict, strict=False)"
      ],
      "metadata": {
        "colab": {
          "base_uri": "https://localhost:8080/"
        },
        "id": "0O8Maxj0OL5B",
        "outputId": "8153e83b-64f5-4071-94c7-85e33d649e19"
      },
      "execution_count": null,
      "outputs": [
        {
          "output_type": "execute_result",
          "data": {
            "text/plain": [
              "_IncompatibleKeys(missing_keys=['classifier.0.weight'], unexpected_keys=[])"
            ]
          },
          "metadata": {},
          "execution_count": 9
        }
      ]
    },
    {
      "cell_type": "markdown",
      "source": [
        "# Script to structure training data"
      ],
      "metadata": {
        "id": "gaSjYmZXatCr"
      }
    },
    {
      "cell_type": "code",
      "source": [
        "from google.colab import drive\n",
        "drive.mount('/content/drive')"
      ],
      "metadata": {
        "colab": {
          "base_uri": "https://localhost:8080/"
        },
        "id": "MbS0Fpbof6t3",
        "outputId": "60f249fe-3eac-4fe2-d720-6e95b68f44a2"
      },
      "execution_count": null,
      "outputs": [
        {
          "output_type": "stream",
          "name": "stdout",
          "text": [
            "Mounted at /content/drive\n"
          ]
        }
      ]
    },
    {
      "cell_type": "code",
      "source": [
        "#unzip the files\n",
        "\n",
        "import zipfile\n",
        "import os\n",
        "\n",
        "# Unzip train\n",
        "train_zip = \"/content/drive/MyDrive/DATA255_Assignmnet3/imagenet_train.zip\"\n",
        "val_zip = \"/content/drive/MyDrive/DATA255_Assignmnet3/imagenet_val.zip\"\n",
        "\n",
        "with zipfile.ZipFile(train_zip, 'r') as zip_ref:\n",
        "    zip_ref.extractall(\"/content/train\")\n",
        "\n",
        "with zipfile.ZipFile(val_zip, 'r') as zip_ref:\n",
        "    zip_ref.extractall(\"/content/val\")\n"
      ],
      "metadata": {
        "id": "ieqet2PXf-W9"
      },
      "execution_count": null,
      "outputs": []
    },
    {
      "cell_type": "code",
      "source": [
        "import os\n",
        "import shutil\n",
        "\n",
        "val_txt = \"/content/drive/MyDrive/DATA255_Assignmnet3/imagenet_val.txt\"  # your val mapping file\n",
        "val_input_folder = \"/content/val/imagenet_val20\"  # where flat JPEGs are\n",
        "val_output_folder = \"/content/val/imagenet_val20_structured\"  # target structured folder\n",
        "\n",
        "os.makedirs(val_output_folder, exist_ok=True)\n",
        "\n",
        "with open(val_txt, 'r') as f:\n",
        "    for line in f:\n",
        "        parts = line.strip().split()\n",
        "        if len(parts) < 2:\n",
        "            continue\n",
        "        filename, class_id = parts[0], parts[1]\n",
        "\n",
        "        class_folder = os.path.join(val_output_folder, class_id)\n",
        "        os.makedirs(class_folder, exist_ok=True)\n",
        "\n",
        "        src = os.path.join(val_input_folder, filename)\n",
        "        dst = os.path.join(class_folder, filename)\n",
        "\n",
        "        if os.path.exists(src):\n",
        "            shutil.move(src, dst)\n",
        "        else:\n",
        "            print(f\"⚠️ Missing: {filename}\")\n"
      ],
      "metadata": {
        "id": "7D1B4Ig7lAVO"
      },
      "execution_count": null,
      "outputs": []
    },
    {
      "cell_type": "markdown",
      "source": [
        "# Data Augmentation and Normalization"
      ],
      "metadata": {
        "id": "nflLIivZ2CMD"
      }
    },
    {
      "cell_type": "code",
      "source": [
        "import os\n",
        "\n",
        "val_root = \"/content/val/imagenet_val20_structured/\"  # Path where val folders 0–19 exist\n",
        "\n",
        "# Your training class names in the correct order\n",
        "train_classes = ['n01737021', 'n02006656', 'n02011460', 'n02013706', 'n02033041',\n",
        "                 'n02093991', 'n02117135', 'n02279972', 'n02415577', 'n02423022',\n",
        "                 'n02676566', 'n02808440', 'n03016953', 'n03476684', 'n03721384',\n",
        "                 'n03804744', 'n03935335', 'n03938244', 'n04252225', 'n04346328']\n",
        "\n",
        "# Rename folders from '0' → 'n01737021', '1' → 'n02006656', ...\n",
        "for i in range(20):\n",
        "    old_name = os.path.join(val_root, str(i))\n",
        "    new_name = os.path.join(val_root, train_classes[i])\n",
        "    if os.path.exists(old_name):\n",
        "        os.rename(old_name, new_name)\n",
        "        print(f\"✅ Renamed {old_name} → {new_name}\")\n",
        "    else:\n",
        "        print(f\"⚠️ Folder not found: {old_name}\")"
      ],
      "metadata": {
        "colab": {
          "base_uri": "https://localhost:8080/"
        },
        "id": "6dmqwpZDomHM",
        "outputId": "c3e3a6e3-bfb7-4bea-b9d4-0b0c6b4f8799"
      },
      "execution_count": null,
      "outputs": [
        {
          "output_type": "stream",
          "name": "stdout",
          "text": [
            "✅ Renamed /content/val/imagenet_val20_structured/0 → /content/val/imagenet_val20_structured/n01737021\n",
            "✅ Renamed /content/val/imagenet_val20_structured/1 → /content/val/imagenet_val20_structured/n02006656\n",
            "✅ Renamed /content/val/imagenet_val20_structured/2 → /content/val/imagenet_val20_structured/n02011460\n",
            "✅ Renamed /content/val/imagenet_val20_structured/3 → /content/val/imagenet_val20_structured/n02013706\n",
            "✅ Renamed /content/val/imagenet_val20_structured/4 → /content/val/imagenet_val20_structured/n02033041\n",
            "✅ Renamed /content/val/imagenet_val20_structured/5 → /content/val/imagenet_val20_structured/n02093991\n",
            "✅ Renamed /content/val/imagenet_val20_structured/6 → /content/val/imagenet_val20_structured/n02117135\n",
            "✅ Renamed /content/val/imagenet_val20_structured/7 → /content/val/imagenet_val20_structured/n02279972\n",
            "✅ Renamed /content/val/imagenet_val20_structured/8 → /content/val/imagenet_val20_structured/n02415577\n",
            "✅ Renamed /content/val/imagenet_val20_structured/9 → /content/val/imagenet_val20_structured/n02423022\n",
            "✅ Renamed /content/val/imagenet_val20_structured/10 → /content/val/imagenet_val20_structured/n02676566\n",
            "✅ Renamed /content/val/imagenet_val20_structured/11 → /content/val/imagenet_val20_structured/n02808440\n",
            "✅ Renamed /content/val/imagenet_val20_structured/12 → /content/val/imagenet_val20_structured/n03016953\n",
            "✅ Renamed /content/val/imagenet_val20_structured/13 → /content/val/imagenet_val20_structured/n03476684\n",
            "✅ Renamed /content/val/imagenet_val20_structured/14 → /content/val/imagenet_val20_structured/n03721384\n",
            "✅ Renamed /content/val/imagenet_val20_structured/15 → /content/val/imagenet_val20_structured/n03804744\n",
            "✅ Renamed /content/val/imagenet_val20_structured/16 → /content/val/imagenet_val20_structured/n03935335\n",
            "✅ Renamed /content/val/imagenet_val20_structured/17 → /content/val/imagenet_val20_structured/n03938244\n",
            "✅ Renamed /content/val/imagenet_val20_structured/18 → /content/val/imagenet_val20_structured/n04252225\n",
            "✅ Renamed /content/val/imagenet_val20_structured/19 → /content/val/imagenet_val20_structured/n04346328\n"
          ]
        }
      ]
    },
    {
      "cell_type": "code",
      "source": [
        "from torchvision import datasets, transforms\n",
        "from torch.utils.data import DataLoader\n",
        "\n",
        "# Data augmentation + normalization (preserves 256x256)\n",
        "transform_train = transforms.Compose([\n",
        "    transforms.RandomResizedCrop(256, scale=(0.8, 1.0)),  # handles all sizes\n",
        "    transforms.RandomHorizontalFlip(),\n",
        "    transforms.ColorJitter(brightness=0.2, contrast=0.2, saturation=0.2, hue=0.1),\n",
        "    transforms.RandomRotation(15),\n",
        "    transforms.ToTensor(),\n",
        "    transforms.Normalize([0.485, 0.456, 0.406],\n",
        "                         [0.229, 0.224, 0.225]),\n",
        "])\n",
        "\n",
        "\n",
        "# Validation transform (resized but still 256x256)\n",
        "transform_val = transforms.Compose([\n",
        "    transforms.Resize((256, 256)),  # important: matches model input!\n",
        "    transforms.ToTensor(),\n",
        "    transforms.Normalize([0.485, 0.456, 0.406],\n",
        "                         [0.229, 0.224, 0.225])\n",
        "])\n",
        "\n",
        "# Load datasets\n",
        "train_dataset = datasets.ImageFolder(\"/content/train/imagenet_train20a\", transform=transform_train)\n",
        "val_dataset = datasets.ImageFolder(\"/content/val/imagenet_val20_structured\", transform=transform_val)\n",
        "\n",
        "# Create dataloaders\n",
        "train_loader = DataLoader(train_dataset, batch_size=32, shuffle=True)\n",
        "val_loader = DataLoader(val_dataset, batch_size=32, shuffle=False)\n"
      ],
      "metadata": {
        "id": "IIIWPx2F17_e"
      },
      "execution_count": null,
      "outputs": []
    },
    {
      "cell_type": "code",
      "source": [
        "from PIL import Image\n",
        "import os\n",
        "\n",
        "min_w, min_h = float('inf'), float('inf')\n",
        "for root, _, files in os.walk(\"/content/train/imagenet_train20a\"):\n",
        "    for fname in files:\n",
        "        if fname.lower().endswith(\".jpeg\"):\n",
        "            try:\n",
        "                img = Image.open(os.path.join(root, fname))\n",
        "                w, h = img.size\n",
        "                min_w = min(min_w, w)\n",
        "                min_h = min(min_h, h)\n",
        "            except:\n",
        "                continue\n",
        "\n",
        "print(f\"Smallest image: {min_w} x {min_h}\")\n"
      ],
      "metadata": {
        "colab": {
          "base_uri": "https://localhost:8080/"
        },
        "id": "DcqIXkdAQbtd",
        "outputId": "bcbcb277-1593-46dc-8d75-061d8965be71"
      },
      "execution_count": null,
      "outputs": [
        {
          "output_type": "stream",
          "name": "stdout",
          "text": [
            "Smallest image: 64 x 26\n"
          ]
        }
      ]
    },
    {
      "cell_type": "code",
      "source": [
        "print(\"Number of training images:\", len(train_dataset))\n",
        "print(\"Number of validation images:\", len(val_dataset))"
      ],
      "metadata": {
        "colab": {
          "base_uri": "https://localhost:8080/"
        },
        "id": "MA7gfNEyio40",
        "outputId": "1e7e6f5f-57a4-4c5b-a17c-f54e0b7ab1db"
      },
      "execution_count": null,
      "outputs": [
        {
          "output_type": "stream",
          "name": "stdout",
          "text": [
            "Number of training images: 6000\n",
            "Number of validation images: 1000\n"
          ]
        }
      ]
    },
    {
      "cell_type": "code",
      "source": [
        "print(\"Train Classes:\", train_dataset.classes)\n",
        "print(\"Val Classes:  \", val_dataset.classes)\n",
        "print(\"Match?        \", train_dataset.classes == val_dataset.classes)"
      ],
      "metadata": {
        "colab": {
          "base_uri": "https://localhost:8080/"
        },
        "id": "ZrkrhGawn8uh",
        "outputId": "0410bfcd-41cd-4269-b653-e2545026965d"
      },
      "execution_count": null,
      "outputs": [
        {
          "output_type": "stream",
          "name": "stdout",
          "text": [
            "Train Classes: ['n01737021', 'n02006656', 'n02011460', 'n02013706', 'n02033041', 'n02093991', 'n02117135', 'n02279972', 'n02415577', 'n02423022', 'n02676566', 'n02808440', 'n03016953', 'n03476684', 'n03721384', 'n03804744', 'n03935335', 'n03938244', 'n04252225', 'n04346328']\n",
            "Val Classes:   ['n01737021', 'n02006656', 'n02011460', 'n02013706', 'n02033041', 'n02093991', 'n02117135', 'n02279972', 'n02415577', 'n02423022', 'n02676566', 'n02808440', 'n03016953', 'n03476684', 'n03721384', 'n03804744', 'n03935335', 'n03938244', 'n04252225', 'n04346328']\n",
            "Match?         True\n"
          ]
        }
      ]
    },
    {
      "cell_type": "markdown",
      "source": [
        "# Training the Model"
      ],
      "metadata": {
        "id": "dfjwH1Ak2Ggw"
      }
    },
    {
      "cell_type": "code",
      "source": [
        "# Move model to GPU\n",
        "device = torch.device(\"cuda\" if torch.cuda.is_available() else \"cpu\")\n",
        "model = model.to(device)"
      ],
      "metadata": {
        "id": "0lOz66C2OB-Q"
      },
      "execution_count": null,
      "outputs": []
    },
    {
      "cell_type": "code",
      "source": [
        "import torch.optim as optim\n",
        "\n",
        "criterion = nn.CrossEntropyLoss()\n",
        "optimizer = optim.Adam(filter(lambda p: p.requires_grad, model.parameters()), lr=1e-4)\n",
        "scheduler = optim.lr_scheduler.StepLR(optimizer, step_size=2, gamma=0.5)\n",
        "\n",
        "def evaluate(loader):\n",
        "    model.eval()\n",
        "    correct, total = 0, 0\n",
        "    with torch.no_grad():\n",
        "        for images, labels in loader:\n",
        "            images, labels = images.to(device), labels.to(device)\n",
        "            outputs = model(images)\n",
        "            _, preds = torch.max(outputs, 1)\n",
        "            correct += (preds == labels).sum().item()\n",
        "            total += labels.size(0)\n",
        "    return 100 * correct / total\n"
      ],
      "metadata": {
        "id": "iIKisw7O2Si5"
      },
      "execution_count": null,
      "outputs": []
    },
    {
      "cell_type": "markdown",
      "source": [
        "# Run for 5 Epochs"
      ],
      "metadata": {
        "id": "VOXKhvdb2WX0"
      }
    },
    {
      "cell_type": "code",
      "source": [
        "num_epochs = 10\n",
        "train_acc_list = []\n",
        "val_acc_list = []\n",
        "best_val_acc = 0.0\n",
        "\n",
        "for epoch in range(num_epochs):\n",
        "    model.train()\n",
        "    running_loss = 0.0\n",
        "    for images, labels in train_loader:\n",
        "        images, labels = images.to(device), labels.to(device)\n",
        "        optimizer.zero_grad()\n",
        "        outputs = model(images)\n",
        "        loss = criterion(outputs, labels)\n",
        "        loss.backward()\n",
        "        optimizer.step()\n",
        "        running_loss += loss.item()\n",
        "\n",
        "    scheduler.step()\n",
        "\n",
        "    train_acc = evaluate(train_loader)\n",
        "    val_acc = evaluate(val_loader)\n",
        "\n",
        "    train_acc_list.append(train_acc)\n",
        "    val_acc_list.append(val_acc)\n",
        "\n",
        "    if val_acc > best_val_acc:\n",
        "        best_val_acc = val_acc\n",
        "        torch.save(model.state_dict(), \"best_vgg16_model.pth\")\n",
        "\n",
        "    print(f\"Epoch {epoch+1}: Loss={running_loss:.4f}, Train Acc={train_acc:.2f}%, Val Acc={val_acc:.2f}%\")"
      ],
      "metadata": {
        "colab": {
          "base_uri": "https://localhost:8080/"
        },
        "id": "8C5PpenR2Uk2",
        "outputId": "779ae565-82df-44ad-b8ee-c4185f271bbb"
      },
      "execution_count": null,
      "outputs": [
        {
          "output_type": "stream",
          "name": "stdout",
          "text": [
            "Epoch 1: Loss=189.7728, Train Acc=87.18%, Val Acc=84.70%\n",
            "Epoch 2: Loss=72.2298, Train Acc=94.73%, Val Acc=87.70%\n",
            "Epoch 3: Loss=30.1209, Train Acc=97.75%, Val Acc=90.70%\n",
            "Epoch 4: Loss=21.6198, Train Acc=97.98%, Val Acc=90.20%\n",
            "Epoch 5: Loss=9.6065, Train Acc=98.93%, Val Acc=91.50%\n",
            "Epoch 6: Loss=7.4828, Train Acc=99.22%, Val Acc=92.70%\n",
            "Epoch 7: Loss=4.3135, Train Acc=99.60%, Val Acc=93.60%\n",
            "Epoch 8: Loss=2.7829, Train Acc=99.75%, Val Acc=93.20%\n",
            "Epoch 9: Loss=2.7466, Train Acc=99.83%, Val Acc=93.50%\n",
            "Epoch 10: Loss=2.4909, Train Acc=99.82%, Val Acc=93.30%\n"
          ]
        }
      ]
    },
    {
      "cell_type": "code",
      "source": [
        "import matplotlib.pyplot as plt\n",
        "\n",
        "# Plot accuracy\n",
        "plt.figure(figsize=(8, 5))\n",
        "plt.plot(train_acc_list, label=\"Train Accuracy\")\n",
        "plt.plot(val_acc_list, label=\"Validation Accuracy\")\n",
        "plt.xlabel(\"Epoch\")\n",
        "plt.ylabel(\"Accuracy (%)\")\n",
        "plt.title(\"Training vs Validation Accuracy\")\n",
        "plt.grid(True)\n",
        "plt.legend()\n",
        "plt.tight_layout()\n",
        "plt.show()"
      ],
      "metadata": {
        "colab": {
          "base_uri": "https://localhost:8080/",
          "height": 406
        },
        "id": "U8NdpYiJt_vi",
        "outputId": "6d415ed0-3dd5-426d-df66-91505258e094"
      },
      "execution_count": null,
      "outputs": [
        {
          "output_type": "display_data",
          "data": {
            "text/plain": [
              "<Figure size 800x500 with 1 Axes>"
            ],
            "image/png": "[encoded data removed]"
          },
          "metadata": {}
        }
      ]
    },
    {
      "cell_type": "markdown",
      "source": [
        "# GPU Memory Calculation"
      ],
      "metadata": {
        "id": "SExnEdh3x8s-"
      }
    },
    {
      "cell_type": "code",
      "source": [
        "import torch\n",
        "\n",
        "# Reset memory stats and empty cache before measurement\n",
        "torch.cuda.empty_cache()\n",
        "torch.cuda.reset_peak_memory_stats(device)"
      ],
      "metadata": {
        "id": "uC1Dfba5sy8J"
      },
      "execution_count": null,
      "outputs": []
    },
    {
      "cell_type": "markdown",
      "source": [
        "# Forward Pass Only"
      ],
      "metadata": {
        "id": "0V_HHLZlyGkh"
      }
    },
    {
      "cell_type": "code",
      "source": [
        "# Get one batch\n",
        "images, labels = next(iter(train_loader))\n",
        "images, labels = images.to(device), labels.to(device)\n",
        "\n",
        "# Forward pass (no gradients)\n",
        "torch.cuda.empty_cache()\n",
        "torch.cuda.reset_peak_memory_stats(device)\n",
        "\n",
        "with torch.no_grad():\n",
        "    outputs = model(images)\n",
        "\n",
        "forward_memory = torch.cuda.max_memory_allocated(device) / 1024**2  # in MB\n",
        "print(f\" Peak GPU memory (Forward Pass): {forward_memory:.2f} MB\")"
      ],
      "metadata": {
        "colab": {
          "base_uri": "https://localhost:8080/"
        },
        "id": "rxjRjX8zyEN7",
        "outputId": "9ef8fd18-07dd-4441-de66-06ee22cb4306"
      },
      "execution_count": null,
      "outputs": [
        {
          "output_type": "stream",
          "name": "stdout",
          "text": [
            " Peak GPU memory (Forward Pass): 5916.47 MB\n"
          ]
        }
      ]
    },
    {
      "cell_type": "markdown",
      "source": [
        "# Forward + Backward Pass"
      ],
      "metadata": {
        "id": "izV6bQdqyLt9"
      }
    },
    {
      "cell_type": "code",
      "source": [
        "# With gradients this time\n",
        "torch.cuda.empty_cache()\n",
        "torch.cuda.reset_peak_memory_stats(device)\n",
        "\n",
        "outputs = model(images)\n",
        "loss = criterion(outputs, labels)\n",
        "loss.backward()\n",
        "\n",
        "backward_memory = torch.cuda.max_memory_allocated(device) / 1024**2  # in MB\n",
        "print(f\"Peak GPU memory (Forward + Backward Pass): {backward_memory:.2f} MB\")\n"
      ],
      "metadata": {
        "colab": {
          "base_uri": "https://localhost:8080/"
        },
        "id": "tog85f78yJGO",
        "outputId": "af482f1c-39e7-49a7-82c3-507257ab489f"
      },
      "execution_count": null,
      "outputs": [
        {
          "output_type": "stream",
          "name": "stdout",
          "text": [
            "Peak GPU memory (Forward + Backward Pass): 6416.62 MB\n"
          ]
        }
      ]
    },
    {
      "cell_type": "code",
      "source": [
        "import torch\n",
        "import torch.nn as nn\n",
        "import torch.optim as optim\n",
        "\n",
        "def measure_gpu_memory(model, data_loader, device):\n",
        "    print(\"\\nMeasuring actual GPU memory usage...\")\n",
        "\n",
        "    # Clear CUDA memory\n",
        "    torch.cuda.empty_cache()\n",
        "    torch.cuda.reset_peak_memory_stats(device)\n",
        "\n",
        "    # === Forward Pass Memory ===\n",
        "    model.eval()\n",
        "    initial_memory = torch.cuda.memory_allocated(device) / 1e6  # MB\n",
        "\n",
        "    with torch.no_grad():\n",
        "        for inputs, labels in data_loader:\n",
        "            inputs, labels = inputs.to(device), labels.to(device)\n",
        "            outputs = model(inputs)\n",
        "            break  # only one batch\n",
        "\n",
        "    forward_peak = torch.cuda.max_memory_allocated(device) / 1e6  # MB\n",
        "    print(f\"Forward Pass Memory Used: {forward_peak - initial_memory:.2f} MB\")\n",
        "\n",
        "    # === Backward Pass Memory ===\n",
        "    model.train()\n",
        "    torch.cuda.reset_peak_memory_stats(device)  # reset again\n",
        "\n",
        "    criterion = nn.CrossEntropyLoss()\n",
        "    optimizer = optim.Adam(filter(lambda p: p.requires_grad, model.parameters()), lr=1e-4)\n",
        "\n",
        "    initial_memory = torch.cuda.memory_allocated(device) / 1e6  # MB\n",
        "\n",
        "    for inputs, labels in data_loader:\n",
        "        inputs, labels = inputs.to(device), labels.to(device)\n",
        "        optimizer.zero_grad()\n",
        "        outputs = model(inputs)\n",
        "        loss = criterion(outputs, labels)\n",
        "        loss.backward()\n",
        "        break  # only one batch\n",
        "\n",
        "    backward_peak = torch.cuda.max_memory_allocated(device) / 1e6  # MB\n",
        "    print(f\"Backward Pass Memory Used: {backward_peak - initial_memory:.2f} MB\")\n"
      ],
      "metadata": {
        "id": "xOVDmKkNy7oK"
      },
      "execution_count": null,
      "outputs": []
    },
    {
      "cell_type": "code",
      "source": [
        "measure_gpu_memory(model, train_loader, device)"
      ],
      "metadata": {
        "colab": {
          "base_uri": "https://localhost:8080/"
        },
        "id": "kM1SKbxAU2xZ",
        "outputId": "0731dbcc-7cf3-4c26-ea78-c58d56aced79"
      },
      "execution_count": null,
      "outputs": [
        {
          "output_type": "stream",
          "name": "stdout",
          "text": [
            "\n",
            "Measuring actual GPU memory usage...\n",
            "Forward Pass Memory Used: 3515.42 MB\n",
            "Backward Pass Memory Used: 4028.16 MB\n"
          ]
        }
      ]
    },
    {
      "cell_type": "markdown",
      "source": [
        "## Conclusion\n",
        "In this assignment, we implemented a custom VGG16 model (VGG16Scratch) based on the official VGG16 architecture, modified to handle input images of size 256 * 256 instead of the default 224 * 224.\n",
        "\n",
        "We successfully loaded pretrained weights from the original VGG16 model trained on ImageNet, transferring only the feature extractor (features) layers. The classifier was redefined to output predictions for 20 classes, corresponding to the task requirements.\n",
        "\n",
        "The dataset was prepared by unpacking and structuring both the training and validation data. Validation folders were renamed based on the provided mapping (imagenet_val.txt) to match the training class labels.\n",
        "\n",
        "Data augmentation was applied to the training data using random cropping, horizontal flipping, rotation, and color jittering, while the validation set was resized to 256 * 256 and normalized.\n",
        "\n",
        "The model was trained for 10 epochs using the Adam optimizer with an initial learning rate of 1e-4 and a StepLR scheduler to decay the learning rate. During training, the model achieved over 99% training accuracy and over 93% validation accuracy, demonstrating effective generalization without overfitting.\n",
        "\n",
        "To ensure compliance with the assignment requirements, the input size was verified during model execution (torch.Size([32, 3, 256, 256])) and GPU memory usage was measured separately for forward and backward passes.\n",
        "\n",
        "Forward Pass Memory Usage: ~3515 MB\n",
        "\n",
        "Backward Pass Memory Usage: ~4028 MB"
      ],
      "metadata": {
        "id": "RRFr3VR34Q4q"
      }
    },
    {
      "cell_type": "code",
      "source": [],
      "metadata": {
        "id": "vvvEwRvvdWIc"
      },
      "execution_count": null,
      "outputs": []
    }
  ]
}