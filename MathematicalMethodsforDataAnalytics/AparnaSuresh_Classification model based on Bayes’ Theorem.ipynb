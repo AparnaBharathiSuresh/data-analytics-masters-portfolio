{
 "cells": [
  {
   "cell_type": "code",
   "execution_count": 112,
   "id": "cb6fcad8",
   "metadata": {},
   "outputs": [
    {
     "name": "stdout",
     "output_type": "stream",
     "text": [
      "     outlook temperature humidity  windy play\n",
      "0      sunny         hot     high  False   No\n",
      "1      sunny         hot     high   True   No\n",
      "2   overcast         hot     high  False  Yes\n",
      "3      rainy        mild     high  False  Yes\n",
      "4      rainy        cool   normal  False  Yes\n",
      "5      rainy        cool   normal   True   No\n",
      "6   overcast        cool   normal   True  Yes\n",
      "7      sunny        mild     high  False   No\n",
      "8      sunny        cool   normal  False  Yes\n",
      "9      rainy        mild   normal  False  Yes\n",
      "10     sunny        mild   normal   True  Yes\n",
      "11  overcast        mild     high   True  Yes\n",
      "12  overcast         hot   normal  False  Yes\n",
      "13     rainy        mild     high   True   No\n"
     ]
    }
   ],
   "source": [
    "import pandas as pd\n",
    "\n",
    "#Load the csv into dataframe\n",
    "df = pd.read_csv(\"C:/Users/aparn/OneDrive/Documents/SJSU/DATA_220/Assignments/3/weather_data.csv\")\n",
    "\n",
    "#Print the data frame\n",
    "print(df)"
   ]
  },
  {
   "cell_type": "code",
   "execution_count": 113,
   "id": "14476aa7",
   "metadata": {},
   "outputs": [],
   "source": [
    "#Function to count the number of rows in a dataframe\n",
    "def count_rows(df):\n",
    "    return len(df)\n",
    "\n",
    "#Function to find the probability of y\n",
    "def probability_play_noplay(df,play):\n",
    "    play_df = df[df['play'] == play]\n",
    "    return count_rows(play_df)/count_rows(df)\n",
    "\n",
    "#Function to find the probability of xi given play=yes or no\n",
    "def probability_xi_given_play(df,play,xi):\n",
    "    index=0\n",
    "    #dataframe to store only the rows with yes or no values\n",
    "    play_df = df[df['play'] == play]\n",
    "    prob=1\n",
    "    for column in play_df:\n",
    "        if column!=\"play\":\n",
    "            #DataFrame having Play or no_play with rainy or hot or high or false\n",
    "            column_df = play_df[play_df[column]==xi[index]]\n",
    "            index+=1\n",
    "            #product of p(xi|y)\n",
    "            prob*=(count_rows(column_df)/count_rows(play_df))\n",
    "    return prob\n",
    "\n",
    "#Function to find the probability of y given xi\n",
    "def probability_play_given_xi(df,play,xi):\n",
    "    index=0\n",
    "    sum=0\n",
    "    #DataFrame having play or no play vaues\n",
    "    play_df = df[df['play'] == play]\n",
    "    for column in df:\n",
    "        if column!=\"play\":\n",
    "            #DataFrame having rainy or hot or high or false with play and no_play\n",
    "            column_df = df[df[column]==xi[index]]\n",
    "            #DataFrame having Play or no_play with rainy or hot or high or false\n",
    "            column1_df = play_df[play_df[column]==xi[index]]\n",
    "            #a1=count(rainy)/count(total)..etc\n",
    "            a1=(count_rows(column_df)/count_rows(df))\n",
    "            #a2=count(yes in rainy)/count(rainy)..etc\n",
    "            a2=(count_rows(column1_df)/count_rows(column_df))\n",
    "            #Product of P(xi)*P(y|xi)\n",
    "            product=(a1*a2)\n",
    "            #Sum of P(xi)*P(y|xi)\n",
    "            sum+=product\n",
    "            index+=1\n",
    "    return sum\n",
    "\n",
    "\n",
    "def predict_play_outcome(xi):\n",
    "\n",
    "    #Probability of y wehn y=yes\n",
    "    prob_of_y=(probability_play_noplay(df,\"Yes\")) \n",
    "    #Product of Probability of xi given y=yes\n",
    "    prob_of_xi_given_y=(probability_xi_given_y(df,\"Yes\",xi))\n",
    "    #Sum of probablity of p(xi)*p(y|xi)\n",
    "    sum_prob_of_y_given_xi=(probability_play_given_xi(df,\"Yes\",xi))\n",
    "\n",
    "    #Probability of play\n",
    "    probability_play=(prob_of_y/sum_prob_of_y_given_xi)*prob_of_xi_given_y\n",
    "\n",
    "    print(\"\\nProbability of golf Play \\n\")\n",
    "    print(probability_play)\n",
    "\n",
    "    #Probability of y wehn y=no\n",
    "    prob_of_y=(probability_play_noplay(df,\"No\"))  \n",
    "    #Product of Probability of xi given y=no\n",
    "    prob_of_xi_given_y=(probability_xi_given_y(df,\"No\",xi))\n",
    "    #Sum of probablity of p(xi)*p(y|xi)\n",
    "    sum_prob_of_y_given_xi=(probability_play_given_xi(df,\"No\",xi))\n",
    "\n",
    "    #Probability of no play\n",
    "    probability_no_play=(prob_of_y/sum_prob_of_y_given_xi)*prob_of_xi_given_y\n",
    "\n",
    "    print(\"\\nProbability of no golf Play \\n\")\n",
    "    print(probability_no_play)\n",
    "\n",
    "    print(\"\\nAccording to Baye's Theorem the result is\\n\")\n",
    "    if(probability_play>probability_no_play):\n",
    "        print(\"Play Golf\\n\")\n",
    "    else:\n",
    "        print(\"Don't play Golf\")"
   ]
  },
  {
   "cell_type": "code",
   "execution_count": 114,
   "id": "a72caa51",
   "metadata": {},
   "outputs": [
    {
     "name": "stdout",
     "output_type": "stream",
     "text": [
      "\n",
      "Probability of golf Play \n",
      "\n",
      "0.010582010582010581\n",
      "\n",
      "Probability of no golf Play \n",
      "\n",
      "0.025600000000000015\n",
      "\n",
      "According to Baye's Theorem the result is\n",
      "\n",
      "Don't play Golf\n"
     ]
    }
   ],
   "source": [
    "#pass the input in a tuple\n",
    "case1_xi=(\"rainy\",\"hot\",\"high\",False)\n",
    "predict_play_outcome(case1_xi)"
   ]
  },
  {
   "cell_type": "code",
   "execution_count": 115,
   "id": "3c90a716",
   "metadata": {},
   "outputs": [
    {
     "name": "stdout",
     "output_type": "stream",
     "text": [
      "\n",
      "Probability of golf Play \n",
      "\n",
      "0.010582010582010581\n",
      "\n",
      "Probability of no golf Play \n",
      "\n",
      "0.009\n",
      "\n",
      "According to Baye's Theorem the result is\n",
      "\n",
      "Play Golf\n",
      "\n"
     ]
    }
   ],
   "source": [
    "case2_xi=(\"sunny\",\"cool\",\"normal\",True)\n",
    "predict_play_outcome(case2_xi)"
   ]
  },
  {
   "cell_type": "code",
   "execution_count": null,
   "id": "7ecc90b1",
   "metadata": {},
   "outputs": [],
   "source": []
  }
 ],
 "metadata": {
  "kernelspec": {
   "display_name": "Python 3 (ipykernel)",
   "language": "python",
   "name": "python3"
  },
  "language_info": {
   "codemirror_mode": {
    "name": "ipython",
    "version": 3
   },
   "file_extension": ".py",
   "mimetype": "text/x-python",
   "name": "python",
   "nbconvert_exporter": "python",
   "pygments_lexer": "ipython3",
   "version": "3.11.5"
  }
 },
 "nbformat": 4,
 "nbformat_minor": 5
}
