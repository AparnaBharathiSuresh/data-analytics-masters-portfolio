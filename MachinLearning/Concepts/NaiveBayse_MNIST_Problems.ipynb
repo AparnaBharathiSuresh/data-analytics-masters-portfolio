{
 "cells": [
  {
   "cell_type": "markdown",
   "metadata": {},
   "source": [
    "### Naive Bayes Classifier for Digit Recognition (35%)"
   ]
  },
  {
   "cell_type": "code",
   "execution_count": 14,
   "metadata": {},
   "outputs": [],
   "source": [
    "# This tells matplotlib not to try opening a new window for each plot.\n",
    "%matplotlib inline\n",
    "\n",
    "# Import a bunch of libraries.\n",
    "import time\n",
    "import numpy as np\n",
    "import matplotlib.pyplot as plt\n",
    "from matplotlib.ticker import MultipleLocator\n",
    "from sklearn.pipeline import Pipeline\n",
    "#from sklearn.datasets import fetch_mldata\n",
    "from sklearn.neighbors import KNeighborsClassifier\n",
    "from sklearn.metrics import confusion_matrix\n",
    "from sklearn.linear_model import LinearRegression\n",
    "from sklearn.naive_bayes import BernoulliNB\n",
    "from sklearn.naive_bayes import MultinomialNB\n",
    "from sklearn.naive_bayes import GaussianNB\n",
    "from sklearn.model_selection import RandomizedSearchCV, GridSearchCV, train_test_split\n",
    "from sklearn.metrics import classification_report\n",
    "\n",
    "# Set the randomizer seed so results are the same each time.\n",
    "np.random.seed(0)"
   ]
  },
  {
   "cell_type": "code",
   "execution_count": 15,
   "metadata": {},
   "outputs": [
    {
     "name": "stdout",
     "output_type": "stream",
     "text": [
      "data shape:  (1797, 64)\n",
      "label shape: (1797,)\n"
     ]
    }
   ],
   "source": [
    "\n",
    "\n",
    "# Load the digit data either from mldata.org, or once downloaded to data_home, from disk. The data is about 53MB so this cell\n",
    "# should take a while the first time your run it.\n",
    "from sklearn.datasets import load_digits\n",
    "mnist = load_digits()\n",
    "X, Y = mnist.data, mnist.target\n",
    "\n",
    "# Rescale grayscale values to [0,1].\n",
    "X = X / 255.0\n",
    "\n",
    "# Shuffle the input: create a random permutation of the integers between 0 and the number of data points and apply this\n",
    "# permutation to X and Y.\n",
    "# NOTE: Each time you run this cell, you'll re-shuffle the data, resulting in a different ordering.\n",
    "shuffle = np.random.permutation(np.arange(X.shape[0]))\n",
    "X, Y = X[shuffle], Y[shuffle]\n",
    "\n",
    "print('data shape: ', X.shape)\n",
    "print('label shape:', Y.shape)\n",
    "\n",
    "\n",
    "\n",
    "# Set some variables to hold test, dev, and training data.\n",
    "test_data, test_labels = X[1540:], Y[1540:]\n",
    "dev_data, dev_labels = X[1400:1540], Y[1400:1540]\n",
    "train_data, train_labels = X[:1400], Y[:1400]\n",
    "mini_train_data, mini_train_labels = X[:200], Y[:200]\n",
    "\n"
   ]
  },
  {
   "cell_type": "markdown",
   "metadata": {},
   "source": [
    "### A. Create a 10x10 grid to visualize 10 examples of each digit."
   ]
  },
  {
   "cell_type": "code",
   "execution_count": 70,
   "metadata": {},
   "outputs": [
    {
     "data": {
      "image/png": "[encoded data removed]",
      "text/plain": [
       "<Figure size 800x800 with 100 Axes>"
      ]
     },
     "metadata": {},
     "output_type": "display_data"
    }
   ],
   "source": [
    "import matplotlib.pyplot as plt\n",
    "\n",
    "# Create a figure for the plot\n",
    "fig, axes = plt.subplots(10, 10, figsize=(8, 8))\n",
    "\n",
    "# Flatten the axes array for easier indexing\n",
    "axes = axes.flatten()\n",
    "\n",
    "# Extract 10 samples for each digit from 0 to 9\n",
    "examples = []\n",
    "for digit in range(10):\n",
    "    digit_examples = np.where(Y == digit)[0][:10]  # Get indices of first 10 occurrences\n",
    "    examples.extend(digit_examples)\n",
    "\n",
    "# Plot each digit on the grid\n",
    "for i, idx in enumerate(examples):\n",
    "    axes[i].imshow(X[idx].reshape(8, 8), cmap='gray')\n",
    "    axes[i].axis('off')  # Turn off the axis\n",
    "\n",
    "# Show the plot\n",
    "plt.tight_layout()\n",
    "plt.show()\n"
   ]
  },
  {
   "cell_type": "markdown",
   "metadata": {},
   "source": [
    "### B.  Fit a Naive Bayes classifier and report accuracy on the dev data. Remember that Naive Bayes estimates P(feature|label). While sklearn can handle real-valued features, let's start by mapping the pixel values to either 0 or 1. You can do this as a preprocessing step, or with the binarize argument. With binary-valued features, you can use BernoulliNB. Next try mapping the pixel values to 0, 1, or 2, representing white, grey, or black. This mapping requires MultinomialNB. Does the multi-class version improve the results? Why or why not?\n",
    "### Note, the answers may vary depending on what thresholds you set."
   ]
  },
  {
   "cell_type": "code",
   "execution_count": 78,
   "metadata": {},
   "outputs": [
    {
     "name": "stdout",
     "output_type": "stream",
     "text": [
      "BernoulliNB accuracy on binarized data: 90.71%\n"
     ]
    }
   ],
   "source": [
    "import numpy as np\n",
    "from sklearn.naive_bayes import BernoulliNB, MultinomialNB\n",
    "from sklearn.preprocessing import Binarizer\n",
    "from sklearn.metrics import accuracy_score\n",
    "\n",
    "binarizer = Binarizer(threshold=0.02)\n",
    "X_binarized = binarizer.fit_transform(train_data)\n",
    "dev_data_binarized = binarizer.transform(dev_data)\n",
    "\n",
    "# Fit Bernoulli Naive Bayes model\n",
    "bernoulli_nb = BernoulliNB()\n",
    "bernoulli_nb.fit(X_binarized, train_labels)\n",
    "\n",
    "# Predict on dev data and calculate accuracy\n",
    "y_pred_dev_bernoulli = bernoulli_nb.predict(dev_data_binarized)\n",
    "accuracy_dev_bernoulli = accuracy_score(dev_labels, y_pred_dev_bernoulli)\n",
    "\n",
    "print(f\"BernoulliNB accuracy on binarized data: {accuracy_dev_bernoulli * 100:.2f}%\")"
   ]
  },
  {
   "cell_type": "code",
   "execution_count": 69,
   "metadata": {},
   "outputs": [
    {
     "name": "stdout",
     "output_type": "stream",
     "text": [
      "MultinomialNB accuracy with quantile thresholds: 87.86%\n"
     ]
    }
   ],
   "source": [
    "import numpy as np\n",
    "from sklearn.naive_bayes import MultinomialNB\n",
    "from sklearn.metrics import accuracy_score\n",
    "\n",
    "# Define a function to categorize pixel values into custom thresholds\n",
    "def categorize_pixel_values(X, thresholds):\n",
    "    return np.digitize(X, thresholds) - 1  # Subtract 1 to get categories in the range [0, num_bins - 1]\n",
    "\n",
    "# Create custom thresholds based on data quantiles\n",
    "thresholds = np.quantile(train_data, [0.30, 0.65, 0.88])  # Based on quartiles\n",
    "\n",
    "# Categorize the pixel values\n",
    "X_categorized = categorize_pixel_values(train_data, thresholds)\n",
    "dev_data_categorized = categorize_pixel_values(dev_data, thresholds)\n",
    "\n",
    "# Fit and evaluate MultinomialNB\n",
    "multinomial_nb.fit(X_categorized, train_labels)\n",
    "y_pred_dev_multinomial = multinomial_nb.predict(dev_data_categorized)\n",
    "accuracy_dev_multinomial = accuracy_score(dev_labels, y_pred_dev_multinomial)\n",
    "\n",
    "print(f\"MultinomialNB accuracy with quantile thresholds: {accuracy_dev_multinomial * 100:.2f}%\")"
   ]
  },
  {
   "cell_type": "markdown",
   "metadata": {},
   "source": [
    "# Results\n",
    "\n",
    "BernoulliNB (90.71%) outperforms MultinomialNB (87.86%), suggesting that binarizing pixel values is more effective for this dataset than mapping them into multiple categories. The sharp contrast between foreground (digits) and background seems to be the most important feature, and the simplicity of binary features gives BernoulliNB an edge.\n",
    "\n",
    "MultinomialNB (87.86%) still performs well but does not surpass BernoulliNB. The multi-class mapping of pixel intensities to white, gray, and black likely introduces some unnecessary complexity, which doesn't add significant value over binary features in this case."
   ]
  },
  {
   "cell_type": "markdown",
   "metadata": {},
   "source": [
    "### C. Try training a model using GuassianNB, which is intended for real-valued features, and evaluate on the dev data. You'll notice that it doesn't work so well. Could you explain why?"
   ]
  },
  {
   "cell_type": "code",
   "execution_count": 71,
   "metadata": {},
   "outputs": [
    {
     "name": "stdout",
     "output_type": "stream",
     "text": [
      "GaussianNB accuracy on dev data: 84.29%\n"
     ]
    }
   ],
   "source": [
    "from sklearn.naive_bayes import GaussianNB\n",
    "from sklearn.metrics import accuracy_score\n",
    "\n",
    "# Train Gaussian Naive Bayes model\n",
    "gaussian_nb = GaussianNB()\n",
    "gaussian_nb.fit(train_data, train_labels)\n",
    "\n",
    "# Predict on dev data\n",
    "y_pred_dev_gaussian = gaussian_nb.predict(dev_data)\n",
    "\n",
    "# Calculate accuracy\n",
    "accuracy_dev_gaussian = accuracy_score(dev_labels, y_pred_dev_gaussian)\n",
    "\n",
    "print(f\"GaussianNB accuracy on dev data: {accuracy_dev_gaussian * 100:.2f}%\")"
   ]
  },
  {
   "cell_type": "markdown",
   "metadata": {},
   "source": [
    "# Results\n",
    "\n",
    "Intended for continuous real-valued data: Gaussian Naive Bayes assumes that the features for each class are normally (Gaussian) distributed. \n",
    "\n",
    "Violation of the Gaussian assumption:The pixel intensity distribution is not Gaussian. For most of the image, pixel intensities are clustered near two values—either low values (background) or high values (foreground, digit). This bimodal or even multimodal distribution makes it difficult for GaussianNB to model accurately.\n",
    "\n",
    "Lack of spatial information: GaussianNB treats each pixel independently, without considering that neighboring pixels in an image are highly correlated. The model ends up losing important contextual information that could help in recognizing digits.\n",
    "\n",
    "Better suited for other types of data: GaussianNB works well when features are continuous and normally distributed (e.g., in some scientific data, sensor readings, or financial data). It just isn't well-suited for image data, especially low-resolution images like digit recognition where pixel correlation matters a lot."
   ]
  }
 ],
 "metadata": {
  "kernelspec": {
   "display_name": "Python 3 (ipykernel)",
   "language": "python",
   "name": "python3"
  },
  "language_info": {
   "codemirror_mode": {
    "name": "ipython",
    "version": 3
   },
   "file_extension": ".py",
   "mimetype": "text/x-python",
   "name": "python",
   "nbconvert_exporter": "python",
   "pygments_lexer": "ipython3",
   "version": "3.11.5"
  }
 },
 "nbformat": 4,
 "nbformat_minor": 2
}
