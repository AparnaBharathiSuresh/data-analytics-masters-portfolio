{
  "nbformat": 4,
  "nbformat_minor": 0,
  "metadata": {
    "colab": {
      "provenance": [],
      "gpuType": "T4"
    },
    "kernelspec": {
      "name": "python3",
      "display_name": "Python 3"
    },
    "language_info": {
      "name": "python"
    },
    "accelerator": "GPU"
  },
  "cells": [
    {
      "cell_type": "code",
      "source": [
        "%%writefile matrices_multiply.cu\n",
        "#include <stdio.h>\n",
        "#include <stdlib.h>\n",
        "#include <time.h>\n",
        "\n",
        "#define N 512                  // Size of the matrices (N x N)\n",
        "#define THREADS_PER_BLOCK_X 32    // Threads per block x dimension\n",
        "#define THREADS_PER_BLOCK_Y 32    // Threads per block y dimension\n",
        "\n",
        "// CUDA kernel for matrix multiplication using blocks and threads\n",
        "__global__ void matrixMul(int *A, int *B, int *C, int width) {\n",
        "    int row = blockIdx.y * blockDim.y + threadIdx.y;\n",
        "    int col = blockIdx.x * blockDim.x + threadIdx.x;\n",
        "\n",
        "    if (row < width && col < width) {\n",
        "        int value = 0;\n",
        "        for (int k = 0; k < width; k++) {\n",
        "            value += A[row * width + k] * B[k * width + col];\n",
        "        }\n",
        "        C[row * width + col] = value;\n",
        "    }\n",
        "}\n",
        "\n",
        "// Function to initialize matrices with random integers\n",
        "void random_ints(int *array, int size) {\n",
        "    for (int i = 0; i < size; i++) {\n",
        "        array[i] = rand() % 10;  // Random integers between 0 and 9\n",
        "    }\n",
        "}\n",
        "\n",
        "int main(void) {\n",
        "    int *A, *B, *C;             // Host copies of A, B, C\n",
        "    int *d_A, *d_B, *d_C;       // Device copies of A, B, C\n",
        "    int size = N * N * sizeof(int); // Size in bytes\n",
        "\n",
        "    // Allocate space for device copies of A, B, C\n",
        "    cudaMalloc((void **)&d_A, size);\n",
        "    cudaMalloc((void **)&d_B, size);\n",
        "    cudaMalloc((void **)&d_C, size);\n",
        "\n",
        "    // Allocate space for host copies of A, B, C and initialize input values\n",
        "    A = (int *)malloc(size); random_ints(A, N * N);\n",
        "    B = (int *)malloc(size); random_ints(B, N * N);\n",
        "    C = (int *)malloc(size);\n",
        "\n",
        "    // Copy inputs to device\n",
        "    cudaMemcpy(d_A, A, size, cudaMemcpyHostToDevice);\n",
        "    cudaMemcpy(d_B, B, size, cudaMemcpyHostToDevice);\n",
        "\n",
        "     // Define grid and block dimensions\n",
        "    dim3 threadsPerBlock(THREADS_PER_BLOCK_X, THREADS_PER_BLOCK_Y);\n",
        "    dim3 blocksPerGrid((N + threadsPerBlock.x - 1) / threadsPerBlock.x,\n",
        "                       (N + threadsPerBlock.y - 1) / threadsPerBlock.y);\n",
        "\n",
        "\n",
        "    // Launch matrixMul() kernel on GPU\n",
        "    matrixMul<<<blocksPerGrid, threadsPerBlock>>>(d_A, d_B, d_C, N);\n",
        "\n",
        "    // Copy result back to host\n",
        "    cudaMemcpy(C, d_C, size, cudaMemcpyDeviceToHost);\n",
        "\n",
        "    // Print a few results for verification\n",
        "    printf(\"Result of Matrix multiplication with blocks and threads:\\n\");\n",
        "    for (int i = 0; i < 10; i++) {  // Print first 10 results\n",
        "        printf(\"C[%d][%d] = %d\\n\", i / N, i % N, C[i]);\n",
        "    }\n",
        "\n",
        "    // Cleanup\n",
        "    free(A); free(B); free(C);\n",
        "    cudaFree(d_A); cudaFree(d_B); cudaFree(d_C);\n",
        "    return 0;\n",
        "}"
      ],
      "metadata": {
        "colab": {
          "base_uri": "https://localhost:8080/"
        },
        "id": "fiR7llHxd28V",
        "outputId": "8e723a7d-4ebf-46e3-fb05-b2dff0c8cb1d"
      },
      "execution_count": 35,
      "outputs": [
        {
          "output_type": "stream",
          "name": "stdout",
          "text": [
            "Overwriting matrices_multiply.cu\n"
          ]
        }
      ]
    },
    {
      "cell_type": "code",
      "source": [
        "!nvcc -arch=sm_75 matrices_multiply.cu -o matrices_multiply"
      ],
      "metadata": {
        "id": "ASlgJBasmdGQ"
      },
      "execution_count": 36,
      "outputs": []
    },
    {
      "cell_type": "code",
      "source": [
        "!./matrices_multiply"
      ],
      "metadata": {
        "colab": {
          "base_uri": "https://localhost:8080/"
        },
        "id": "VBSJftMwsmnF",
        "outputId": "47c2f4ba-6a72-4505-f016-4e9cc341ed11"
      },
      "execution_count": 37,
      "outputs": [
        {
          "output_type": "stream",
          "name": "stdout",
          "text": [
            "Result of Matrix multiplication with blocks and threads:\n",
            "C[0][0] = 11057\n",
            "C[0][1] = 10652\n",
            "C[0][2] = 10663\n",
            "C[0][3] = 10558\n",
            "C[0][4] = 10841\n",
            "C[0][5] = 9932\n",
            "C[0][6] = 9859\n",
            "C[0][7] = 10535\n",
            "C[0][8] = 10708\n",
            "C[0][9] = 10692\n"
          ]
        }
      ]
    },
    {
      "cell_type": "code",
      "source": [
        "!nvprof ./matrices_multiply"
      ],
      "metadata": {
        "id": "p6MjW58zCqR3",
        "outputId": "5b3d13af-5e1d-41a6-cd16-926176c0bc46",
        "colab": {
          "base_uri": "https://localhost:8080/"
        }
      },
      "execution_count": 38,
      "outputs": [
        {
          "output_type": "stream",
          "name": "stdout",
          "text": [
            "==5731== NVPROF is profiling process 5731, command: ./matrices_multiply\n",
            "Result of Matrix multiplication with blocks and threads:\n",
            "C[0][0] = 11057\n",
            "C[0][1] = 10652\n",
            "C[0][2] = 10663\n",
            "C[0][3] = 10558\n",
            "C[0][4] = 10841\n",
            "C[0][5] = 9932\n",
            "C[0][6] = 9859\n",
            "C[0][7] = 10535\n",
            "C[0][8] = 10708\n",
            "C[0][9] = 10692\n",
            "==5731== Profiling application: ./matrices_multiply\n",
            "==5731== Profiling result:\n",
            "            Type  Time(%)      Time     Calls       Avg       Min       Max  Name\n",
            " GPU activities:   76.35%  885.64us         1  885.64us  885.64us  885.64us  matrixMul(int*, int*, int*, int)\n",
            "                   15.10%  175.20us         2  87.598us  87.518us  87.678us  [CUDA memcpy HtoD]\n",
            "                    8.55%  99.166us         1  99.166us  99.166us  99.166us  [CUDA memcpy DtoH]\n",
            "      API calls:   97.10%  93.809ms         3  31.270ms  3.3130us  93.734ms  cudaMalloc\n",
            "                    2.35%  2.2709ms         3  756.97us  234.98us  1.7360ms  cudaMemcpy\n",
            "                    0.25%  237.38us         3  79.128us  14.053us  118.01us  cudaFree\n",
            "                    0.14%  133.69us         1  133.69us  133.69us  133.69us  cudaLaunchKernel\n",
            "                    0.14%  133.02us       114  1.1660us     105ns  53.786us  cuDeviceGetAttribute\n",
            "                    0.01%  12.306us         1  12.306us  12.306us  12.306us  cuDeviceGetName\n",
            "                    0.01%  5.8870us         1  5.8870us  5.8870us  5.8870us  cuDeviceGetPCIBusId\n",
            "                    0.00%  1.7370us         3     579ns     125ns  1.3550us  cuDeviceGetCount\n",
            "                    0.00%     855ns         2     427ns     180ns     675ns  cuDeviceGet\n",
            "                    0.00%     500ns         1     500ns     500ns     500ns  cuDeviceTotalMem\n",
            "                    0.00%     411ns         1     411ns     411ns     411ns  cuModuleGetLoadingMode\n",
            "                    0.00%     271ns         1     271ns     271ns     271ns  cuDeviceGetUuid\n"
          ]
        }
      ]
    }
  ]
}