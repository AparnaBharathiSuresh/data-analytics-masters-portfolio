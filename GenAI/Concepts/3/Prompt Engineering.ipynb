{
  "cells": [
    {
      "cell_type": "code",
      "execution_count": 1,
      "id": "8a4594c4-14bf-4a60-be8b-5c700732ad25",
      "metadata": {
        "colab": {
          "base_uri": "https://localhost:8080/"
        },
        "id": "8a4594c4-14bf-4a60-be8b-5c700732ad25",
        "outputId": "1737fd8a-57b3-4a2a-f931-d994d64d80e6"
      },
      "outputs": [
        {
          "output_type": "stream",
          "name": "stdout",
          "text": [
            "Requirement already satisfied: google-generativeai in /usr/local/lib/python3.11/dist-packages (0.8.4)\n",
            "Requirement already satisfied: google-ai-generativelanguage==0.6.15 in /usr/local/lib/python3.11/dist-packages (from google-generativeai) (0.6.15)\n",
            "Requirement already satisfied: google-api-core in /usr/local/lib/python3.11/dist-packages (from google-generativeai) (2.19.2)\n",
            "Requirement already satisfied: google-api-python-client in /usr/local/lib/python3.11/dist-packages (from google-generativeai) (2.160.0)\n",
            "Requirement already satisfied: google-auth>=2.15.0 in /usr/local/lib/python3.11/dist-packages (from google-generativeai) (2.27.0)\n",
            "Requirement already satisfied: protobuf in /usr/local/lib/python3.11/dist-packages (from google-generativeai) (4.25.6)\n",
            "Requirement already satisfied: pydantic in /usr/local/lib/python3.11/dist-packages (from google-generativeai) (2.10.6)\n",
            "Requirement already satisfied: tqdm in /usr/local/lib/python3.11/dist-packages (from google-generativeai) (4.67.1)\n",
            "Requirement already satisfied: typing-extensions in /usr/local/lib/python3.11/dist-packages (from google-generativeai) (4.12.2)\n",
            "Requirement already satisfied: proto-plus<2.0.0dev,>=1.22.3 in /usr/local/lib/python3.11/dist-packages (from google-ai-generativelanguage==0.6.15->google-generativeai) (1.26.0)\n",
            "Requirement already satisfied: googleapis-common-protos<2.0.dev0,>=1.56.2 in /usr/local/lib/python3.11/dist-packages (from google-api-core->google-generativeai) (1.66.0)\n",
            "Requirement already satisfied: requests<3.0.0.dev0,>=2.18.0 in /usr/local/lib/python3.11/dist-packages (from google-api-core->google-generativeai) (2.32.3)\n",
            "Requirement already satisfied: cachetools<6.0,>=2.0.0 in /usr/local/lib/python3.11/dist-packages (from google-auth>=2.15.0->google-generativeai) (5.5.1)\n",
            "Requirement already satisfied: pyasn1-modules>=0.2.1 in /usr/local/lib/python3.11/dist-packages (from google-auth>=2.15.0->google-generativeai) (0.4.1)\n",
            "Requirement already satisfied: rsa<5,>=3.1.4 in /usr/local/lib/python3.11/dist-packages (from google-auth>=2.15.0->google-generativeai) (4.9)\n",
            "Requirement already satisfied: httplib2<1.dev0,>=0.19.0 in /usr/local/lib/python3.11/dist-packages (from google-api-python-client->google-generativeai) (0.22.0)\n",
            "Requirement already satisfied: google-auth-httplib2<1.0.0,>=0.2.0 in /usr/local/lib/python3.11/dist-packages (from google-api-python-client->google-generativeai) (0.2.0)\n",
            "Requirement already satisfied: uritemplate<5,>=3.0.1 in /usr/local/lib/python3.11/dist-packages (from google-api-python-client->google-generativeai) (4.1.1)\n",
            "Requirement already satisfied: annotated-types>=0.6.0 in /usr/local/lib/python3.11/dist-packages (from pydantic->google-generativeai) (0.7.0)\n",
            "Requirement already satisfied: pydantic-core==2.27.2 in /usr/local/lib/python3.11/dist-packages (from pydantic->google-generativeai) (2.27.2)\n",
            "Requirement already satisfied: grpcio<2.0dev,>=1.33.2 in /usr/local/lib/python3.11/dist-packages (from google-api-core[grpc]!=2.0.*,!=2.1.*,!=2.10.*,!=2.2.*,!=2.3.*,!=2.4.*,!=2.5.*,!=2.6.*,!=2.7.*,!=2.8.*,!=2.9.*,<3.0.0dev,>=1.34.1->google-ai-generativelanguage==0.6.15->google-generativeai) (1.70.0)\n",
            "Requirement already satisfied: grpcio-status<2.0.dev0,>=1.33.2 in /usr/local/lib/python3.11/dist-packages (from google-api-core[grpc]!=2.0.*,!=2.1.*,!=2.10.*,!=2.2.*,!=2.3.*,!=2.4.*,!=2.5.*,!=2.6.*,!=2.7.*,!=2.8.*,!=2.9.*,<3.0.0dev,>=1.34.1->google-ai-generativelanguage==0.6.15->google-generativeai) (1.62.3)\n",
            "Requirement already satisfied: pyparsing!=3.0.0,!=3.0.1,!=3.0.2,!=3.0.3,<4,>=2.4.2 in /usr/local/lib/python3.11/dist-packages (from httplib2<1.dev0,>=0.19.0->google-api-python-client->google-generativeai) (3.2.1)\n",
            "Requirement already satisfied: pyasn1<0.7.0,>=0.4.6 in /usr/local/lib/python3.11/dist-packages (from pyasn1-modules>=0.2.1->google-auth>=2.15.0->google-generativeai) (0.6.1)\n",
            "Requirement already satisfied: charset-normalizer<4,>=2 in /usr/local/lib/python3.11/dist-packages (from requests<3.0.0.dev0,>=2.18.0->google-api-core->google-generativeai) (3.4.1)\n",
            "Requirement already satisfied: idna<4,>=2.5 in /usr/local/lib/python3.11/dist-packages (from requests<3.0.0.dev0,>=2.18.0->google-api-core->google-generativeai) (3.10)\n",
            "Requirement already satisfied: urllib3<3,>=1.21.1 in /usr/local/lib/python3.11/dist-packages (from requests<3.0.0.dev0,>=2.18.0->google-api-core->google-generativeai) (2.3.0)\n",
            "Requirement already satisfied: certifi>=2017.4.17 in /usr/local/lib/python3.11/dist-packages (from requests<3.0.0.dev0,>=2.18.0->google-api-core->google-generativeai) (2025.1.31)\n"
          ]
        }
      ],
      "source": [
        "pip install google-generativeai"
      ]
    },
    {
      "cell_type": "code",
      "execution_count": 4,
      "id": "93f4b385-f37b-4bdf-b44a-3c1564f2ab87",
      "metadata": {
        "id": "93f4b385-f37b-4bdf-b44a-3c1564f2ab87"
      },
      "outputs": [],
      "source": [
        "import google.generativeai as genai\n",
        "\n",
        "def set_gemini_params(\n",
        "    model=\"gemini-pro\",\n",
        "    temperature=0.7,\n",
        "    max_output_tokens=256,\n",
        "    top_p=1,\n",
        "    top_k=40,\n",
        "):\n",
        "    \"\"\"Set Gemini API parameters\"\"\"\n",
        "\n",
        "    gemini_params = {\n",
        "        \"model\": model,\n",
        "        \"temperature\": temperature,\n",
        "        \"max_output_tokens\": max_output_tokens,\n",
        "        \"top_p\": top_p,\n",
        "        \"top_k\": top_k,\n",
        "    }\n",
        "    return gemini_params\n",
        "\n",
        "def get_gemini_completion(params, prompt):\n",
        "    \"\"\"Get completion from Gemini API\"\"\"\n",
        "\n",
        "    genai.configure(api_key=\"\")\n",
        "    model = genai.GenerativeModel(params[\"model\"])\n",
        "\n",
        "    response = model.generate_content(\n",
        "        prompt,\n",
        "        generation_config={\n",
        "            \"temperature\": params[\"temperature\"],\n",
        "            \"max_output_tokens\": params[\"max_output_tokens\"],\n",
        "            \"top_p\": params[\"top_p\"],\n",
        "            \"top_k\": params[\"top_k\"],\n",
        "        }\n",
        "    )\n",
        "    return response.text  # Return generated text\n",
        "\n",
        "params = set_gemini_params()"
      ]
    },
    {
      "cell_type": "code",
      "execution_count": 12,
      "id": "1e553e67-d951-4d90-bc86-23bdfb0fcf86",
      "metadata": {
        "colab": {
          "base_uri": "https://localhost:8080/",
          "height": 503
        },
        "id": "1e553e67-d951-4d90-bc86-23bdfb0fcf86",
        "outputId": "cf77419a-74d0-4e1d-8e02-404431bc5f78"
      },
      "outputs": [
        {
          "output_type": "stream",
          "name": "stdout",
          "text": [
            "Zero-Shot Learning Output:\n",
            " ```python\n",
            "def second_largest(nums):\n",
            "  \"\"\"\n",
            "  Finds the second-largest number in a given list of integers.\n",
            "\n",
            "  Parameters:\n",
            "    nums: A list of integers.\n",
            "\n",
            "  Returns:\n",
            "    The second-largest number in the list, or None if the list is empty.\n",
            "  \"\"\"\n",
            "\n",
            "  if not nums:\n",
            "    return None\n",
            "\n",
            "  largest = nums[0]\n",
            "  second_largest = None\n",
            "\n",
            "  for num in nums:\n",
            "    if num > largest:\n",
            "      second_largest = largest\n",
            "      largest = num\n",
            "    elif num < largest and (second_largest is None or num > second_largest):\n",
            "      second_largest = num\n",
            "\n",
            "  return second_largest\n",
            "```\n"
          ]
        }
      ],
      "source": [
        "zero_shot_prompt = \"Write a Python function to find the second-largest number in a given list of integers.\"\n",
        "\n",
        "response = get_gemini_completion(params, zero_shot_prompt)\n",
        "\n",
        "print(\"Zero-Shot Learning Output:\\n\", response)\n"
      ]
    },
    {
      "cell_type": "code",
      "execution_count": 13,
      "id": "64d35a7c-abee-4c56-a7db-14411b735e64",
      "metadata": {
        "colab": {
          "base_uri": "https://localhost:8080/",
          "height": 451
        },
        "id": "64d35a7c-abee-4c56-a7db-14411b735e64",
        "outputId": "e887cb77-b8e6-4538-8ca3-1e74f6314d88"
      },
      "outputs": [
        {
          "output_type": "stream",
          "name": "stdout",
          "text": [
            "Few-Shot Learning Output:\n",
            " ```python\n",
            "def second_largest(nums):\n",
            "  \"\"\"Finds the second-largest number in a list of integers.\n",
            "\n",
            "  Args:\n",
            "    nums: A list of integers.\n",
            "\n",
            "  Returns:\n",
            "    The second-largest number in the list, or None if the list is empty or\n",
            "    has only one distinct number.\n",
            "  \"\"\"\n",
            "\n",
            "  if len(nums) < 2:\n",
            "    return None\n",
            "\n",
            "  largest = max(nums)\n",
            "  second_largest = None\n",
            "\n",
            "  for num in nums:\n",
            "    if num != largest and (second_largest is None or num > second_largest):\n",
            "      second_largest = num\n",
            "\n",
            "  return second_largest\n",
            "```\n"
          ]
        }
      ],
      "source": [
        "few_shot_prompt = \"\"\"Write a Python function to find the second-largest number in a list of integers.\n",
        "\n",
        "Example 1:\n",
        "Input: [10, 20, 5, 8]\n",
        "Output: 10\n",
        "\n",
        "Example 2:\n",
        "Input: [3, 3, 2, 1]\n",
        "Output: 2\n",
        "\n",
        "Example 3:\n",
        "Input: [7]\n",
        "Output: None (List must have at least two distinct numbers)\n",
        "\n",
        "Your function should handle cases where all numbers are the same or where the list is too short.\"\"\"\n",
        "\n",
        "params = set_gemini_params(temperature=0.9)\n",
        "response = get_gemini_completion(params, few_shot_prompt)\n",
        "\n",
        "print(\"Few-Shot Learning Output:\\n\", response)\n"
      ]
    },
    {
      "cell_type": "code",
      "execution_count": 16,
      "id": "1b791a87-2bf3-44e3-9d6c-96b0b23587a2",
      "metadata": {
        "colab": {
          "base_uri": "https://localhost:8080/",
          "height": 607
        },
        "id": "1b791a87-2bf3-44e3-9d6c-96b0b23587a2",
        "outputId": "3cb6b7d6-511a-4251-ea55-16c49b3a41df"
      },
      "outputs": [
        {
          "output_type": "stream",
          "name": "stdout",
          "text": [
            "Zero-Shot Chain of Thought Output:\n",
            " ```python\n",
            "def second_largest(lst):\n",
            "    \"\"\"\n",
            "    Find the second-largest number in a list of integers.\n",
            "\n",
            "    Parameters:\n",
            "    lst: A list of integers.\n",
            "\n",
            "    Returns:\n",
            "    The second-largest number in the list, or None if the list is empty.\n",
            "    \"\"\"\n",
            "\n",
            "    # Check if the list is empty.\n",
            "\n",
            "    if not lst:\n",
            "        return None\n",
            "\n",
            "    # Find the largest number in the list.\n",
            "\n",
            "    largest = lst[0]\n",
            "    for number in lst:\n",
            "        if number > largest:\n",
            "            largest = number\n",
            "\n",
            "    # Find the second-largest number in the list.\n",
            "\n",
            "    second_largest = None\n",
            "    for number in lst:\n",
            "        if number != largest and (second_largest is None or number > second_largest):\n",
            "            second_largest = number\n",
            "\n",
            "    return second_largest\n",
            "```\n"
          ]
        }
      ],
      "source": [
        "cot_prompt = \"Write a Python function to find the Find the second-largest number in a list of integers. Let's think step by step\"\n",
        "\n",
        "response = get_gemini_completion(params, cot_prompt)\n",
        "\n",
        "print(\"Zero-Shot Chain of Thought Output:\\n\", response)\n"
      ]
    },
    {
      "cell_type": "code",
      "execution_count": 17,
      "id": "212234bc-418e-4e25-875f-611c4872a708",
      "metadata": {
        "colab": {
          "base_uri": "https://localhost:8080/",
          "height": 468
        },
        "id": "212234bc-418e-4e25-875f-611c4872a708",
        "outputId": "27f22ec1-77a8-4418-9cbf-2c5151e7b74c"
      },
      "outputs": [
        {
          "output_type": "stream",
          "name": "stdout",
          "text": [
            "Chain of Thought Output:\n",
            " ```python\n",
            "def find_second_largest(nums):\n",
            "  \"\"\"\n",
            "  Finds the second-largest number in a given list.\n",
            "\n",
            "  Parameters:\n",
            "    nums: A list of numbers.\n",
            "\n",
            "  Returns:\n",
            "    The second-largest number in nums, or None if no second-largest\n",
            "    number exists.\n",
            "  \"\"\"\n",
            "\n",
            "  # Find the largest number.\n",
            "  largest = max(nums)\n",
            "\n",
            "  # Ignore duplicates and find the second-largest number.\n",
            "  second_largest = None\n",
            "  for num in nums:\n",
            "    if num != largest and (second_largest is None or num > second_largest):\n",
            "      second_largest = num\n",
            "\n",
            "  # Return None if no second-largest exists.\n",
            "  return second_largest\n",
            "```\n"
          ]
        }
      ],
      "source": [
        "cot_custom_prompt =prompt = \"\"\"Write a Python function to find the second-largest number in a given list.\n",
        "\n",
        "Follow these steps:\n",
        "1. Identify the largest number.\n",
        "2. Ignore duplicates and find the second-largest number.\n",
        "3. Return None if no second-largest exists.\n",
        "\n",
        "Example 1:\n",
        "Input: [12, 35, 1, 10, 34, 1]\n",
        "Step 1: Largest number is 35.\n",
        "Step 2: Second-largest is 34.\n",
        "Output: 34\n",
        "\n",
        "Example 2:\n",
        "Input: [10, 10, 10]\n",
        "Step 1: Largest number is 10.\n",
        "Step 2: No second-largest exists.\n",
        "Output: None\n",
        "\n",
        "Now, write the function in Python.\n",
        "\"\"\"\n",
        "\n",
        "response = get_gemini_completion(params, cot_custom_prompt)\n",
        "\n",
        "print(\"Chain of Thought Output:\\n\", response)"
      ]
    },
    {
      "cell_type": "markdown",
      "source": [
        "**Findings:**\n",
        "\n",
        "\n",
        "\n",
        "1. Zero-Shot is unreliable for complex coding problems\n",
        "\n",
        "    * Often generates incomplete or incorrect code.\n",
        "    * Doesn't handle edge cases well.\n",
        "\n",
        "2. Few-Shot Learning significantly improves accuracy\n",
        "\n",
        "    * Examples guide the model to produce structured and correct code.\n",
        "    * Works well for standard problems but may still fail in complex logic.\n",
        "\n",
        "3. Zero-Shot Chain of Thought (CoT) improves reasoning\n",
        "\n",
        "    * When prompted to explain step-by-step, the model makes fewer mistakes.\n",
        "    * Still less effective than Few-Shot + CoT.\n",
        "\n",
        "4. Few-Shot + Chain of Thought (Best Performance)\n",
        "\n",
        "    * Combining examples + step-by-step reasoning produces the most accurate and robust code.\n",
        "    * Handles edge cases better and provides explanations.\n",
        "\n",
        "\n",
        "\n",
        "\n"
      ],
      "metadata": {
        "id": "2sspAxWr6mep"
      },
      "id": "2sspAxWr6mep"
    }
  ],
  "metadata": {
    "kernelspec": {
      "display_name": "Python [conda env:base] *",
      "language": "python",
      "name": "conda-base-py"
    },
    "language_info": {
      "codemirror_mode": {
        "name": "ipython",
        "version": 3
      },
      "file_extension": ".py",
      "mimetype": "text/x-python",
      "name": "python",
      "nbconvert_exporter": "python",
      "pygments_lexer": "ipython3",
      "version": "3.12.7"
    },
    "colab": {
      "provenance": []
    }
  },
  "nbformat": 4,
  "nbformat_minor": 5
}