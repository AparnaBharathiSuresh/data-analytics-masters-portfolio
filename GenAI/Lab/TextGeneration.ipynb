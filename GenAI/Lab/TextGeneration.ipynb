{
 "cells": [
  {
   "cell_type": "code",
   "execution_count": 1,
   "metadata": {},
   "outputs": [
    {
     "name": "stdout",
     "output_type": "stream",
     "text": [
      "Collecting matplotlib\n",
      "  Downloading matplotlib-3.10.1-cp310-cp310-manylinux_2_17_x86_64.manylinux2014_x86_64.whl.metadata (11 kB)\n",
      "Collecting contourpy>=1.0.1 (from matplotlib)\n",
      "  Downloading contourpy-1.3.1-cp310-cp310-manylinux_2_17_x86_64.manylinux2014_x86_64.whl.metadata (5.4 kB)\n",
      "Collecting cycler>=0.10 (from matplotlib)\n",
      "  Downloading cycler-0.12.1-py3-none-any.whl.metadata (3.8 kB)\n",
      "Collecting fonttools>=4.22.0 (from matplotlib)\n",
      "  Downloading fonttools-4.56.0-cp310-cp310-manylinux_2_17_x86_64.manylinux2014_x86_64.whl.metadata (101 kB)\n",
      "\u001b[2K     \u001b[90m━━━━━━━━━━━━━━━━━━━━━━━━━━━━━━━━━━━━━━\u001b[0m \u001b[32m101.9/101.9 kB\u001b[0m \u001b[31m10.6 MB/s\u001b[0m eta \u001b[36m0:00:00\u001b[0m\n",
      "\u001b[?25hCollecting kiwisolver>=1.3.1 (from matplotlib)\n",
      "  Downloading kiwisolver-1.4.8-cp310-cp310-manylinux_2_12_x86_64.manylinux2010_x86_64.whl.metadata (6.2 kB)\n",
      "Requirement already satisfied: numpy>=1.23 in /opt/conda/lib/python3.10/site-packages (from matplotlib) (1.26.2)\n",
      "Requirement already satisfied: packaging>=20.0 in /opt/conda/lib/python3.10/site-packages (from matplotlib) (23.1)\n",
      "Requirement already satisfied: pillow>=8 in /opt/conda/lib/python3.10/site-packages (from matplotlib) (10.0.1)\n",
      "Collecting pyparsing>=2.3.1 (from matplotlib)\n",
      "  Downloading pyparsing-3.2.1-py3-none-any.whl.metadata (5.0 kB)\n",
      "Requirement already satisfied: python-dateutil>=2.7 in /opt/conda/lib/python3.10/site-packages (from matplotlib) (2.8.2)\n",
      "Requirement already satisfied: six>=1.5 in /opt/conda/lib/python3.10/site-packages (from python-dateutil>=2.7->matplotlib) (1.16.0)\n",
      "Downloading matplotlib-3.10.1-cp310-cp310-manylinux_2_17_x86_64.manylinux2014_x86_64.whl (8.6 MB)\n",
      "\u001b[2K   \u001b[90m━━━━━━━━━━━━━━━━━━━━━━━━━━━━━━━━━━━━━━━━\u001b[0m \u001b[32m8.6/8.6 MB\u001b[0m \u001b[31m60.8 MB/s\u001b[0m eta \u001b[36m0:00:00\u001b[0m00:01\u001b[0m00:01\u001b[0m\n",
      "\u001b[?25hDownloading contourpy-1.3.1-cp310-cp310-manylinux_2_17_x86_64.manylinux2014_x86_64.whl (324 kB)\n",
      "\u001b[2K   \u001b[90m━━━━━━━━━━━━━━━━━━━━━━━━━━━━━━━━━━━━━━━━\u001b[0m \u001b[32m325.0/325.0 kB\u001b[0m \u001b[31m47.8 MB/s\u001b[0m eta \u001b[36m0:00:00\u001b[0m\n",
      "\u001b[?25hDownloading cycler-0.12.1-py3-none-any.whl (8.3 kB)\n",
      "Downloading fonttools-4.56.0-cp310-cp310-manylinux_2_17_x86_64.manylinux2014_x86_64.whl (4.6 MB)\n",
      "\u001b[2K   \u001b[90m━━━━━━━━━━━━━━━━━━━━━━━━━━━━━━━━━━━━━━━━\u001b[0m \u001b[32m4.6/4.6 MB\u001b[0m \u001b[31m60.3 MB/s\u001b[0m eta \u001b[36m0:00:00\u001b[0m00:01\u001b[0m00:01\u001b[0m\n",
      "\u001b[?25hDownloading kiwisolver-1.4.8-cp310-cp310-manylinux_2_12_x86_64.manylinux2010_x86_64.whl (1.6 MB)\n",
      "\u001b[2K   \u001b[90m━━━━━━━━━━━━━━━━━━━━━━━━━━━━━━━━━━━━━━━━\u001b[0m \u001b[32m1.6/1.6 MB\u001b[0m \u001b[31m56.3 MB/s\u001b[0m eta \u001b[36m0:00:00\u001b[0m\n",
      "\u001b[?25hDownloading pyparsing-3.2.1-py3-none-any.whl (107 kB)\n",
      "\u001b[2K   \u001b[90m━━━━━━━━━━━━━━━━━━━━━━━━━━━━━━━━━━━━━━━━\u001b[0m \u001b[32m107.7/107.7 kB\u001b[0m \u001b[31m20.3 MB/s\u001b[0m eta \u001b[36m0:00:00\u001b[0m\n",
      "\u001b[?25hInstalling collected packages: pyparsing, kiwisolver, fonttools, cycler, contourpy, matplotlib\n",
      "Successfully installed contourpy-1.3.1 cycler-0.12.1 fonttools-4.56.0 kiwisolver-1.4.8 matplotlib-3.10.1 pyparsing-3.2.1\n",
      "\u001b[33mWARNING: Running pip as the 'root' user can result in broken permissions and conflicting behaviour with the system package manager. It is recommended to use a virtual environment instead: https://pip.pypa.io/warnings/venv\u001b[0m\u001b[33m\n",
      "\u001b[0m"
     ]
    }
   ],
   "source": [
    "!pip install matplotlib"
   ]
  },
  {
   "cell_type": "code",
   "execution_count": 5,
   "metadata": {
    "id": "9C6Qa4hstcId"
   },
   "outputs": [],
   "source": [
    "import torch\n",
    "import torch.nn as nn\n",
    "import torch.optim as optim\n",
    "import torch.nn.functional as F\n",
    "import math\n",
    "import numpy as np\n",
    "import matplotlib.pyplot as plt\n",
    "from torch.utils.data import Dataset, DataLoader, random_split"
   ]
  },
  {
   "cell_type": "code",
   "execution_count": 6,
   "metadata": {
    "colab": {
     "base_uri": "https://localhost:8080/"
    },
    "id": "-GWK3r8Ltg46",
    "outputId": "a03e5d4e-aa70-43be-f85b-a1585646e54a"
   },
   "outputs": [
    {
     "name": "stdout",
     "output_type": "stream",
     "text": [
      "Using device: cuda\n"
     ]
    }
   ],
   "source": [
    "# Check if GPU is available\n",
    "device = torch.device(\"cuda\" if torch.cuda.is_available() else \"cpu\")\n",
    "print(\"Using device:\", device)\n"
   ]
  },
  {
   "cell_type": "markdown",
   "metadata": {
    "id": "Wc22BNGYyUB6"
   },
   "source": [
    "#Data Pre-processing"
   ]
  },
  {
   "cell_type": "code",
   "execution_count": 7,
   "metadata": {
    "id": "8syf2EZXtrEN"
   },
   "outputs": [],
   "source": [
    "# Load the dataset\n",
    "with open(\"input.txt\", \"r\", encoding=\"utf-8\") as f:\n",
    "    text = f.read()\n",
    "\n",
    "# Create a set of unique characters and build mappings\n",
    "unique_chars = sorted(set(text))\n",
    "vocab_size = len(unique_chars)\n",
    "char_to_idx = {ch: i for i, ch in enumerate(unique_chars)}\n",
    "idx_to_char = {i: ch for i, ch in enumerate(unique_chars)}\n",
    "\n",
    "# Convert the entire text to integer encoding\n",
    "encoded_text = [char_to_idx[ch] for ch in text]\n",
    "\n",
    "seq_length = 200\n",
    "\n",
    "class ShakespeareDataset(Dataset):\n",
    "    def __init__(self, data, seq_len):\n",
    "        super().__init__()\n",
    "        self.data = data\n",
    "        self.seq_len = seq_len\n",
    "\n",
    "    def __len__(self):\n",
    "        return len(self.data) - self.seq_len\n",
    "\n",
    "    def __getitem__(self, idx):\n",
    "        x_seq = self.data[idx : idx + self.seq_len]\n",
    "        y_seq = self.data[idx + 1 : idx + self.seq_len + 1]\n",
    "        return {\n",
    "            \"input\": torch.tensor(x_seq, dtype=torch.long),\n",
    "            \"target\": torch.tensor(y_seq, dtype=torch.long)\n",
    "        }\n",
    "\n",
    "dataset = ShakespeareDataset(encoded_text, seq_length)"
   ]
  },
  {
   "cell_type": "markdown",
   "metadata": {
    "id": "ZY6IerLtyLQ9"
   },
   "source": [
    "#Splitting Dataset for traing and testing"
   ]
  },
  {
   "cell_type": "code",
   "execution_count": 8,
   "metadata": {
    "colab": {
     "base_uri": "https://localhost:8080/"
    },
    "id": "jKNCOD7Btva1",
    "outputId": "ced3b176-fc5e-4f6b-cbf8-cd730282ddfc"
   },
   "outputs": [
    {
     "name": "stdout",
     "output_type": "stream",
     "text": [
      "Vocabulary size: 65\n",
      "Total dataset size: 1115194\n",
      "Train set size: 892155\n",
      "Validation set size: 223039\n"
     ]
    }
   ],
   "source": [
    "train_size = int(0.8 * len(dataset))\n",
    "val_size = len(dataset) - train_size\n",
    "train_dataset, val_dataset = random_split(dataset, [train_size, val_size])\n",
    "\n",
    "batch_size = 64\n",
    "train_dataloader = DataLoader(train_dataset, batch_size=batch_size, shuffle=True)\n",
    "val_dataloader = DataLoader(val_dataset, batch_size=batch_size, shuffle=False)\n",
    "\n",
    "print(\"Vocabulary size:\", vocab_size)\n",
    "print(\"Total dataset size:\", len(dataset))\n",
    "print(\"Train set size:\", len(train_dataset))\n",
    "print(\"Validation set size:\", len(val_dataset))"
   ]
  },
  {
   "cell_type": "markdown",
   "metadata": {
    "id": "ci7mAYOaxin7"
   },
   "source": [
    "#Multihead Self-Attention"
   ]
  },
  {
   "cell_type": "code",
   "execution_count": 9,
   "metadata": {
    "id": "HiAZAeuTuIR_"
   },
   "outputs": [],
   "source": [
    " #Multi-Head Self-Attention\n",
    "class MultiHeadSelfAttention(nn.Module):\n",
    "    def __init__(self, embed_dim, num_heads, dropout=0.1):\n",
    "        super().__init__()\n",
    "        self.embed_dim = embed_dim\n",
    "        self.num_heads = num_heads\n",
    "        self.head_dim = embed_dim // num_heads\n",
    "        assert self.head_dim * num_heads == embed_dim, \"embed_dim must be divisible by num_heads\"\n",
    "\n",
    "        self.q_linear = nn.Linear(embed_dim, embed_dim)\n",
    "        self.k_linear = nn.Linear(embed_dim, embed_dim)\n",
    "        self.v_linear = nn.Linear(embed_dim, embed_dim)\n",
    "        self.out_linear = nn.Linear(embed_dim, embed_dim)\n",
    "        self.dropout = nn.Dropout(dropout)\n",
    "\n",
    "    def forward(self, x):\n",
    "        batch_size, seq_length, embed_dim = x.size()\n",
    "        # Linear projections\n",
    "        Q = self.q_linear(x).view(batch_size, seq_length, self.num_heads, self.head_dim).transpose(1,2)\n",
    "        K = self.k_linear(x).view(batch_size, seq_length, self.num_heads, self.head_dim).transpose(1,2)\n",
    "        V = self.v_linear(x).view(batch_size, seq_length, self.num_heads, self.head_dim).transpose(1,2)\n",
    "\n",
    "        # Scaled dot-product attention\n",
    "        scores = torch.matmul(Q, K.transpose(-2, -1)) / math.sqrt(self.head_dim)\n",
    "\n",
    "        # Causal mask so each position only attends to previous positions\n",
    "        mask = torch.triu(torch.ones(seq_length, seq_length), diagonal=1).bool().to(x.device)\n",
    "        scores = scores.masked_fill(mask.unsqueeze(0).unsqueeze(0), float('-inf'))\n",
    "\n",
    "        attn = F.softmax(scores, dim=-1)\n",
    "        attn = self.dropout(attn)\n",
    "        context = torch.matmul(attn, V)\n",
    "        context = context.transpose(1,2).contiguous().view(batch_size, seq_length, embed_dim)\n",
    "        out = self.out_linear(context)\n",
    "        return out\n"
   ]
  },
  {
   "cell_type": "markdown",
   "metadata": {
    "id": "MAR6AHp7xpCG"
   },
   "source": [
    "#Feed Forward, Transformer Block and GPT model"
   ]
  },
  {
   "cell_type": "code",
   "execution_count": 10,
   "metadata": {
    "colab": {
     "base_uri": "https://localhost:8080/"
    },
    "id": "nM8ySWhlRvzk",
    "outputId": "aa3fc7fa-8535-4b63-dd28-1519cd8af7a1"
   },
   "outputs": [
    {
     "name": "stdout",
     "output_type": "stream",
     "text": [
      "GPTModel(\n",
      "  (embedding): Embedding(65, 128)\n",
      "  (blocks): ModuleList(\n",
      "    (0-5): 6 x TransformerBlock(\n",
      "      (attn): MultiHeadSelfAttention(\n",
      "        (q_linear): Linear(in_features=128, out_features=128, bias=True)\n",
      "        (k_linear): Linear(in_features=128, out_features=128, bias=True)\n",
      "        (v_linear): Linear(in_features=128, out_features=128, bias=True)\n",
      "        (out_linear): Linear(in_features=128, out_features=128, bias=True)\n",
      "        (dropout): Dropout(p=0.2, inplace=False)\n",
      "      )\n",
      "      (norm1): LayerNorm((128,), eps=1e-05, elementwise_affine=True)\n",
      "      (ffn): FeedForward(\n",
      "        (fc1): Linear(in_features=128, out_features=512, bias=True)\n",
      "        (activation): GELU(approximate='none')\n",
      "        (fc2): Linear(in_features=512, out_features=128, bias=True)\n",
      "        (dropout): Dropout(p=0.2, inplace=False)\n",
      "      )\n",
      "      (norm2): LayerNorm((128,), eps=1e-05, elementwise_affine=True)\n",
      "      (dropout): Dropout(p=0.2, inplace=False)\n",
      "    )\n",
      "  )\n",
      "  (ln_f): LayerNorm((128,), eps=1e-05, elementwise_affine=True)\n",
      "  (head): Linear(in_features=128, out_features=65, bias=True)\n",
      ")\n"
     ]
    }
   ],
   "source": [
    "# Feed Forward Network\n",
    "class FeedForward(nn.Module):\n",
    "    def __init__(self, embed_dim, hidden_dim, dropout=0.2):\n",
    "        super().__init__()\n",
    "        self.fc1 = nn.Linear(embed_dim, hidden_dim)\n",
    "        self.activation = nn.GELU()\n",
    "        self.fc2 = nn.Linear(hidden_dim, embed_dim)\n",
    "        self.dropout = nn.Dropout(dropout)\n",
    "\n",
    "    def forward(self, x):\n",
    "        x = self.fc1(x)\n",
    "        x = self.activation(x)\n",
    "        x = self.dropout(x)\n",
    "        x = self.fc2(x)\n",
    "        return x\n",
    "\n",
    "# Transformer Block\n",
    "class TransformerBlock(nn.Module):\n",
    "    def __init__(self, embed_dim, num_heads, hidden_dim, dropout=0.2):\n",
    "        super().__init__()\n",
    "        self.attn = MultiHeadSelfAttention(embed_dim, num_heads, dropout=dropout)\n",
    "        self.norm1 = nn.LayerNorm(embed_dim)\n",
    "        self.ffn = FeedForward(embed_dim, hidden_dim, dropout=dropout)\n",
    "        self.norm2 = nn.LayerNorm(embed_dim)\n",
    "        self.dropout = nn.Dropout(dropout)\n",
    "\n",
    "    def forward(self, x):\n",
    "        # Self-attention with residual connection\n",
    "        x = x + self.dropout(self.attn(self.norm1(x)))\n",
    "        # Feed-forward network with residual connection\n",
    "        x = x + self.dropout(self.ffn(self.norm2(x)))\n",
    "        return x\n",
    "\n",
    "# Full GPT Model\n",
    "class GPTModel(nn.Module):\n",
    "    def __init__(self, vocab_size, embed_dim, num_heads, hidden_dim, num_layers, max_seq_length, dropout=0.2):\n",
    "        super().__init__()\n",
    "        self.embedding = nn.Embedding(vocab_size, embed_dim)\n",
    "        self.pos_embedding = nn.Parameter(torch.zeros(1, max_seq_length, embed_dim))\n",
    "\n",
    "        self.blocks = nn.ModuleList([\n",
    "            TransformerBlock(embed_dim, num_heads, hidden_dim, dropout=dropout)\n",
    "            for _ in range(num_layers)\n",
    "        ])\n",
    "        self.ln_f = nn.LayerNorm(embed_dim)\n",
    "        self.head = nn.Linear(embed_dim, vocab_size)\n",
    "\n",
    "    def forward(self, x):\n",
    "        batch_size, seq_length = x.size()\n",
    "        token_embeddings = self.embedding(x)\n",
    "        pos_embeddings = self.pos_embedding[:, :seq_length, :]\n",
    "        x = token_embeddings + pos_embeddings\n",
    "        for block in self.blocks:\n",
    "            x = block(x)\n",
    "        x = self.ln_f(x)\n",
    "        logits = self.head(x)\n",
    "        return logits\n",
    "\n",
    "# Model Hyperparameters (adjust as desired)\n",
    "embed_dim = 128\n",
    "num_heads = 8\n",
    "hidden_dim = 512\n",
    "num_layers = 6\n",
    "dropout = 0.2\n",
    "\n",
    "model = GPTModel(\n",
    "    vocab_size=vocab_size,\n",
    "    embed_dim=embed_dim,\n",
    "    num_heads=num_heads,\n",
    "    hidden_dim=hidden_dim,\n",
    "    num_layers=num_layers,\n",
    "    max_seq_length=seq_length,\n",
    "    dropout=dropout\n",
    ").to(device)\n",
    "\n",
    "print(model)"
   ]
  },
  {
   "cell_type": "markdown",
   "metadata": {
    "id": "cmlCATWpx3Bq"
   },
   "source": [
    "#Warmup step and Training Loop"
   ]
  },
  {
   "cell_type": "code",
   "execution_count": 11,
   "metadata": {
    "colab": {
     "base_uri": "https://localhost:8080/"
    },
    "id": "w-GpOt3fuUfw",
    "outputId": "e90d3adf-6419-40b0-b1c1-4884e74417c7"
   },
   "outputs": [
    {
     "name": "stdout",
     "output_type": "stream",
     "text": [
      "Epoch 1/25 | Train Loss: 1.7073 | Val Loss: 1.2980\n",
      "Epoch 2/25 | Train Loss: 1.3680 | Val Loss: 1.2072\n",
      "Epoch 3/25 | Train Loss: 1.3094 | Val Loss: 1.1647\n",
      "Epoch 4/25 | Train Loss: 1.2782 | Val Loss: 1.1368\n",
      "Epoch 5/25 | Train Loss: 1.2571 | Val Loss: 1.1182\n",
      "Epoch 6/25 | Train Loss: 1.2415 | Val Loss: 1.1009\n",
      "Epoch 7/25 | Train Loss: 1.2291 | Val Loss: 1.0867\n",
      "Epoch 8/25 | Train Loss: 1.2189 | Val Loss: 1.0756\n",
      "Epoch 9/25 | Train Loss: 1.2104 | Val Loss: 1.0656\n",
      "Epoch 10/25 | Train Loss: 1.2032 | Val Loss: 1.0575\n",
      "Epoch 11/25 | Train Loss: 1.1968 | Val Loss: 1.0505\n",
      "Epoch 12/25 | Train Loss: 1.1913 | Val Loss: 1.0440\n",
      "Epoch 13/25 | Train Loss: 1.1865 | Val Loss: 1.0389\n",
      "Epoch 14/25 | Train Loss: 1.1822 | Val Loss: 1.0334\n",
      "Epoch 15/25 | Train Loss: 1.1783 | Val Loss: 1.0289\n",
      "Epoch 16/25 | Train Loss: 1.1749 | Val Loss: 1.0233\n",
      "Epoch 17/25 | Train Loss: 1.1716 | Val Loss: 1.0189\n",
      "Epoch 18/25 | Train Loss: 1.1686 | Val Loss: 1.0168\n",
      "Epoch 19/25 | Train Loss: 1.1658 | Val Loss: 1.0137\n",
      "Epoch 20/25 | Train Loss: 1.1633 | Val Loss: 1.0098\n",
      "Epoch 21/25 | Train Loss: 1.1608 | Val Loss: 1.0067\n",
      "Epoch 22/25 | Train Loss: 1.1587 | Val Loss: 1.0050\n",
      "Epoch 23/25 | Train Loss: 1.1567 | Val Loss: 1.0012\n",
      "Epoch 24/25 | Train Loss: 1.1547 | Val Loss: 0.9979\n",
      "Epoch 25/25 | Train Loss: 1.1528 | Val Loss: 0.9960\n",
      "Model saved successfully!\n"
     ]
    }
   ],
   "source": [
    "# Define loss and optimizer\n",
    "loss_fn = nn.CrossEntropyLoss()\n",
    "initial_lr = 3e-4\n",
    "optimizer = optim.Adam(model.parameters(), lr=initial_lr, weight_decay=1e-5)  # weight decay for regularization\n",
    "\n",
    "# Learning rate scheduler with warm-up\n",
    "warmup_steps = 1000\n",
    "scheduler = optim.lr_scheduler.LambdaLR(optimizer, lr_lambda=lambda step: min((step+1)/warmup_steps, 1))\n",
    "\n",
    "num_epochs = 25\n",
    "train_losses = []\n",
    "val_losses = []\n",
    "\n",
    "for epoch in range(num_epochs):\n",
    "    model.train()\n",
    "    epoch_loss = 0\n",
    "    for batch in train_dataloader:\n",
    "        inputs_batch = batch[\"input\"].to(device)\n",
    "        targets_batch = batch[\"target\"].to(device)\n",
    "\n",
    "        optimizer.zero_grad()\n",
    "\n",
    "        # logits shape: [batch_size, seq_length, vocab_size]\n",
    "        logits = model(inputs_batch)\n",
    "\n",
    "        # Compute loss across *all* positions in the sequence\n",
    "        # Flatten: (batch*seq_length, vocab_size) vs (batch*seq_length)\n",
    "        loss = loss_fn(\n",
    "            logits.view(-1, vocab_size),\n",
    "            targets_batch.view(-1)\n",
    "        )\n",
    "\n",
    "        loss.backward()\n",
    "        optimizer.step()\n",
    "        scheduler.step()\n",
    "\n",
    "        epoch_loss += loss.item()\n",
    "\n",
    "    avg_train_loss = epoch_loss / len(train_dataloader)\n",
    "    train_losses.append(avg_train_loss)\n",
    "\n",
    "    # Validation\n",
    "    model.eval()\n",
    "    val_loss = 0\n",
    "    with torch.no_grad():\n",
    "        for batch in val_dataloader:\n",
    "            inputs_batch = batch[\"input\"].to(device)\n",
    "            targets_batch = batch[\"target\"].to(device)\n",
    "\n",
    "            logits = model(inputs_batch)\n",
    "            loss = loss_fn(\n",
    "                logits.view(-1, vocab_size),\n",
    "                targets_batch.view(-1)\n",
    "            )\n",
    "            val_loss += loss.item()\n",
    "    avg_val_loss = val_loss / len(val_dataloader)\n",
    "    val_losses.append(avg_val_loss)\n",
    "\n",
    "    print(f\"Epoch {epoch+1}/{num_epochs} | Train Loss: {avg_train_loss:.4f} | Val Loss: {avg_val_loss:.4f}\")\n",
    "\n",
    "\n",
    "# Save the model\n",
    "torch.save(model.state_dict(), \"gpt_model.pth\")\n",
    "print(\"Model saved successfully!\")\n"
   ]
  },
  {
   "cell_type": "markdown",
   "metadata": {
    "id": "40raZZ7Mx9Yr"
   },
   "source": [
    "#Text Generation"
   ]
  },
  {
   "cell_type": "code",
   "execution_count": 14,
   "metadata": {
    "colab": {
     "base_uri": "https://localhost:8080/"
    },
    "id": "mARQU6Qtr6ZR",
    "outputId": "bd63e775-2e0b-4ac4-9831-2abe2ae5a1f4"
   },
   "outputs": [
    {
     "name": "stdout",
     "output_type": "stream",
     "text": [
      "\n",
      "Generated Text:\n",
      "\n",
      "MARCIUS:\n",
      " Here: what's the matter?\n",
      "Messenger:\n",
      "The news is, sir, the Volsces are in arms.\n",
      "\n",
      "CORIOLANUS:\n",
      "For this is he like the law and his child.\n",
      "\n",
      "BRUTUS:\n",
      "One that the people would displease him to do\n",
      "with perform this office of the people.\n",
      "\n",
      "VOLUMNIA:\n",
      "You have made nothing.\n",
      "\n",
      "VOLUMNIA:\n",
      "But I thank you, sir, how you are a bigger.\n",
      "\n",
      "CORIOLANUS:\n",
      "If I had made them say the man's face,\n",
      "And he to the poor soul of it.\n",
      "\n",
      "VOLUMNIA:\n",
      "I thank you, good day.\n",
      "\n",
      "VIRGILIA:\n",
      "I pray you, good madam.\n",
      "\n",
      "VOLUMN\n"
     ]
    }
   ],
   "source": [
    "def generate_text(model, start_text, length, temperature=0.5):\n",
    "    model.eval()\n",
    "    input_seq = torch.tensor([char_to_idx[c] for c in start_text], dtype=torch.long).unsqueeze(0).to(device)\n",
    "    generated = start_text\n",
    "    for _ in range(length):\n",
    "        logits = model(input_seq)\n",
    "        next_logits = logits[:, -1, :] / temperature\n",
    "        probabilities = F.softmax(next_logits, dim=-1)\n",
    "        next_char_idx = torch.multinomial(probabilities, num_samples=1).item()\n",
    "        generated += idx_to_char[next_char_idx]\n",
    "        # Append new char and keep only the last seq_length tokens if desired\n",
    "        input_seq = torch.cat([input_seq, torch.tensor([[next_char_idx]], dtype=torch.long).to(device)], dim=1)\n",
    "        if input_seq.size(1) > seq_length:\n",
    "            input_seq = input_seq[:, -seq_length:]\n",
    "    return generated\n",
    "\n",
    "# Generate sample text after training\n",
    "seed_text = \"MARCIUS:\\n Here: what's the matter?\\nMessenger:\\nThe news is, sir, the Volsces are in arms.\"\n",
    "\n",
    "\n",
    "generated_text = generate_text(model, seed_text, length=400, temperature=0.6)\n",
    "print(\"\\nGenerated Text:\\n\")\n",
    "print(generated_text)"
   ]
  },
  {
   "cell_type": "markdown",
   "metadata": {
    "id": "fuf8Lx1ByB8E"
   },
   "source": [
    "#Training VS Validation Loss"
   ]
  },
  {
   "cell_type": "code",
   "execution_count": 15,
   "metadata": {
    "colab": {
     "base_uri": "https://localhost:8080/",
     "height": 487
    },
    "id": "XwOVBcC-ua8y",
    "outputId": "11b7ab13-7942-419f-bddb-1875b04d68d8"
   },
   "outputs": [
    {
     "data": {
      "image/png": "[encoded data removed]",
      "text/plain": [
       "<Figure size 800x500 with 1 Axes>"
      ]
     },
     "metadata": {},
     "output_type": "display_data"
    }
   ],
   "source": [
    "plt.figure(figsize=(8, 5))\n",
    "plt.plot(train_losses, label=\"Train Loss\")\n",
    "plt.plot(val_losses, label=\"Validation Loss\")\n",
    "plt.xlabel(\"Epoch\")\n",
    "plt.ylabel(\"Loss\")\n",
    "plt.title(\"Train vs Validation Loss\")\n",
    "plt.legend()\n",
    "plt.show()\n"
   ]
  },
  {
   "cell_type": "code",
   "execution_count": null,
   "metadata": {
    "id": "aaXk_zYi-B9M"
   },
   "outputs": [],
   "source": []
  }
 ],
 "metadata": {
  "accelerator": "GPU",
  "colab": {
   "gpuType": "A100",
   "machine_shape": "hm",
   "provenance": []
  },
  "kernelspec": {
   "display_name": "Python 3 (ipykernel)",
   "language": "python",
   "name": "python3"
  },
  "language_info": {
   "codemirror_mode": {
    "name": "ipython",
    "version": 3
   },
   "file_extension": ".py",
   "mimetype": "text/x-python",
   "name": "python",
   "nbconvert_exporter": "python",
   "pygments_lexer": "ipython3",
   "version": "3.10.13"
  }
 },
 "nbformat": 4,
 "nbformat_minor": 4
}
